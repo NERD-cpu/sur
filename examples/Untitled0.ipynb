{
 "metadata": {
  "name": ""
 },
 "nbformat": 3,
 "nbformat_minor": 0,
 "worksheets": [
  {
   "cells": [
    {
     "cell_type": "code",
     "collapsed": false,
     "input": [
      "from sur.models import *"
     ],
     "language": "python",
     "metadata": {},
     "outputs": [],
     "prompt_number": 1
    },
    {
     "cell_type": "code",
     "collapsed": false,
     "input": [
      "m = Mixture()\n",
      "m.add_many(\"methane co2 n-decane\", \"0.25 0.50 0.25\")"
     ],
     "language": "python",
     "metadata": {},
     "outputs": [],
     "prompt_number": 2
    },
    {
     "cell_type": "code",
     "collapsed": false,
     "input": [
      "m.set_interaction('rkpr', 'kij', 'methane', 'co2', .1)\n",
      "m.set_interaction('rkpr', 'kij', 'co2', 'n-decane',  0.091)\n",
      "m.set_interaction('rkpr', 'lij', 'co2', 'n-decane',  -0.90)"
     ],
     "language": "python",
     "metadata": {},
     "outputs": [],
     "prompt_number": 3
    },
    {
     "cell_type": "code",
     "collapsed": false,
     "input": [
      "env = m.get_envelope('rkpr')"
     ],
     "language": "python",
     "metadata": {},
     "outputs": [],
     "prompt_number": 4
    },
    {
     "cell_type": "code",
     "collapsed": false,
     "input": [
      "print env.get_txt()"
     ],
     "language": "python",
     "metadata": {},
     "outputs": [
      {
       "output_type": "stream",
       "stream": "stdout",
       "text": [
        "3\t\tNC\r\n",
        "0.25  0.5  0.25  \t\tz1,z2...zNC\r\n",
        "3\t\t\t\tNMODEL (1:SRK / 2:PR / 3:RKPR)\r\n",
        "0  0\t\t\tncomb, nTdep\r\n",
        "METHANE(1)\r\n",
        "190.564  45.99 0.0115478  0.115530596405 1.16          tc, pc, ohm, vc, zrat\r\n",
        "2.32129343897   0.0300878764435   0.85   1.50757314364\t\tac, b, delta1, k\r\n",
        "CARBON DIOXIDE(2)\r\n",
        "304.21  73.83 0.223621  0.109039999995 1.16          tc, pc, ohm, vc, zrat\r\n",
        "3.85211219359   0.027914651867   1.85325193495   2.20290185161\t\tac, b, delta1, k\r\n",
        "0.1 \t\tkij\r\n",
        "0.0 \t\tlij\r\n",
        "n-DECANE(3)\r\n",
        "617.7  21.1 0.492328  0.767799696228 1.16          tc, pc, ohm, vc, zrat\r\n",
        "55.9826504851   0.195979107067   2.0   3.17835126584\t\tac, b, delta1, k\r\n",
        "0.0   0.091 \t\tkij\r\n",
        "0.0   -0.9 \t\tlij\r\n",
        "\r\n",
        "\n"
       ]
      }
     ],
     "prompt_number": 5
    },
    {
     "cell_type": "code",
     "collapsed": false,
     "input": [
      "env.plot()"
     ],
     "language": "python",
     "metadata": {},
     "outputs": [
      {
       "metadata": {},
       "output_type": "pyout",
       "prompt_number": 6,
       "text": [
        "<matplotlib.figure.Figure at 0x50bec10>"
       ]
      }
     ],
     "prompt_number": 6
    },
    {
     "cell_type": "code",
     "collapsed": false,
     "input": [
      "%matplotlib inline"
     ],
     "language": "python",
     "metadata": {},
     "outputs": [],
     "prompt_number": 7
    },
    {
     "cell_type": "code",
     "collapsed": false,
     "input": [
      "env.plot()"
     ],
     "language": "python",
     "metadata": {},
     "outputs": [
      {
       "metadata": {},
       "output_type": "pyout",
       "png": "[encoded data removed]",
       "prompt_number": 8,
       "text": [
        "<matplotlib.figure.Figure at 0x5271290>"
       ]
      },
      {
       "metadata": {},
       "output_type": "display_data",
       "png": "[encoded data removed]",
       "text": [
        "<matplotlib.figure.Figure at 0x5271290>"
       ]
      }
     ],
     "prompt_number": 8
    },
    {
     "cell_type": "code",
     "collapsed": false,
     "input": [],
     "language": "python",
     "metadata": {},
     "outputs": []
    }
   ],
   "metadata": {}
  }
 ]
}