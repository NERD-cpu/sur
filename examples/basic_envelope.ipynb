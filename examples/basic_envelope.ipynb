{
 "metadata": {
  "name": "",
  "signature": "sha256:b7c0f9a44131051b8a2d00026a80fb72c4f5740e4d1219ca84e36b15b13002d8"
 },
 "nbformat": 3,
 "nbformat_minor": 0,
 "worksheets": [
  {
   "cells": [
    {
     "cell_type": "markdown",
     "metadata": {},
     "source": [
      "## Configuraci\u00f3n general\n",
      "\n",
      "Esto es configuraci\u00f3n general de IPython"
     ]
    },
    {
     "cell_type": "code",
     "collapsed": false,
     "input": [
      "%config InlineBackend.close_figures=False\n",
      "%matplotlib inline\n",
      "from matplotlib import interactive\n",
      "interactive(False)"
     ],
     "language": "python",
     "metadata": {},
     "outputs": [],
     "prompt_number": 1
    },
    {
     "cell_type": "markdown",
     "metadata": {},
     "source": [
      "Luego importamos todo las \"clases\" que provee la librer\u00eda `sur`"
     ]
    },
    {
     "cell_type": "code",
     "collapsed": false,
     "input": [
      "from sur import *\n",
      "m = Mixture()"
     ],
     "language": "python",
     "metadata": {},
     "outputs": [],
     "prompt_number": 2
    },
    {
     "cell_type": "heading",
     "level": 2,
     "metadata": {},
     "source": [
      "Definici\u00f3n de la mezcla"
     ]
    },
    {
     "cell_type": "code",
     "collapsed": false,
     "input": [
      "mi_mezcla = Mixture(name=\"tal cosa\")\n",
      "mi_mezcla.add('methane', .4) \n",
      "mi_mezcla['ethane'] = .3\n",
      "mi_mezcla['co2'] = .2002\n",
      "mi_mezcla.add('water')\n",
      "\n",
      "mi_mezcla.compounds\n"
     ],
     "language": "python",
     "metadata": {},
     "outputs": [
      {
       "metadata": {},
       "output_type": "pyout",
       "prompt_number": 3,
       "text": [
        "[<Compound: METHANE>, <Compound: ETHANE>, <Compound: CARBON DIOXIDE>, <Compound: WATER>]"
       ]
      }
     ],
     "prompt_number": 3
    },
    {
     "cell_type": "code",
     "collapsed": false,
     "input": [
      "mi_mezcla.sort(True)   # ordena por peso"
     ],
     "language": "python",
     "metadata": {},
     "outputs": [],
     "prompt_number": 4
    },
    {
     "cell_type": "code",
     "collapsed": false,
     "input": [
      "mi_mezcla.compounds"
     ],
     "language": "python",
     "metadata": {},
     "outputs": [
      {
       "metadata": {},
       "output_type": "pyout",
       "prompt_number": 5,
       "text": [
        "[<Compound: METHANE>, <Compound: WATER>, <Compound: ETHANE>, <Compound: CARBON DIOXIDE>]"
       ]
      }
     ],
     "prompt_number": 5
    },
    {
     "cell_type": "heading",
     "level": 2,
     "metadata": {},
     "source": [
      "Definici\u00f3n de la configuraci\u00f3n (RKPR)"
     ]
    },
    {
     "cell_type": "code",
     "collapsed": false,
     "input": [
      "setup = EosSetup.objects.create(eos='PR', kij_mode=EosSetup.CONSTANTS,  lij_mode=EosSetup.ZERO)\n",
      "setup.set_interaction('kij', 'methane', 'co2', .1)\n",
      "setup.set_interaction('kij', 'co2', 'n-decane',  0.091)\n",
      "setup.set_interaction('lij', 'co2', 'n-decane',  -0.90)\n",
      "\n"
     ],
     "language": "python",
     "metadata": {},
     "outputs": [
      {
       "metadata": {},
       "output_type": "pyout",
       "prompt_number": 6,
       "text": [
        "<LijInteractionParameter: LijInteractionParameter object>"
       ]
      }
     ],
     "prompt_number": 6
    },
    {
     "cell_type": "code",
     "collapsed": false,
     "input": [
      "matriz = \"\"\"0. .2 .3 .4\n",
      "0 0 -.1 .2\n",
      "0 0 -.3 .12\n",
      "0 0 -.12 .21\"\"\"\n"
     ],
     "language": "python",
     "metadata": {},
     "outputs": [],
     "prompt_number": 7
    },
    {
     "cell_type": "markdown",
     "metadata": {},
     "source": [
      "Podemos ver como van quedando nuestras matrices de interacci\u00f3n para la mezcla `m`"
     ]
    },
    {
     "cell_type": "code",
     "collapsed": false,
     "input": [
      "setup.set_interaction_matrix('kij', mi_mezcla, matriz)"
     ],
     "language": "python",
     "metadata": {},
     "outputs": [],
     "prompt_number": 8
    },
    {
     "cell_type": "code",
     "collapsed": false,
     "input": [
      "setup.kij(mi_mezcla)"
     ],
     "language": "python",
     "metadata": {},
     "outputs": [
      {
       "metadata": {},
       "output_type": "pyout",
       "prompt_number": 9,
       "text": [
        "array([[ 0.  ,  0.2 ,  0.3 ,  0.4 ],\n",
        "       [ 0.2 ,  0.  , -0.1 ,  0.2 ],\n",
        "       [ 0.3 , -0.1 ,  0.  ,  0.12],\n",
        "       [ 0.4 ,  0.2 ,  0.12,  0.  ]])"
       ]
      }
     ],
     "prompt_number": 9
    },
    {
     "cell_type": "markdown",
     "metadata": {},
     "source": [
      "## Simulaci\u00f3n de la envolvente para la mezcla con la configuraci\u00f3n dada\n",
      "\n",
      "Para simular una envolvente se llama al m\u00e9todo `get_envelope` de la mezcla con una configuraci\u00f3n"
     ]
    },
    {
     "cell_type": "code",
     "collapsed": false,
     "input": [
      "env = mi_mezcla.get_envelope(setup)\n"
     ],
     "language": "python",
     "metadata": {},
     "outputs": [
      {
       "output_type": "stream",
       "stream": "stderr",
       "text": [
        "WARNING:py.warnings:/home/tin/.virtualenvs/envelope/local/lib/python2.7/site-packages/numpy/lib/npyio.py:795: UserWarning: loadtxt: Empty input file: \"<cStringIO.StringI object at 0x174a780>\"\n",
        "  warnings.warn('loadtxt: Empty input file: \"%s\"' % fname)\n",
        "\n"
       ]
      }
     ],
     "prompt_number": 10
    },
    {
     "cell_type": "markdown",
     "metadata": {},
     "source": [
      "en `env` (variable) tenemos la envolvente. Podemos consultar, por ejemplo, sus atributos temperatura, presi\u00f3n, etc.\n",
      "\n",
      "\n",
      "\n"
     ]
    },
    {
     "cell_type": "code",
     "collapsed": false,
     "input": [
      "env.p"
     ],
     "language": "python",
     "metadata": {},
     "outputs": [
      {
       "metadata": {},
       "output_type": "pyout",
       "prompt_number": 11,
       "text": [
        "array([  3.78700000e-02,   4.11900000e-02,   5.35900000e-02,\n",
        "         6.95100000e-02,   8.98700000e-02,   1.15800000e-01,\n",
        "         1.48800000e-01,   1.90500000e-01,   2.43100000e-01,\n",
        "         3.09300000e-01,   3.92200000e-01,   4.95800000e-01,\n",
        "         6.24800000e-01,   7.84700000e-01,   9.82600000e-01,\n",
        "         1.22600000e+00,   1.52600000e+00,   1.89300000e+00,\n",
        "         2.34100000e+00,   2.88600000e+00,   3.54800000e+00,\n",
        "         4.34900000e+00,   5.31500000e+00,   6.47800000e+00,\n",
        "         7.87400000e+00,   9.54600000e+00,   1.15400000e+01,\n",
        "         1.39300000e+01,   1.67600000e+01,   2.01300000e+01,\n",
        "         2.41300000e+01,   2.88800000e+01,   3.45200000e+01,\n",
        "         4.12200000e+01,   4.91800000e+01,   5.86900000e+01,\n",
        "         7.01000000e+01,   8.38800000e+01,   1.00700000e+02,\n",
        "         1.21600000e+02,   1.48200000e+02,   1.83400000e+02,\n",
        "         2.33000000e+02,   2.94200000e+02,   3.73400000e+02,\n",
        "         4.76300000e+02,   6.10600000e+02,   7.86600000e+02,\n",
        "         1.01800000e+03,   1.32500000e+03])"
       ]
      }
     ],
     "prompt_number": 11
    },
    {
     "cell_type": "heading",
     "level": 2,
     "metadata": {},
     "source": [
      "Graficaci\u00f3n de envolventes"
     ]
    },
    {
     "cell_type": "code",
     "collapsed": false,
     "input": [
      "fig = env.plot()\n",
      "fig"
     ],
     "language": "python",
     "metadata": {},
     "outputs": [
      {
       "metadata": {},
       "output_type": "pyout",
       "png": "[encoded data removed]",
       "prompt_number": 14,
       "text": [
        "<matplotlib.figure.Figure at 0x511ed50>"
       ]
      }
     ],
     "prompt_number": 14
    },
    {
     "cell_type": "code",
     "collapsed": false,
     "input": [
      "multiplot??"
     ],
     "language": "python",
     "metadata": {},
     "outputs": [],
     "prompt_number": 18
    },
    {
     "cell_type": "markdown",
     "metadata": {},
     "source": [
      "La figura puede manipularse a posteriori. Por ejemplo"
     ]
    },
    {
     "cell_type": "code",
     "collapsed": false,
     "input": [
      "ax = fig.get_axes()[0]\n",
      "ax.set_yticks([0] + ax.get_yticks()[1:])\n",
      "fig"
     ],
     "language": "python",
     "metadata": {},
     "outputs": [
      {
       "metadata": {},
       "output_type": "pyout",
       "png": "[encoded data removed]",
       "prompt_number": 40,
       "text": [
        "<matplotlib.figure.Figure at 0x5715fd0>"
       ]
      }
     ],
     "prompt_number": 40
    },
    {
     "cell_type": "code",
     "collapsed": false,
     "input": [
      "ax.set_ylim((-50/3, 250))\n",
      "fig"
     ],
     "language": "python",
     "metadata": {},
     "outputs": [
      {
       "ename": "NameError",
       "evalue": "name 'ax' is not defined",
       "output_type": "pyerr",
       "traceback": [
        "\u001b[1;31m---------------------------------------------------------------------------\u001b[0m\n\u001b[1;31mNameError\u001b[0m                                 Traceback (most recent call last)",
        "\u001b[1;32m<ipython-input-12-c10509e1cae1>\u001b[0m in \u001b[0;36m<module>\u001b[1;34m()\u001b[0m\n\u001b[1;32m----> 1\u001b[1;33m \u001b[0max\u001b[0m\u001b[1;33m.\u001b[0m\u001b[0mset_ylim\u001b[0m\u001b[1;33m(\u001b[0m\u001b[1;33m(\u001b[0m\u001b[1;33m-\u001b[0m\u001b[1;36m50\u001b[0m\u001b[1;33m/\u001b[0m\u001b[1;36m3\u001b[0m\u001b[1;33m,\u001b[0m \u001b[1;36m250\u001b[0m\u001b[1;33m)\u001b[0m\u001b[1;33m)\u001b[0m\u001b[1;33m\u001b[0m\u001b[0m\n\u001b[0m\u001b[0;32m      2\u001b[0m \u001b[0mfig\u001b[0m\u001b[1;33m\u001b[0m\u001b[0m\n",
        "\u001b[1;31mNameError\u001b[0m: name 'ax' is not defined"
       ]
      }
     ],
     "prompt_number": 12
    },
    {
     "cell_type": "markdown",
     "metadata": {},
     "source": [
      "Pero tambi\u00e9n, acepta algunos par\u00e1metros de configuraci\u00f3n en la llamada. Por ejemplo, el par\u00e1metro `format` permite definir el estilo"
     ]
    },
    {
     "cell_type": "code",
     "collapsed": false,
     "input": [
      "env.plot(format='k')   # envolvente en linea negra continua"
     ],
     "language": "python",
     "metadata": {},
     "outputs": [
      {
       "metadata": {},
       "output_type": "pyout",
       "png": "[encoded data removed]",
       "prompt_number": 11,
       "text": [
        "<matplotlib.figure.Figure at 0x51049d0>"
       ]
      }
     ],
     "prompt_number": 11
    },
    {
     "cell_type": "code",
     "collapsed": false,
     "input": [
      "env.plot(critical_point='^', format='|y')    # envolvente en amarillo punteado y punto critico como un triangulo"
     ],
     "language": "python",
     "metadata": {},
     "outputs": [
      {
       "metadata": {},
       "output_type": "pyout",
       "png": "[encoded data removed]",
       "prompt_number": 15,
       "text": [
        "<matplotlib.figure.Figure at 0x3674e90>"
       ]
      }
     ],
     "prompt_number": 15
    },
    {
     "cell_type": "markdown",
     "metadata": {},
     "source": [
      "## Datos experimentales\n",
      "\n",
      "Se pueden asociar datos experimentales de una envolvente a una mezcla a traves de `experimental_envelope`. Por ejemplo, a modo de ejemplo, alteramos los datos de la envolvente calculada a modo de datos experimentales."
     ]
    },
    {
     "cell_type": "code",
     "collapsed": false,
     "input": [
      "n = env.p.size\n",
      "\n",
      "p = env.p[np.arange(0, n, 7)]  * 1.1\n",
      "t = env.t[np.arange(0, n, 7)]\n",
      "exp_env = m.experimental_envelope(t, p)\n",
      "exp_fig = exp_env.plot()\n",
      "exp_fig"
     ],
     "language": "python",
     "metadata": {},
     "outputs": [
      {
       "metadata": {},
       "output_type": "pyout",
       "png": "[encoded data removed]",
       "prompt_number": 13,
       "text": [
        "<matplotlib.figure.Figure at 0x54b3290>"
       ]
      }
     ],
     "prompt_number": 13
    },
    {
     "cell_type": "markdown",
     "metadata": {},
     "source": [
      "Los graficos pueden encadenarse. Por ejemplo, podemos graficar la envolvente simulada y nuestra envolvente *experimental*"
     ]
    },
    {
     "cell_type": "code",
     "collapsed": false,
     "input": [
      "env.plot(exp_fig)"
     ],
     "language": "python",
     "metadata": {},
     "outputs": [
      {
       "metadata": {},
       "output_type": "pyout",
       "png": "[encoded data removed]",
       "prompt_number": 14,
       "text": [
        "<matplotlib.figure.Figure at 0x54b3290>"
       ]
      }
     ],
     "prompt_number": 14
    },
    {
     "cell_type": "markdown",
     "metadata": {},
     "source": [
      "## C\u00e1lculo de flashes\n",
      "\n",
      "Un flash se representa como un objeto que produce dos mezclas con los mismos compuestos que la mezcla de entrada pero distinta fraccion. "
     ]
    },
    {
     "cell_type": "code",
     "collapsed": false,
     "input": [
      "flash = m.get_flash(setup, 400, 100)"
     ],
     "language": "python",
     "metadata": {},
     "outputs": [],
     "prompt_number": 18
    },
    {
     "cell_type": "code",
     "collapsed": false,
     "input": [
      "flash.vapour_mixture"
     ],
     "language": "python",
     "metadata": {},
     "outputs": [
      {
       "metadata": {},
       "output_type": "pyout",
       "prompt_number": 19,
       "text": [
        "[(<Compound: METHANE>, Decimal('0.338')), (<Compound: CARBON DIOXIDE>, Decimal('0.6482')), (<Compound: n-DECANE>, Decimal('0.0138'))]"
       ]
      }
     ],
     "prompt_number": 19
    },
    {
     "cell_type": "code",
     "collapsed": false,
     "input": [
      "flash.liquid_mixture.z"
     ],
     "language": "python",
     "metadata": {},
     "outputs": [
      {
       "metadata": {},
       "output_type": "pyout",
       "prompt_number": 20,
       "text": [
        "array([ 0.1497,  0.331 ,  0.5193])"
       ]
      }
     ],
     "prompt_number": 20
    },
    {
     "cell_type": "markdown",
     "metadata": {},
     "source": [
      "O, lo que es lo mismo"
     ]
    },
    {
     "cell_type": "code",
     "collapsed": false,
     "input": [
      "flash.x"
     ],
     "language": "python",
     "metadata": {},
     "outputs": [
      {
       "metadata": {},
       "output_type": "pyout",
       "prompt_number": 21,
       "text": [
        "array([ 0.1497,  0.331 ,  0.5193])"
       ]
      }
     ],
     "prompt_number": 21
    },
    {
     "cell_type": "markdown",
     "metadata": {},
     "source": [
      "`liquid_mixture` y `vapour_mixture` son mezclas, por lo que podemos simular sus envolventes con el mismo setup. Luego, grafiquemos todo junto"
     ]
    },
    {
     "cell_type": "code",
     "collapsed": false,
     "input": [
      "le = flash.liquid_mixture.get_envelope(setup)\n",
      "ve = flash.vapour_mixture.get_envelope(setup)\n",
      "\n",
      "env.plot(ve.plot(le.plot()))"
     ],
     "language": "python",
     "metadata": {},
     "outputs": [
      {
       "metadata": {},
       "output_type": "pyout",
       "png": "[encoded data removed]",
       "prompt_number": 22,
       "text": [
        "<matplotlib.figure.Figure at 0x3cebe10>"
       ]
      }
     ],
     "prompt_number": 22
    },
    {
     "cell_type": "code",
     "collapsed": false,
     "input": [
      "fig = env.plot()"
     ],
     "language": "python",
     "metadata": {},
     "outputs": [],
     "prompt_number": 23
    },
    {
     "cell_type": "code",
     "collapsed": false,
     "input": [
      "fig."
     ],
     "language": "python",
     "metadata": {},
     "outputs": []
    }
   ],
   "metadata": {}
  }
 ]
}