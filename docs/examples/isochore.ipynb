{
 "cells": [
  {
   "cell_type": "markdown",
   "metadata": {},
   "source": [
    "### Isochores\n",
    "\n",
    "ejemplo de uso. para nati, meli y ceci\n"
   ]
  },
  {
   "cell_type": "code",
   "execution_count": 1,
   "metadata": {
    "collapsed": true
   },
   "outputs": [],
   "source": [
    "%config InlineBackend.close_figures=False\n",
    "%matplotlib inline\n",
    "from matplotlib import interactive\n",
    "interactive(False)"
   ]
  },
  {
   "cell_type": "code",
   "execution_count": 2,
   "metadata": {
    "collapsed": true
   },
   "outputs": [],
   "source": [
    "from sur import *"
   ]
  },
  {
   "cell_type": "code",
   "execution_count": 3,
   "metadata": {
    "collapsed": false
   },
   "outputs": [
    {
     "name": "stderr",
     "output_type": "stream",
     "text": [
      "WARNING:py.warnings:/home/tin/.virtualenvs/sur/local/lib/python2.7/site-packages/numpy/lib/npyio.py:823: UserWarning: loadtxt: Empty input file: \"<cStringIO.StringI object at 0x7fe8617eff10>\"\n",
      "  warnings.warn('loadtxt: Empty input file: \"%s\"' % fname)\n",
      "\n"
     ]
    }
   ],
   "source": [
    "m = Mixture()\n",
    "m.add_many('methane propane n-pentane n-decane n-hexadecane', \n",
    "           '0.822  0.088  0.050  0.020  0.020')\n",
    "\n",
    "s = EosSetup.objects.create(eos='RKPR', kij_mode=EosSetup.T_DEP, lij_mode='constants')\n",
    "\n",
    "\n",
    "env = m.get_envelope(setup=s)"
   ]
  },
  {
   "cell_type": "code",
   "execution_count": 4,
   "metadata": {
    "collapsed": false
   },
   "outputs": [
    {
     "data": {
      "image/png": "[encoded data removed]",
      "text/plain": [
       "<matplotlib.figure.Figure at 0x7fe845fe9450>"
      ]
     },
     "execution_count": 4,
     "metadata": {},
     "output_type": "execute_result"
    }
   ],
   "source": [
    "fig = env.plot()\n",
    "fig"
   ]
  },
  {
   "cell_type": "code",
   "execution_count": 5,
   "metadata": {
    "collapsed": false
   },
   "outputs": [
    {
     "name": "stdout",
     "output_type": "stream",
     "text": [
      "METHANE(1)     \r\n",
      "Tc= 190.5640   Pc =  45.9900   Vc =  0.1005   OM = 0.0115\r\n",
      "Zc=   0.2916 Zcrat=   1.1600 Zceos=  0.3382 Vceos= 0.1165\r\n",
      "ac=   2.3038    b =   0.0304  del1=  0.5000    k = 1.5408\r\n",
      "PROPANE(2)     \r\n",
      "Tc= 369.8300   Pc =  42.4800   Vc =  0.2009   OM = 0.1523\r\n",
      "Zc=   0.2775 Zcrat=   1.1600 Zceos=  0.3219 Vceos= 0.2330\r\n",
      "ac=   9.8022    b =   0.0599  del1=  1.6637    k = 1.9575\r\n",
      "n-PENTANE(3)   \r\n",
      "Tc= 469.7000   Pc =  33.7000   Vc =  0.3160   OM = 0.2515\r\n",
      "Zc=   0.2726 Zcrat=   1.1600 Zceos=  0.3163 Vceos= 0.3665\r\n",
      "ac=  20.2237    b =   0.0936  del1=  1.9573    k = 2.2880\r\n",
      "n-DECANE(4)    \r\n",
      "Tc= 617.7000   Pc =  21.1000   Vc =  0.6521   OM = 0.4923\r\n",
      "Zc=   0.2679 Zcrat=   1.1600 Zceos=  0.3108 Vceos= 0.7565\r\n",
      "ac=  56.6611    b =   0.1921  del1=  2.2395    k = 3.1134\r\n",
      "n-HEXADECANE(5)\r\n",
      "Tc= 723.0000   Pc =  14.0000   Vc =  1.1573   OM = 0.7174\r\n",
      "Zc=   0.2695 Zcrat=   1.1600 Zceos=  0.3127 Vceos= 1.3425\r\n",
      "ac= 116.4264    b =   0.3417  del1=  2.1429    k = 3.9035\r\n",
      " \r\n",
      " Tc, Pc and Vc are given in K, bar and L/mol respectively\r\n",
      " \r\n",
      "   K0ij MATRIX\r\n",
      "METHANE(1)     \r\n",
      "PROPANE(2)        0.01383\r\n",
      "n-PENTANE(3)      0.03022   0.00000\r\n",
      "n-DECANE(4)       0.06853   0.00000   0.00000\r\n",
      "n-HEXADECANE(5)   0.09593   0.00000   0.00000   0.00000\r\n",
      " \r\n",
      "   T* MATRIX\r\n",
      "METHANE(1)     \r\n",
      "PROPANE(2)      190.56400\r\n",
      "n-PENTANE(3)    190.56400 369.83000\r\n",
      "n-DECANE(4)     190.56400 369.83000 469.70000\r\n",
      "n-HEXADECANE(5) 190.56400 369.83000 469.70000 617.70000\r\n",
      " \r\n",
      "   LIJ MATRIX\r\n",
      "METHANE(1)     \r\n",
      "PROPANE(2)       -0.04713\r\n",
      "n-PENTANE(3)     -0.08474  -0.01083\r\n",
      "n-DECANE(4)      -0.14552  -0.03248  -0.02353\r\n",
      "n-HEXADECANE(5)  -0.12114  -0.02327  -0.01250   0.04988\r\n",
      " \r\n",
      "  Combining rules:\r\n",
      "  0: Classical or van der Waals \r\n",
      " \r\n",
      "Molar fractions:  0.822 0.088 0.050 0.020 0.020\r\n",
      " \r\n",
      "    T(K)        P(bar)        D(mol/L)\r\n",
      "    310.0000    0.2398E-03    0.9304E-05\r\n",
      "    311.5595    0.2808E-03    0.1084E-04\r\n",
      "    314.4309    0.3738E-03    0.1430E-04\r\n",
      "    317.3153    0.4951E-03    0.1877E-04\r\n",
      "    320.2117    0.6524E-03    0.2450E-04\r\n",
      "    323.1189    0.8553E-03    0.3184E-04\r\n",
      "    326.0358    0.1116E-02    0.4116E-04\r\n",
      "    328.9612    0.1448E-02    0.5294E-04\r\n",
      "    331.8938    0.1870E-02    0.6776E-04\r\n",
      "    334.8322    0.2402E-02    0.8630E-04\r\n",
      "    337.7749    0.3071E-02    0.1094E-03\r\n",
      "    340.7203    0.3906E-02    0.1379E-03\r\n",
      "    343.6671    0.4944E-02    0.1730E-03\r\n",
      "    346.6130    0.6225E-02    0.2160E-03\r\n",
      "    349.5565    0.7798E-02    0.2683E-03\r\n",
      "    352.4956    0.9720E-02    0.3317E-03\r\n",
      "    355.4282    0.1205E-01    0.4080E-03\r\n",
      "    358.3522    0.1487E-01    0.4993E-03\r\n",
      "    361.2654    0.1826E-01    0.6080E-03\r\n",
      "    364.1655    0.2231E-01    0.7368E-03\r\n",
      "    367.0499    0.2711E-01    0.8884E-03\r\n",
      "    369.9160    0.3278E-01    0.1066E-02\r\n",
      "    372.7613    0.3944E-01    0.1273E-02\r\n",
      "    375.5830    0.4721E-01    0.1512E-02\r\n",
      "    378.3781    0.5622E-01    0.1787E-02\r\n",
      "    381.1437    0.6661E-01    0.2102E-02\r\n",
      "    383.8767    0.7853E-01    0.2461E-02\r\n",
      "    386.5739    0.9211E-01    0.2867E-02\r\n",
      "    389.2321    0.1075E+00    0.3322E-02\r\n",
      "    391.8479    0.1248E+00    0.3832E-02\r\n",
      "    394.4178    0.1442E+00    0.4398E-02\r\n",
      "    396.9385    0.1657E+00    0.5023E-02\r\n",
      "    399.4062    0.1895E+00    0.5708E-02\r\n",
      "    401.8176    0.2156E+00    0.6455E-02\r\n",
      "    404.1689    0.2440E+00    0.7264E-02\r\n",
      "    406.4565    0.2748E+00    0.8135E-02\r\n",
      "    408.6767    0.3078E+00    0.9065E-02\r\n",
      "    410.8260    0.3431E+00    0.1005E-01\r\n",
      "    412.9006    0.3805E+00    0.1109E-01\r\n",
      "    414.9318    0.4205E+00    0.1220E-01\r\n",
      "    416.9883    0.4648E+00    0.1342E-01\r\n",
      "    419.0704    0.5136E+00    0.1475E-01\r\n",
      "    421.1786    0.5677E+00    0.1623E-01\r\n",
      "    423.3132    0.6274E+00    0.1784E-01\r\n",
      "    425.4747    0.6933E+00    0.1962E-01\r\n",
      "    427.6633    0.7663E+00    0.2158E-01\r\n",
      "    429.8795    0.8468E+00    0.2372E-01\r\n",
      "    432.1236    0.9359E+00    0.2609E-01\r\n",
      "    434.3959    0.1034E+01    0.2868E-01\r\n",
      "    436.6966    0.1143E+01    0.3153E-01\r\n",
      "    439.0262    0.1263E+01    0.3467E-01\r\n",
      "    441.3846    0.1396E+01    0.3812E-01\r\n",
      "    443.7722    0.1543E+01    0.4191E-01\r\n",
      "    446.1892    0.1705E+01    0.4607E-01\r\n",
      "    451.6924    0.2132E+01    0.5692E-01\r\n",
      "    457.1975    0.2651E+01    0.6994E-01\r\n",
      "    462.6925    0.3277E+01    0.8547E-01\r\n",
      "    468.1644    0.4028E+01    0.1039E+00\r\n",
      "    473.5987    0.4926E+01    0.1257E+00\r\n",
      "    478.9800    0.5990E+01    0.1512E+00\r\n",
      "    484.2912    0.7245E+01    0.1810E+00\r\n",
      "    489.5145    0.8718E+01    0.2157E+00\r\n",
      "    494.6304    0.1044E+02    0.2557E+00\r\n",
      "    499.6184    0.1243E+02    0.3018E+00\r\n",
      "    504.4568    0.1473E+02    0.3546E+00\r\n",
      "    509.1223    0.1738E+02    0.4148E+00\r\n",
      "    513.5904    0.2040E+02    0.4832E+00\r\n",
      "    517.8350    0.2385E+02    0.5608E+00\r\n",
      "    521.8279    0.2776E+02    0.6483E+00\r\n",
      "    525.5389    0.3218E+02    0.7469E+00\r\n",
      "    529.8887    0.3877E+02    0.8935E+00\r\n",
      "    533.8339    0.4694E+02    0.1075E+01\r\n",
      "    537.1327    0.5711E+02    0.1301E+01\r\n",
      "    539.4417    0.6984E+02    0.1585E+01\r\n",
      "    540.2639    0.8582E+02    0.1945E+01\r\n",
      "    538.8638    0.1060E+03    0.2405E+01\r\n",
      "    534.1153    0.1315E+03    0.3004E+01\r\n",
      "    524.1971    0.1640E+03    0.3799E+01\r\n",
      "    519.8989    0.1752E+03    0.4082E+01\r\n",
      "    515.2905    0.1860E+03    0.4363E+01\r\n",
      "    510.4119    0.1965E+03    0.4643E+01\r\n",
      "    505.2988    0.2067E+03    0.4920E+01\r\n",
      "    499.9829    0.2165E+03    0.5195E+01\r\n",
      "    494.4930    0.2259E+03    0.5467E+01\r\n",
      "    488.8551    0.2349E+03    0.5737E+01\r\n",
      "    483.0930    0.2435E+03    0.6004E+01\r\n",
      "    477.2282    0.2518E+03    0.6267E+01\r\n",
      "    471.2807    0.2596E+03    0.6527E+01\r\n",
      "    465.2686    0.2670E+03    0.6783E+01\r\n",
      "    459.2083    0.2739E+03    0.7036E+01\r\n",
      "    453.1150    0.2805E+03    0.7284E+01\r\n",
      "    447.0023    0.2866E+03    0.7529E+01\r\n",
      "    440.8826    0.2922E+03    0.7769E+01\r\n",
      "    434.7669    0.2975E+03    0.8005E+01\r\n",
      "    428.6652    0.3023E+03    0.8237E+01\r\n",
      "    422.5862    0.3067E+03    0.8465E+01\r\n",
      "    416.5377    0.3107E+03    0.8688E+01\r\n",
      "    410.5263    0.3142E+03    0.8907E+01\r\n",
      "    404.5577    0.3174E+03    0.9122E+01\r\n",
      "    398.6364    0.3202E+03    0.9332E+01\r\n",
      "    392.7663    0.3225E+03    0.9538E+01\r\n",
      "    386.9499    0.3245E+03    0.9741E+01\r\n",
      "    381.1893    0.3261E+03    0.9939E+01\r\n",
      "    375.4420    0.3274E+03    0.1013E+02\r\n",
      "    369.6004    0.3283E+03    0.1033E+02\r\n",
      "    363.6552    0.3289E+03    0.1053E+02\r\n",
      "    357.5940    0.3290E+03    0.1073E+02\r\n",
      "    351.4003    0.3288E+03    0.1094E+02\r\n",
      "    345.0523    0.3281E+03    0.1114E+02\r\n",
      "    338.5202    0.3269E+03    0.1135E+02\r\n",
      "    331.7623    0.3252E+03    0.1157E+02\r\n",
      "    324.7191    0.3228E+03    0.1179E+02\r\n",
      "    317.2983    0.3197E+03    0.1203E+02\r\n",
      "    309.3505    0.3157E+03    0.1228E+02\r\n",
      "    300.5988    0.3104E+03    0.1255E+02\r\n",
      "    290.4216    0.3031E+03    0.1286E+02\r\n",
      "    276.5143    0.2912E+03    0.1329E+02\r\n",
      "    264.3484    0.2791E+03    0.1366E+02\r\n",
      "    258.4677    0.2728E+03    0.1384E+02\r\n",
      "    254.6661    0.2686E+03    0.1396E+02\r\n",
      "    250.9960    0.2644E+03    0.1408E+02\r\n",
      "    247.4316    0.2604E+03    0.1419E+02\r\n",
      "    240.5167    0.2524E+03    0.1441E+02\r\n",
      "    236.4780    0.2478E+03    0.1454E+02\r\n",
      "    233.1690    0.2441E+03    0.1464E+02\r\n",
      "    227.8163    0.2384E+03    0.1482E+02\r\n",
      "    223.6902    0.2345E+03    0.1496E+02\r\n",
      "    220.1744    0.2316E+03    0.1508E+02\r\n",
      "    214.3604    0.2282E+03    0.1529E+02\r\n",
      "    209.6629    0.2276E+03    0.1547E+02\r\n",
      "    205.7672    0.2295E+03    0.1563E+02\r\n",
      "    202.5117    0.2337E+03    0.1578E+02\r\n",
      "    199.8058    0.2402E+03    0.1591E+02\r\n",
      "    197.5701    0.2489E+03    0.1604E+02\r\n",
      "    195.7227    0.2599E+03    0.1615E+02\r\n",
      "    194.2833    0.2731E+03    0.1626E+02\r\n",
      "    193.2524    0.2877E+03    0.1636E+02\r\n",
      "    192.6020    0.3029E+03    0.1644E+02\r\n",
      "    192.2731    0.3173E+03    0.1650E+02\r\n",
      "    192.1801    0.3297E+03    0.1655E+02\r\n",
      "    192.2209    0.3386E+03    0.1658E+02\r\n",
      "    192.2792    0.3428E+03    0.1660E+02\r\n",
      "    192.2906    0.3435E+03    0.1660E+02\r\n",
      "    192.2066    0.3406E+03    0.1659E+02\r\n",
      "    192.0005    0.3349E+03    0.1658E+02\r\n",
      "    191.6837    0.3274E+03    0.1656E+02\r\n",
      "    191.3532    0.3207E+03    0.1655E+02\r\n",
      "    191.2663    0.3191E+03    0.1654E+02\r\n",
      "    191.3542    0.3206E+03    0.1655E+02\r\n",
      "    191.6865    0.3258E+03    0.1655E+02\r\n",
      "    192.3528    0.3358E+03    0.1657E+02\r\n",
      "    193.4599    0.3516E+03    0.1659E+02\r\n",
      "    195.1377    0.3743E+03    0.1662E+02\r\n",
      "    197.5474    0.4055E+03    0.1665E+02\r\n",
      "    200.8949    0.4471E+03    0.1669E+02\r\n",
      "    205.4525    0.5014E+03    0.1673E+02\r\n",
      "    211.5961    0.5719E+03    0.1677E+02\r\n",
      "    215.4594    0.6150E+03    0.1679E+02\r\n",
      "    219.7826    0.6624E+03    0.1682E+02\r\n",
      "    224.5221    0.7134E+03    0.1684E+02\r\n",
      "    229.7142    0.7684E+03    0.1685E+02\r\n",
      "    235.3995    0.8276E+03    0.1687E+02\r\n",
      "    241.6226    0.8914E+03    0.1689E+02\r\n",
      "    248.4327    0.9600E+03    0.1690E+02\r\n",
      "    255.8842    0.1034E+04    0.1691E+02\r\n",
      "    264.0367    0.1114E+04    0.1692E+02\r\n",
      "    272.9560    0.1199E+04    0.1693E+02\r\n",
      "    282.7142    0.1292E+04    0.1694E+02\r\n",
      "    293.3904    0.1391E+04    0.1695E+02\r\n",
      "    305.0713    0.1498E+04    0.1695E+02\r\n",
      " \r\n",
      "  Number of critical points found:            0\r\n",
      "    T(K)        P(bar)        D(mol/L)\r\n",
      "\n"
     ]
    }
   ],
   "source": [
    "print(env.output_txt)"
   ]
  },
  {
   "cell_type": "code",
   "execution_count": 6,
   "metadata": {
    "collapsed": false
   },
   "outputs": [
    {
     "name": "stdout",
     "output_type": "stream",
     "text": [
      "/tmp/tmpR7Z8Tc\n"
     ]
    }
   ],
   "source": [
    "isochore = m.get_isochore(setup=s, v=10., ts=467.01, ps=3.86, t_sup=465.0, t_step=5.0, t_inf=270.0)"
   ]
  },
  {
   "cell_type": "markdown",
   "metadata": {},
   "source": [
    "Se puede ver el input y output crudos como tipicamente"
   ]
  },
  {
   "cell_type": "code",
   "execution_count": 17,
   "metadata": {
    "collapsed": false
   },
   "outputs": [
    {
     "name": "stdout",
     "output_type": "stream",
     "text": [
      "5\t\tNC\r\n",
      "4       nplus\r\n",
      "isoV            Spec    v(k), ts and ps \r\n",
      "0.822  0.088  0.05  0.02  0.02  \t\tz1,z2...zNC\r\n",
      "10.0   467.01    3.86         v(L/mol)+Ts+Ps\r\n",
      "465.0  5.0  270.0         T(K)+dT+Tinf\r\n",
      "3\t\t\t\tNMODEL (1:SRK / 2:PR / 3:RKPR)\r\n",
      "0  1\t\t\tncomb, nTdep\r\n",
      "METHANE(1)\r\n",
      "190.564  45.99 0.0115478  0.116530154855 1.16          tc, pc, ohm, vc, zrat\r\n",
      "2.30376807604   0.0304337956072   0.5   1.54083758839\t\tac, b, delta1, k\r\n",
      "PROPANE(2)\r\n",
      "369.83  42.48 0.152291  0.233012170918 1.16          tc, pc, ohm, vc, zrat\r\n",
      "9.80216972295   0.0598748909487   1.663687   1.9574557212\t\tac, b, delta1, k\r\n",
      "0.013831          k0\r\n",
      "190.564       tstar\r\n",
      "-0.047134 \t\tlij\r\n",
      "n-PENTANE(3)\r\n",
      "469.7  33.7 0.251506  0.366506659349 1.16          tc, pc, ohm, vc, zrat\r\n",
      "20.2236971345   0.0936309815449   1.957315   2.28798764446\t\tac, b, delta1, k\r\n",
      "0.030221   0.0          k0\r\n",
      "190.564   369.83       tstar\r\n",
      "-0.084739   -0.010835 \t\tlij\r\n",
      "n-DECANE(4)\r\n",
      "617.7  21.1 0.492328  0.756468369911 1.16          tc, pc, ohm, vc, zrat\r\n",
      "56.6610724692   0.192140038284   2.239538   3.11337933794\t\tac, b, delta1, k\r\n",
      "0.068534   0.0   0.0          k0\r\n",
      "190.564   369.83   469.7       tstar\r\n",
      "-0.145519   -0.032481   -0.02353 \t\tlij\r\n",
      "n-HEXADECANE(5)\r\n",
      "723.0  14.0 0.717404  1.34252502769 1.16          tc, pc, ohm, vc, zrat\r\n",
      "116.426356444   0.341676477137   2.14291   3.90352446586\t\tac, b, delta1, k\r\n",
      "0.095928   0.0   0.0   0.0          k0\r\n",
      "190.564   369.83   469.7   617.7       tstar\r\n",
      "-0.121142   -0.023269   -0.012501   0.049878 \t\tlij\r\n",
      "\r\n",
      "\n"
     ]
    }
   ],
   "source": [
    "print(isochore.input_txt)"
   ]
  },
  {
   "cell_type": "code",
   "execution_count": 18,
   "metadata": {
    "collapsed": false
   },
   "outputs": [
    {
     "name": "stdout",
     "output_type": "stream",
     "text": [
      "  The plus fraction from component            4  is   4.000000000000000E-002\r\n",
      "    T(K)   rho(mol/L)   P(bar)    v(L/mol)     beta       betav    xplus   yplus\r\n",
      "    iter\r\n",
      "  467.01  0.1000E+00  0.3860E+01  0.1000E+02  0.1000E+01  0.1000E+01\r\n",
      "  465.00  0.1000E+00  0.3845E+01  0.1000E+02  0.9984E+00  0.9999E+00  0.973928  0.038523   6\r\n",
      "  460.00  0.1000E+00  0.3792E+01  0.1000E+02  0.9950E+00  0.9998E+00  0.973823  0.035262   7\r\n",
      "  455.00  0.1000E+00  0.3740E+01  0.1000E+02  0.9919E+00  0.9997E+00  0.973694  0.032377   7\r\n",
      "  450.00  0.1000E+00  0.3689E+01  0.1000E+02  0.9892E+00  0.9996E+00  0.973541  0.029825   7\r\n",
      "  445.00  0.1000E+00  0.3640E+01  0.1000E+02  0.9869E+00  0.9995E+00  0.973361  0.027567   7\r\n",
      "  440.00  0.1000E+00  0.3591E+01  0.1000E+02  0.9848E+00  0.9994E+00  0.973153  0.025561   7\r\n",
      "  435.00  0.1000E+00  0.3544E+01  0.1000E+02  0.9829E+00  0.9994E+00  0.972916  0.023772   8\r\n",
      "  430.00  0.1000E+00  0.3498E+01  0.1000E+02  0.9812E+00  0.9993E+00  0.972646  0.022164   8\r\n",
      "  425.00  0.1000E+00  0.3451E+01  0.1000E+02  0.9797E+00  0.9993E+00  0.972340  0.020704   8\r\n",
      "  420.00  0.1000E+00  0.3406E+01  0.1000E+02  0.9783E+00  0.9992E+00  0.971991  0.019359   8\r\n",
      "  415.00  0.1000E+00  0.3361E+01  0.1000E+02  0.9770E+00  0.9992E+00  0.971595  0.018103   9\r\n",
      "  410.00  0.1000E+00  0.3316E+01  0.1000E+02  0.9758E+00  0.9992E+00  0.971140  0.016908   9\r\n",
      "  405.00  0.1000E+00  0.3271E+01  0.1000E+02  0.9746E+00  0.9991E+00  0.970616  0.015752   9\r\n",
      "  400.00  0.1000E+00  0.3227E+01  0.1000E+02  0.9734E+00  0.9991E+00  0.970009  0.014617   9\r\n",
      "  395.00  0.1000E+00  0.3182E+01  0.1000E+02  0.9723E+00  0.9991E+00  0.969302  0.013489   9\r\n",
      "  390.00  0.1000E+00  0.3138E+01  0.1000E+02  0.9711E+00  0.9991E+00  0.968476  0.012359   9\r\n",
      "  385.00  0.1000E+00  0.3094E+01  0.1000E+02  0.9699E+00  0.9990E+00  0.967507  0.011224   9\r\n",
      "  380.00  0.1000E+00  0.3050E+01  0.1000E+02  0.9687E+00  0.9990E+00  0.966369  0.010089   8\r\n",
      "  375.00  0.1000E+00  0.3006E+01  0.1000E+02  0.9675E+00  0.9990E+00  0.965035  0.008963   8\r\n",
      "  370.00  0.1000E+00  0.2962E+01  0.1000E+02  0.9664E+00  0.9990E+00  0.963472  0.007860   8\r\n",
      "  365.00  0.1000E+00  0.2918E+01  0.1000E+02  0.9652E+00  0.9990E+00  0.961646  0.006799   7\r\n",
      "  360.00  0.1000E+00  0.2874E+01  0.1000E+02  0.9641E+00  0.9989E+00  0.959517  0.005798   7\r\n",
      "  355.00  0.1000E+00  0.2831E+01  0.1000E+02  0.9631E+00  0.9989E+00  0.957037  0.004871   7\r\n",
      "  350.00  0.1000E+00  0.2788E+01  0.1000E+02  0.9621E+00  0.9989E+00  0.954154  0.004032   6\r\n",
      "  345.00  0.1000E+00  0.2745E+01  0.1000E+02  0.9613E+00  0.9989E+00  0.950801  0.003289   6\r\n",
      "  340.00  0.1000E+00  0.2703E+01  0.1000E+02  0.9604E+00  0.9989E+00  0.946897  0.002643   6\r\n",
      "  335.00  0.1000E+00  0.2660E+01  0.1000E+02  0.9597E+00  0.9989E+00  0.942344  0.002093   6\r\n",
      "  330.00  0.1000E+00  0.2618E+01  0.1000E+02  0.9590E+00  0.9989E+00  0.937019  0.001634   6\r\n",
      "  325.00  0.1000E+00  0.2576E+01  0.1000E+02  0.9583E+00  0.9988E+00  0.930767  0.001256   6\r\n",
      "  320.00  0.1000E+00  0.2534E+01  0.1000E+02  0.9577E+00  0.9988E+00  0.923397  0.000952   6\r\n",
      "  315.00  0.1000E+00  0.2493E+01  0.1000E+02  0.9570E+00  0.9988E+00  0.914666  0.000711   7\r\n",
      "  310.00  0.1000E+00  0.2451E+01  0.1000E+02  0.9563E+00  0.9988E+00  0.904267  0.000523   7\r\n",
      "  305.00  0.1000E+00  0.2409E+01  0.1000E+02  0.9556E+00  0.9988E+00  0.891815  0.000378   7\r\n",
      "  300.00  0.1000E+00  0.2366E+01  0.1000E+02  0.9547E+00  0.9988E+00  0.876825  0.000269   7\r\n",
      "  295.00  0.1000E+00  0.2324E+01  0.1000E+02  0.9536E+00  0.9988E+00  0.858697  0.000188   8\r\n",
      "  290.00  0.1000E+00  0.2281E+01  0.1000E+02  0.9523E+00  0.9988E+00  0.836712  0.000129   8\r\n",
      "  285.00  0.1000E+00  0.2237E+01  0.1000E+02  0.9507E+00  0.9988E+00  0.810075  0.000087   8\r\n",
      "  280.00  0.1000E+00  0.2193E+01  0.1000E+02  0.9487E+00  0.9987E+00  0.778043  0.000057   8\r\n",
      "  275.00  0.1000E+00  0.2147E+01  0.1000E+02  0.9460E+00  0.9987E+00  0.740230  0.000037   9\r\n",
      "  270.00  0.1000E+00  0.2100E+01  0.1000E+02  0.9427E+00  0.9987E+00  0.697110  0.000023   9\r\n",
      "  Monophasic Region: \r\n",
      "    T(K)   rho(mol/L)   P(bar)    v(L/mol) \r\n",
      "  467.01  0.1000E+00  0.3860E+01  0.1000E+02\r\n",
      "  472.01  0.1000E+00  0.3910E+01  0.1000E+02\r\n",
      "  477.01  0.1000E+00  0.3952E+01  0.1000E+02\r\n",
      "  482.01  0.1000E+00  0.3994E+01  0.1000E+02\r\n",
      "  487.01  0.1000E+00  0.4036E+01  0.1000E+02\r\n",
      "  492.01  0.1000E+00  0.4078E+01  0.1000E+02\r\n",
      "  497.01  0.1000E+00  0.4120E+01  0.1000E+02\r\n",
      "  502.01  0.1000E+00  0.4162E+01  0.1000E+02\r\n",
      "  507.01  0.1000E+00  0.4204E+01  0.1000E+02\r\n",
      "  512.01  0.1000E+00  0.4246E+01  0.1000E+02\r\n",
      "  517.01  0.1000E+00  0.4288E+01  0.1000E+02\r\n",
      "  522.01  0.1000E+00  0.4330E+01  0.1000E+02\r\n",
      "  527.01  0.1000E+00  0.4372E+01  0.1000E+02\r\n",
      "  532.01  0.1000E+00  0.4414E+01  0.1000E+02\r\n",
      "  537.01  0.1000E+00  0.4456E+01  0.1000E+02\r\n",
      "  542.01  0.1000E+00  0.4498E+01  0.1000E+02\r\n",
      "  547.01  0.1000E+00  0.4540E+01  0.1000E+02\r\n",
      "  552.01  0.1000E+00  0.4582E+01  0.1000E+02\r\n",
      "  557.01  0.1000E+00  0.4624E+01  0.1000E+02\r\n",
      "  562.01  0.1000E+00  0.4666E+01  0.1000E+02\r\n",
      "  567.01  0.1000E+00  0.4708E+01  0.1000E+02\r\n",
      "  572.01  0.1000E+00  0.4750E+01  0.1000E+02\r\n",
      "  577.01  0.1000E+00  0.4792E+01  0.1000E+02\r\n",
      "  582.01  0.1000E+00  0.4834E+01  0.1000E+02\r\n",
      "  587.01  0.1000E+00  0.4876E+01  0.1000E+02\r\n",
      "  592.01  0.1000E+00  0.4918E+01  0.1000E+02\r\n",
      "  597.01  0.1000E+00  0.4960E+01  0.1000E+02\r\n",
      "  602.01  0.1000E+00  0.5002E+01  0.1000E+02\r\n",
      "  607.01  0.1000E+00  0.5044E+01  0.1000E+02\r\n",
      "  612.01  0.1000E+00  0.5086E+01  0.1000E+02\r\n",
      "  617.01  0.1000E+00  0.5128E+01  0.1000E+02\r\n",
      "  622.01  0.1000E+00  0.5170E+01  0.1000E+02\r\n",
      "  627.01  0.1000E+00  0.5212E+01  0.1000E+02\r\n",
      "  632.01  0.1000E+00  0.5254E+01  0.1000E+02\r\n",
      "  637.01  0.1000E+00  0.5296E+01  0.1000E+02\r\n",
      "  642.01  0.1000E+00  0.5338E+01  0.1000E+02\r\n",
      "  647.01  0.1000E+00  0.5380E+01  0.1000E+02\r\n",
      "  652.01  0.1000E+00  0.5422E+01  0.1000E+02\r\n",
      "  657.01  0.1000E+00  0.5464E+01  0.1000E+02\r\n",
      "  662.01  0.1000E+00  0.5506E+01  0.1000E+02\r\n",
      "  667.01  0.1000E+00  0.5548E+01  0.1000E+02\r\n",
      "  672.01  0.1000E+00  0.5590E+01  0.1000E+02\r\n",
      "  677.01  0.1000E+00  0.5632E+01  0.1000E+02\r\n",
      "  682.01  0.1000E+00  0.5674E+01  0.1000E+02\r\n",
      "  687.01  0.1000E+00  0.5716E+01  0.1000E+02\r\n",
      "  692.01  0.1000E+00  0.5758E+01  0.1000E+02\r\n",
      "  697.01  0.1000E+00  0.5800E+01  0.1000E+02\r\n",
      "  702.01  0.1000E+00  0.5842E+01  0.1000E+02\r\n",
      "  707.01  0.1000E+00  0.5884E+01  0.1000E+02\r\n",
      "  712.01  0.1000E+00  0.5926E+01  0.1000E+02\r\n",
      "  717.01  0.1000E+00  0.5967E+01  0.1000E+02\r\n",
      "  722.01  0.1000E+00  0.6009E+01  0.1000E+02\r\n",
      "  727.01  0.1000E+00  0.6051E+01  0.1000E+02\r\n",
      "  732.01  0.1000E+00  0.6093E+01  0.1000E+02\r\n",
      "  737.01  0.1000E+00  0.6135E+01  0.1000E+02\r\n",
      "  742.01  0.1000E+00  0.6177E+01  0.1000E+02\r\n",
      "  747.01  0.1000E+00  0.6219E+01  0.1000E+02\r\n",
      "  752.01  0.1000E+00  0.6261E+01  0.1000E+02\r\n",
      "  757.01  0.1000E+00  0.6303E+01  0.1000E+02\r\n",
      "  762.01  0.1000E+00  0.6345E+01  0.1000E+02\r\n",
      "  767.01  0.1000E+00  0.6387E+01  0.1000E+02\r\n",
      "  772.01  0.1000E+00  0.6429E+01  0.1000E+02\r\n",
      "  777.01  0.1000E+00  0.6471E+01  0.1000E+02\r\n",
      "  782.01  0.1000E+00  0.6513E+01  0.1000E+02\r\n",
      "  787.01  0.1000E+00  0.6554E+01  0.1000E+02\r\n",
      "  792.01  0.1000E+00  0.6596E+01  0.1000E+02\r\n",
      "  797.01  0.1000E+00  0.6638E+01  0.1000E+02\r\n",
      "  802.01  0.1000E+00  0.6680E+01  0.1000E+02\r\n",
      "  807.01  0.1000E+00  0.6722E+01  0.1000E+02\r\n",
      "  812.01  0.1000E+00  0.6764E+01  0.1000E+02\r\n",
      "  817.01  0.1000E+00  0.6806E+01  0.1000E+02\r\n",
      "  822.01  0.1000E+00  0.6848E+01  0.1000E+02\r\n",
      "  827.01  0.1000E+00  0.6890E+01  0.1000E+02\r\n",
      "  832.01  0.1000E+00  0.6932E+01  0.1000E+02\r\n",
      "  837.01  0.1000E+00  0.6974E+01  0.1000E+02\r\n",
      "  842.01  0.1000E+00  0.7015E+01  0.1000E+02\r\n",
      "  847.01  0.1000E+00  0.7057E+01  0.1000E+02\r\n",
      "  852.01  0.1000E+00  0.7099E+01  0.1000E+02\r\n",
      "  857.01  0.1000E+00  0.7141E+01  0.1000E+02\r\n",
      "  862.01  0.1000E+00  0.7183E+01  0.1000E+02\r\n",
      "  867.01  0.1000E+00  0.7225E+01  0.1000E+02\r\n",
      "  872.01  0.1000E+00  0.7267E+01  0.1000E+02\r\n",
      "  877.01  0.1000E+00  0.7309E+01  0.1000E+02\r\n",
      "  882.01  0.1000E+00  0.7351E+01  0.1000E+02\r\n",
      "  887.01  0.1000E+00  0.7392E+01  0.1000E+02\r\n",
      "  892.01  0.1000E+00  0.7434E+01  0.1000E+02\r\n",
      "  897.01  0.1000E+00  0.7476E+01  0.1000E+02\r\n",
      "  902.01  0.1000E+00  0.7518E+01  0.1000E+02\r\n",
      "  907.01  0.1000E+00  0.7560E+01  0.1000E+02\r\n",
      "  912.01  0.1000E+00  0.7602E+01  0.1000E+02\r\n",
      "  917.01  0.1000E+00  0.7644E+01  0.1000E+02\r\n",
      "  922.01  0.1000E+00  0.7686E+01  0.1000E+02\r\n",
      "  927.01  0.1000E+00  0.7728E+01  0.1000E+02\r\n",
      "  932.01  0.1000E+00  0.7769E+01  0.1000E+02\r\n",
      "  937.01  0.1000E+00  0.7811E+01  0.1000E+02\r\n",
      "  942.01  0.1000E+00  0.7853E+01  0.1000E+02\r\n",
      "  947.01  0.1000E+00  0.7895E+01  0.1000E+02\r\n",
      "  952.01  0.1000E+00  0.7937E+01  0.1000E+02\r\n",
      "  957.01  0.1000E+00  0.7979E+01  0.1000E+02\r\n",
      "  962.01  0.1000E+00  0.8021E+01  0.1000E+02\r\n",
      "  967.01  0.1000E+00  0.8063E+01  0.1000E+02\r\n",
      "  972.01  0.1000E+00  0.8104E+01  0.1000E+02\r\n",
      "  977.01  0.1000E+00  0.8146E+01  0.1000E+02\r\n",
      "  982.01  0.1000E+00  0.8188E+01  0.1000E+02\r\n",
      "  987.01  0.1000E+00  0.8230E+01  0.1000E+02\r\n",
      "  992.01  0.1000E+00  0.8272E+01  0.1000E+02\r\n",
      "  997.01  0.1000E+00  0.8314E+01  0.1000E+02\r\n",
      " 1002.01  0.1000E+00  0.8356E+01  0.1000E+02\r\n",
      "\n"
     ]
    }
   ],
   "source": [
    "print(isochore.output_txt)"
   ]
  },
  {
   "cell_type": "markdown",
   "metadata": {},
   "source": [
    "los vectores t y p son recortados en dos partes, como se generan"
   ]
  },
  {
   "cell_type": "code",
   "execution_count": 7,
   "metadata": {
    "collapsed": false
   },
   "outputs": [
    {
     "data": {
      "text/plain": [
       "array([ 467.01,  465.  ,  460.  ,  455.  ,  450.  ,  445.  ,  440.  ,\n",
       "        435.  ,  430.  ,  425.  ,  420.  ,  415.  ,  410.  ,  405.  ,\n",
       "        400.  ,  395.  ,  390.  ,  385.  ,  380.  ,  375.  ,  370.  ,\n",
       "        365.  ,  360.  ,  355.  ,  350.  ,  345.  ,  340.  ,  335.  ,\n",
       "        330.  ,  325.  ,  320.  ,  315.  ,  310.  ,  305.  ,  300.  ,\n",
       "        295.  ,  290.  ,  285.  ,  280.  ,  275.  ,  270.  ])"
      ]
     },
     "execution_count": 7,
     "metadata": {},
     "output_type": "execute_result"
    }
   ],
   "source": [
    "isochore.t"
   ]
  },
  {
   "cell_type": "code",
   "execution_count": 8,
   "metadata": {
    "collapsed": false
   },
   "outputs": [
    {
     "data": {
      "text/plain": [
       "array([ 3.86 ,  3.845,  3.792,  3.74 ,  3.689,  3.64 ,  3.591,  3.544,\n",
       "        3.498,  3.451,  3.406,  3.361,  3.316,  3.271,  3.227,  3.182,\n",
       "        3.138,  3.094,  3.05 ,  3.006,  2.962,  2.918,  2.874,  2.831,\n",
       "        2.788,  2.745,  2.703,  2.66 ,  2.618,  2.576,  2.534,  2.493,\n",
       "        2.451,  2.409,  2.366,  2.324,  2.281,  2.237,  2.193,  2.147,  2.1  ])"
      ]
     },
     "execution_count": 8,
     "metadata": {},
     "output_type": "execute_result"
    }
   ],
   "source": [
    "isochore.p"
   ]
  },
  {
   "cell_type": "code",
   "execution_count": 9,
   "metadata": {
    "collapsed": false
   },
   "outputs": [
    {
     "data": {
      "text/plain": [
       "array([  467.01,   472.01,   477.01,   482.01,   487.01,   492.01,\n",
       "         497.01,   502.01,   507.01,   512.01,   517.01,   522.01,\n",
       "         527.01,   532.01,   537.01,   542.01,   547.01,   552.01,\n",
       "         557.01,   562.01,   567.01,   572.01,   577.01,   582.01,\n",
       "         587.01,   592.01,   597.01,   602.01,   607.01,   612.01,\n",
       "         617.01,   622.01,   627.01,   632.01,   637.01,   642.01,\n",
       "         647.01,   652.01,   657.01,   662.01,   667.01,   672.01,\n",
       "         677.01,   682.01,   687.01,   692.01,   697.01,   702.01,\n",
       "         707.01,   712.01,   717.01,   722.01,   727.01,   732.01,\n",
       "         737.01,   742.01,   747.01,   752.01,   757.01,   762.01,\n",
       "         767.01,   772.01,   777.01,   782.01,   787.01,   792.01,\n",
       "         797.01,   802.01,   807.01,   812.01,   817.01,   822.01,\n",
       "         827.01,   832.01,   837.01,   842.01,   847.01,   852.01,\n",
       "         857.01,   862.01,   867.01,   872.01,   877.01,   882.01,\n",
       "         887.01,   892.01,   897.01,   902.01,   907.01,   912.01,\n",
       "         917.01,   922.01,   927.01,   932.01,   937.01,   942.01,\n",
       "         947.01,   952.01,   957.01,   962.01,   967.01,   972.01,\n",
       "         977.01,   982.01,   987.01,   992.01,   997.01,  1002.01])"
      ]
     },
     "execution_count": 9,
     "metadata": {},
     "output_type": "execute_result"
    }
   ],
   "source": [
    "isochore.t_monophasic"
   ]
  },
  {
   "cell_type": "code",
   "execution_count": 10,
   "metadata": {
    "collapsed": false
   },
   "outputs": [
    {
     "data": {
      "text/plain": [
       "array([ 3.86 ,  3.91 ,  3.952,  3.994,  4.036,  4.078,  4.12 ,  4.162,\n",
       "        4.204,  4.246,  4.288,  4.33 ,  4.372,  4.414,  4.456,  4.498,\n",
       "        4.54 ,  4.582,  4.624,  4.666,  4.708,  4.75 ,  4.792,  4.834,\n",
       "        4.876,  4.918,  4.96 ,  5.002,  5.044,  5.086,  5.128,  5.17 ,\n",
       "        5.212,  5.254,  5.296,  5.338,  5.38 ,  5.422,  5.464,  5.506,\n",
       "        5.548,  5.59 ,  5.632,  5.674,  5.716,  5.758,  5.8  ,  5.842,\n",
       "        5.884,  5.926,  5.967,  6.009,  6.051,  6.093,  6.135,  6.177,\n",
       "        6.219,  6.261,  6.303,  6.345,  6.387,  6.429,  6.471,  6.513,\n",
       "        6.554,  6.596,  6.638,  6.68 ,  6.722,  6.764,  6.806,  6.848,\n",
       "        6.89 ,  6.932,  6.974,  7.015,  7.057,  7.099,  7.141,  7.183,\n",
       "        7.225,  7.267,  7.309,  7.351,  7.392,  7.434,  7.476,  7.518,\n",
       "        7.56 ,  7.602,  7.644,  7.686,  7.728,  7.769,  7.811,  7.853,\n",
       "        7.895,  7.937,  7.979,  8.021,  8.063,  8.104,  8.146,  8.188,\n",
       "        8.23 ,  8.272,  8.314,  8.356])"
      ]
     },
     "execution_count": 10,
     "metadata": {},
     "output_type": "execute_result"
    }
   ],
   "source": [
    "isochore.p_monophasic"
   ]
  },
  {
   "cell_type": "code",
   "execution_count": 19,
   "metadata": {
    "collapsed": false
   },
   "outputs": [
    {
     "data": {
      "text/plain": [
       "(array([ 0.1,  0.1,  0.1,  0.1,  0.1,  0.1,  0.1,  0.1,  0.1,  0.1,  0.1,\n",
       "         0.1,  0.1,  0.1,  0.1,  0.1,  0.1,  0.1,  0.1,  0.1,  0.1,  0.1,\n",
       "         0.1,  0.1,  0.1,  0.1,  0.1,  0.1,  0.1,  0.1,  0.1,  0.1,  0.1,\n",
       "         0.1,  0.1,  0.1,  0.1,  0.1,  0.1,  0.1,  0.1]),\n",
       " array([ 0.1,  0.1,  0.1,  0.1,  0.1,  0.1,  0.1,  0.1,  0.1,  0.1,  0.1,\n",
       "         0.1,  0.1,  0.1,  0.1,  0.1,  0.1,  0.1,  0.1,  0.1,  0.1,  0.1,\n",
       "         0.1,  0.1,  0.1,  0.1,  0.1,  0.1,  0.1,  0.1,  0.1,  0.1,  0.1,\n",
       "         0.1,  0.1,  0.1,  0.1,  0.1,  0.1,  0.1,  0.1,  0.1,  0.1,  0.1,\n",
       "         0.1,  0.1,  0.1,  0.1,  0.1,  0.1,  0.1,  0.1,  0.1,  0.1,  0.1,\n",
       "         0.1,  0.1,  0.1,  0.1,  0.1,  0.1,  0.1,  0.1,  0.1,  0.1,  0.1,\n",
       "         0.1,  0.1,  0.1,  0.1,  0.1,  0.1,  0.1,  0.1,  0.1,  0.1,  0.1,\n",
       "         0.1,  0.1,  0.1,  0.1,  0.1,  0.1,  0.1,  0.1,  0.1,  0.1,  0.1,\n",
       "         0.1,  0.1,  0.1,  0.1,  0.1,  0.1,  0.1,  0.1,  0.1,  0.1,  0.1,\n",
       "         0.1,  0.1,  0.1,  0.1,  0.1,  0.1,  0.1,  0.1,  0.1]))"
      ]
     },
     "execution_count": 19,
     "metadata": {},
     "output_type": "execute_result"
    }
   ],
   "source": [
    "isochore.rho, isochore.rho_monophasic, "
   ]
  },
  {
   "cell_type": "code",
   "execution_count": 20,
   "metadata": {
    "collapsed": false
   },
   "outputs": [
    {
     "data": {
      "image/png": "[encoded data removed]",
      "text/plain": [
       "<matplotlib.figure.Figure at 0x7fe846069190>"
      ]
     },
     "execution_count": 20,
     "metadata": {},
     "output_type": "execute_result"
    }
   ],
   "source": [
    "isochore.plot()"
   ]
  },
  {
   "cell_type": "markdown",
   "metadata": {},
   "source": [
    "También se le puede pasar una figura ya generada, para que superponga el nuevo plot"
   ]
  },
  {
   "cell_type": "code",
   "execution_count": 12,
   "metadata": {
    "collapsed": false
   },
   "outputs": [
    {
     "data": {
      "image/png": "[encoded data removed]",
      "text/plain": [
       "<matplotlib.figure.Figure at 0x7fe845fe9450>"
      ]
     },
     "execution_count": 12,
     "metadata": {},
     "output_type": "execute_result"
    }
   ],
   "source": [
    "isochore.plot(fig)    "
   ]
  },
  {
   "cell_type": "code",
   "execution_count": null,
   "metadata": {
    "collapsed": true
   },
   "outputs": [],
   "source": []
  }
 ],
 "metadata": {
  "kernelspec": {
   "display_name": "Python 2",
   "language": "python",
   "name": "python2"
  },
  "language_info": {
   "codemirror_mode": {
    "name": "ipython",
    "version": 2
   },
   "file_extension": ".py",
   "mimetype": "text/x-python",
   "name": "python",
   "nbconvert_exporter": "python",
   "pygments_lexer": "ipython2",
   "version": "2.7.6"
  }
 },
 "nbformat": 4,
 "nbformat_minor": 0
}
