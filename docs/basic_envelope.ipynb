{
 "cells": [
  {
   "cell_type": "markdown",
   "metadata": {},
   "source": [
    "## Configuración general\n",
    "\n",
    "Esto es configuración general de IPython"
   ]
  },
  {
   "cell_type": "code",
   "execution_count": 2,
   "metadata": {
    "collapsed": false
   },
   "outputs": [
    {
     "name": "stdout",
     "output_type": "stream",
     "text": [
      "Reloading matplotlib.backends.__future__\n",
      "Reloading __future__\n",
      "Reloading matplotlib.backends.matplotlib\n",
      "Reloading matplotlib\n",
      "Reloading matplotlib.__future__\n",
      "Reloading matplotlib.sys\n",
      "Reloading matplotlib.dateutil\n",
      "Reloading dateutil\n",
      "Reloading matplotlib.pyparsing\n",
      "Reloading pyparsing\n",
      "Reloading string\n",
      "Reloading re\n",
      "Reloading sre_compile\n",
      "Reloading _sre\n",
      "Reloading sre_parse\n",
      "Reloading sre_constants\n",
      "Reloading _locale\n",
      "Reloading copy_reg\n",
      "Reloading types\n",
      "Reloading strop\n",
      "Reloading weakref\n",
      "Reloading UserDict\n",
      "Reloading _abcoll\n",
      "Reloading abc\n",
      "Reloading _weakrefset\n",
      "Reloading _weakref\n",
      "Reloading exceptions\n",
      "Reloading copy\n",
      "Reloading org\n",
      "Reloading warnings\n",
      "Reloading linecache\n",
      "Reloading os\n",
      "Reloading errno\n",
      "Reloading posix\n",
      "Reloading posixpath\n",
      "Reloading stat\n",
      "Reloading genericpath\n",
      "Reloading _warnings\n",
      "Reloading collections\n",
      "Reloading _collections\n",
      "Reloading operator\n",
      "Reloading keyword\n",
      "Reloading heapq\n",
      "Reloading itertools\n",
      "Reloading _heapq\n",
      "Reloading thread\n",
      "Reloading pprint\n",
      "Reloading cStringIO\n",
      "Reloading functools\n",
      "Reloading _functools\n",
      "Reloading traceback\n",
      "Reloading matplotlib.os\n",
      "Reloading matplotlib.re\n",
      "Reloading matplotlib.shutil\n",
      "Reloading shutil\n",
      "Reloading fnmatch\n",
      "Reloading pwd\n",
      "Reloading grp\n",
      "Reloading matplotlib.warnings\n",
      "Reloading matplotlib.distutils\n",
      "Reloading distutils\n",
      "Reloading distutils.os\n",
      "Reloading distutils.sys\n",
      "Reloading distutils.warnings\n",
      "Reloading distutils.imp\n",
      "Reloading imp\n",
      "Reloading distutils.opcode\n",
      "Reloading opcode\n",
      "Reloading distutils.distutils\n",
      "Reloading distutils.sysconfig\n",
      "Reloading distutils.re\n",
      "Reloading distutils.string\n",
      "Reloading distutils.fnmatch\n",
      "Reloading distutils.errors\n",
      "Reloading distutils.version\n",
      "Reloading distutils.types\n",
      "Reloading matplotlib.matplotlib\n",
      "Reloading matplotlib.cbook\n",
      "Reloading matplotlib.datetime\n",
      "Reloading datetime\n",
      "Reloading matplotlib.errno\n",
      "Reloading matplotlib.functools\n",
      "Reloading matplotlib.glob\n",
      "Reloading glob\n",
      "Reloading matplotlib.gzip\n",
      "Reloading gzip\n",
      "Reloading struct\n",
      "Reloading _struct\n",
      "Reloading time\n",
      "Reloading zlib\n",
      "Reloading io\n",
      "Reloading _io\n",
      "Reloading matplotlib.io\n",
      "Reloading matplotlib.locale\n",
      "Reloading locale\n",
      "Reloading encodings\n",
      "Reloading encodings.codecs\n",
      "Reloading codecs\n",
      "Reloading _codecs\n",
      "Reloading encodings.encodings\n",
      "Reloading encodings.__builtin__\n",
      "Reloading encodings.aliases\n",
      "Reloading matplotlib.threading\n",
      "Reloading threading\n",
      "Reloading matplotlib.time\n",
      "Reloading matplotlib.traceback\n",
      "Reloading matplotlib.types\n",
      "Reloading matplotlib.weakref\n",
      "Reloading matplotlib.numpy\n",
      "Reloading numpy\n",
      "Reloading numpy.__config__\n",
      "Reloading numpy.version\n",
      "Reloading numpy._import_tools\n",
      "Reloading numpy.testing\n",
      "Reloading unittest\n",
      "Reloading unittest.result\n",
      "Reloading unittest.os\n",
      "Reloading unittest.sys\n",
      "Reloading unittest.traceback\n",
      "Reloading unittest.StringIO\n",
      "Reloading StringIO\n",
      "Reloading unittest.functools\n",
      "Reloading unittest.case\n",
      "Reloading unittest.collections\n",
      "Reloading unittest.difflib\n",
      "Reloading difflib\n",
      "Reloading unittest.pprint\n",
      "Reloading unittest.re\n",
      "Reloading unittest.types\n",
      "Reloading unittest.warnings\n",
      "Reloading unittest.util\n",
      "Reloading unittest.suite\n",
      "Reloading unittest.loader\n",
      "Reloading unittest.fnmatch\n",
      "Reloading unittest.main\n",
      "Reloading unittest.signals\n",
      "Reloading unittest.signal\n",
      "Reloading signal\n",
      "Reloading unittest.weakref\n",
      "Reloading unittest.runner\n",
      "Reloading unittest.time\n",
      "Reloading numpy.testing.utils\n",
      "Reloading numpy.testing.nosetester\n",
      "Reloading numpy.compat\n",
      "Reloading numpy.compat._inspect\n",
      "Reloading numpy.compat.py3k\n",
      "Reloading numpy.core\n",
      "Reloading numpy.core.info\n",
      "Reloading numpy.core.numeric\n",
      "Reloading numpy.core.umath\n",
      "Reloading numpy.core.numerictypes\n",
      "Reloading numpy.core.multiarray\n",
      "Reloading cPickle\n",
      "Reloading numpy.core._dotblas\n",
      "Reloading numpy.core.arrayprint\n",
      "Reloading numpy.core.fromnumeric\n",
      "Reloading numpy.core.records\n",
      "Reloading numpy.core.defchararray\n",
      "Reloading numpy.core.memmap\n",
      "Reloading numpy.core.function_base\n",
      "Reloading numpy.core.machar\n",
      "Reloading numpy.core.getlimits\n",
      "Reloading numpy.core.shape_base\n",
      "Reloading numpy.testing.numpytest\n",
      "Reloading numpy.lib\n",
      "Reloading math\n",
      "Reloading numpy.lib.info\n",
      "Reloading numpy.lib.type_check\n",
      "Reloading numpy.lib.ufunclike\n",
      "Reloading numpy.lib.index_tricks\n",
      "Reloading numpy.matrixlib\n",
      "Reloading numpy.matrixlib.defmatrix\n",
      "Reloading numpy.lib.function_base\n",
      "Reloading numpy.lib.twodim_base\n",
      "Reloading numpy.lib._compiled_base\n",
      "Reloading numpy.lib.utils\n",
      "Reloading numpy.lib.stride_tricks\n",
      "Reloading numpy.lib.nanfunctions\n",
      "Reloading numpy.lib.shape_base\n",
      "Reloading numpy.lib.polynomial\n",
      "Reloading numpy.linalg\n",
      "Reloading numpy.linalg.info\n",
      "Reloading numpy.linalg.linalg\n",
      "Reloading numpy.lib.arraysetops\n",
      "Reloading numpy.lib.npyio\n",
      "Reloading numpy.lib._datasource\n",
      "Reloading numpy.lib._iotools\n",
      "Reloading future_builtins\n",
      "Reloading numpy.lib.financial\n",
      "Reloading numpy.lib.arrayterator\n",
      "Reloading numpy.lib.arraypad\n",
      "Reloading numpy.ma\n",
      "Reloading numpy.ma.core\n",
      "Reloading numpy.ma.extras\n",
      "Reloading matplotlib.compat\n",
      "Reloading matplotlib.tempfile\n",
      "Reloading tempfile\n",
      "Reloading random\n",
      "Reloading binascii\n",
      "Reloading hashlib\n",
      "Reloading _hashlib\n",
      "Reloading _random\n",
      "Reloading fcntl\n",
      "Reloading matplotlib.rcsetup\n",
      "Reloading matplotlib.fontconfig_pattern\n",
      "Reloading matplotlib.colors\n",
      "Reloading matplotlib.textwrap\n",
      "Reloading textwrap\n",
      "Reloading matplotlib.backends.inspect\n",
      "Reloading inspect\n",
      "Reloading dis\n",
      "Reloading tokenize\n",
      "Reloading token\n",
      "Reloading matplotlib.backends.warnings\n"
     ]
    }
   ],
   "source": [
    "%config InlineBackend.close_figures=False\n",
    "%matplotlib inline\n",
    "from matplotlib import interactive\n",
    "interactive(False)"
   ]
  },
  {
   "cell_type": "markdown",
   "metadata": {},
   "source": [
    "Luego importamos todo las \"clases\" que provee la librería `sur`"
   ]
  },
  {
   "cell_type": "code",
   "execution_count": 1,
   "metadata": {
    "collapsed": false
   },
   "outputs": [
    {
     "name": "stderr",
     "output_type": "stream",
     "text": [
      "/home/tin/.virtualenvs/sur/local/lib/python2.7/site-packages/matplotlib/font_manager.py:273: UserWarning: Matplotlib is building the font cache using fc-list. This may take a moment.\n",
      "  warnings.warn('Matplotlib is building the font cache using fc-list. This may take a moment.')\n"
     ]
    }
   ],
   "source": [
    "from sur import *\n",
    "\n",
    "setup_database()"
   ]
  },
  {
   "cell_type": "markdown",
   "metadata": {},
   "source": [
    "## Definición de la mezcla"
   ]
  },
  {
   "cell_type": "code",
   "execution_count": 5,
   "metadata": {
    "collapsed": false
   },
   "outputs": [
    {
     "data": {
      "text/plain": [
       "[<Compound: METHANE>, <Compound: ETHANE>, <Compound: CARBON DIOXIDE>, <Compound: WATER>]"
      ]
     },
     "execution_count": 5,
     "metadata": {},
     "output_type": "execute_result"
    }
   ],
   "source": [
    "mi_mezcla = Mixture(name=\"tal cosa\")\n",
    "mi_mezcla.add('methane', .4) \n",
    "mi_mezcla['ethane'] = .3\n",
    "mi_mezcla['co2'] = .2002\n",
    "mi_mezcla.add('water')\n",
    "mi_mezcla.compounds\n"
   ]
  },
  {
   "cell_type": "code",
   "execution_count": 6,
   "metadata": {
    "collapsed": false
   },
   "outputs": [],
   "source": [
    "mi_mezcla.sort(True)   # ordena por peso"
   ]
  },
  {
   "cell_type": "code",
   "execution_count": 7,
   "metadata": {
    "collapsed": false
   },
   "outputs": [
    {
     "data": {
      "text/plain": [
       "[<Compound: METHANE>, <Compound: WATER>, <Compound: ETHANE>, <Compound: CARBON DIOXIDE>]"
      ]
     },
     "execution_count": 7,
     "metadata": {},
     "output_type": "execute_result"
    }
   ],
   "source": [
    "mi_mezcla.compounds"
   ]
  },
  {
   "cell_type": "markdown",
   "metadata": {},
   "source": [
    "## Definición de la configuración (RKPR)"
   ]
  },
  {
   "cell_type": "code",
   "execution_count": 8,
   "metadata": {
    "collapsed": true
   },
   "outputs": [],
   "source": [
    "EosSetup??"
   ]
  },
  {
   "cell_type": "code",
   "execution_count": 10,
   "metadata": {
    "collapsed": false
   },
   "outputs": [
    {
     "data": {
      "text/plain": [
       "<LijInteractionParameter: PR [<Compound: n-DECANE>, <Compound: CARBON DIOXIDE>, <Compound: CARBON DIOXIDE>, <Compound: CARBON DIOXIDE>]: -0.9>"
      ]
     },
     "execution_count": 10,
     "metadata": {},
     "output_type": "execute_result"
    }
   ],
   "source": [
    "setup = EosSetup.objects.create(eos='PR', kij_mode=EosSetup.CONSTANTS,  lij_mode=EosSetup.ZERO)\n",
    "setup.set_interaction('kij', 'methane', 'co2', .1)\n",
    "setup.set_interaction('kij', 'co2', 'n-decane',  0.091)\n",
    "setup.set_interaction('lij', 'co2', 'n-decane',  -0.90)"
   ]
  },
  {
   "cell_type": "code",
   "execution_count": 14,
   "metadata": {
    "collapsed": false
   },
   "outputs": [
    {
     "data": {
      "text/plain": [
       "array([[ 0.    ,  0.    ,  0.0114,  0.1   ],\n",
       "       [ 0.    ,  0.    ,  0.    ,  0.    ],\n",
       "       [ 0.0114,  0.    ,  0.    ,  0.1184],\n",
       "       [ 0.1   ,  0.    ,  0.1184,  0.    ]])"
      ]
     },
     "execution_count": 14,
     "metadata": {},
     "output_type": "execute_result"
    }
   ],
   "source": [
    "setup.kij(mi_mezcla)"
   ]
  },
  {
   "cell_type": "code",
   "execution_count": null,
   "metadata": {
    "collapsed": true
   },
   "outputs": [],
   "source": []
  },
  {
   "cell_type": "code",
   "execution_count": 16,
   "metadata": {
    "collapsed": false
   },
   "outputs": [],
   "source": [
    "matriz = \"\"\"0. .2 .3 .4\n",
    "0 0 -.1 .2\n",
    "0 0 -.3 .12\n",
    "0 0 -.12 .21\"\"\"\n"
   ]
  },
  {
   "cell_type": "code",
   "execution_count": 17,
   "metadata": {
    "collapsed": false
   },
   "outputs": [],
   "source": [
    "setup.set_interaction_matrix('kij', mi_mezcla, matriz)"
   ]
  },
  {
   "cell_type": "markdown",
   "metadata": {},
   "source": [
    "Podemos ver como van quedando nuestras matrices de interacción para la mezcla `m`"
   ]
  },
  {
   "cell_type": "code",
   "execution_count": 18,
   "metadata": {
    "collapsed": false
   },
   "outputs": [
    {
     "data": {
      "text/plain": [
       "array([[ 0.  ,  0.2 ,  0.3 ,  0.4 ],\n",
       "       [ 0.2 ,  0.  , -0.1 ,  0.2 ],\n",
       "       [ 0.3 , -0.1 ,  0.  ,  0.12],\n",
       "       [ 0.4 ,  0.2 ,  0.12,  0.  ]])"
      ]
     },
     "execution_count": 18,
     "metadata": {},
     "output_type": "execute_result"
    }
   ],
   "source": [
    "setup.kij(mi_mezcla)"
   ]
  },
  {
   "cell_type": "markdown",
   "metadata": {},
   "source": [
    "## Simulación de la envolvente para la mezcla con la configuración dada\n",
    "\n",
    "Para simular una envolvente se llama al método `get_envelope` de la mezcla con una configuración"
   ]
  },
  {
   "cell_type": "code",
   "execution_count": 2,
   "metadata": {
    "collapsed": false
   },
   "outputs": [
    {
     "name": "stdout",
     "output_type": "stream",
     "text": [
      "Reloading __future__\n",
      "Reloading matplotlib\n",
      "Reloading matplotlib.externals\n",
      "Reloading distutils\n",
      "Reloading distutils.os\n",
      "Reloading os\n",
      "Reloading errno\n",
      "Reloading posix\n",
      "Reloading posixpath\n",
      "Reloading stat\n",
      "Reloading genericpath\n",
      "Reloading warnings\n",
      "Reloading linecache\n",
      "Reloading types\n",
      "Reloading _warnings\n",
      "Reloading UserDict\n",
      "Reloading _abcoll\n",
      "Reloading abc\n",
      "Reloading _weakrefset\n",
      "Reloading _weakref\n",
      "Reloading copy_reg\n",
      "Reloading distutils.sys\n",
      "Reloading distutils.warnings\n",
      "Reloading distutils.imp\n",
      "Reloading imp\n",
      "Reloading distutils.opcode\n",
      "Reloading opcode\n",
      "Reloading distutils.distutils\n",
      "Reloading distutils.version\n",
      "Reloading distutils.string\n",
      "Reloading string\n",
      "Reloading re\n",
      "Reloading sre_compile\n",
      "Reloading _sre\n",
      "Reloading sre_parse\n",
      "Reloading sre_constants\n",
      "Reloading _locale\n",
      "Reloading strop\n",
      "Reloading distutils.re\n",
      "Reloading distutils.types\n",
      "Reloading itertools\n",
      "Reloading io\n",
      "Reloading _io\n",
      "Reloading inspect\n",
      "Reloading dis\n",
      "Reloading tokenize\n",
      "Reloading token\n",
      "Reloading operator\n",
      "Reloading collections\n",
      "Reloading _collections\n",
      "Reloading keyword\n",
      "Reloading heapq\n",
      "Reloading _heapq\n",
      "Reloading thread\n",
      "Reloading locale\n",
      "Reloading encodings\n",
      "Reloading encodings.codecs\n",
      "Reloading codecs\n",
      "Reloading _codecs\n",
      "Reloading encodings.encodings\n",
      "Reloading encodings.__builtin__\n",
      "Reloading encodings.aliases\n",
      "Reloading functools\n",
      "Reloading _functools\n",
      "Reloading tempfile\n",
      "Reloading random\n",
      "Reloading math\n",
      "Reloading binascii\n",
      "Reloading hashlib\n",
      "Reloading _hashlib\n",
      "Reloading _random\n",
      "Reloading cStringIO\n",
      "Reloading fcntl\n",
      "Reloading contextlib\n",
      "Reloading distutils.sysconfig\n",
      "Reloading distutils.fnmatch\n",
      "Reloading fnmatch\n",
      "Reloading distutils.errors\n",
      "Reloading matplotlib.cbook\n",
      "Reloading matplotlib.externals.six\n",
      "Reloading StringIO\n",
      "Reloading matplotlib.externals.six.moves\n"
     ]
    },
    {
     "ename": "ImportError",
     "evalue": "No module named moves",
     "output_type": "error",
     "traceback": [
      "\u001b[1;31m---------------------------------------------------------------------------\u001b[0m",
      "\u001b[1;31mImportError\u001b[0m                               Traceback (most recent call last)",
      "\u001b[1;32m<ipython-input-2-2b1da000a957>\u001b[0m in \u001b[0;36m<module>\u001b[1;34m()\u001b[0m\n",
      "\u001b[1;32m/home/tin/.virtualenvs/sur/local/lib/python2.7/site-packages/IPython/core/interactiveshell.pyc\u001b[0m in \u001b[0;36mmagic\u001b[1;34m(self, arg_s)\u001b[0m\n\u001b[0;32m   2161\u001b[0m         \u001b[0mmagic_name\u001b[0m\u001b[1;33m,\u001b[0m \u001b[0m_\u001b[0m\u001b[1;33m,\u001b[0m \u001b[0mmagic_arg_s\u001b[0m \u001b[1;33m=\u001b[0m \u001b[0marg_s\u001b[0m\u001b[1;33m.\u001b[0m\u001b[0mpartition\u001b[0m\u001b[1;33m(\u001b[0m\u001b[1;34m' '\u001b[0m\u001b[1;33m)\u001b[0m\u001b[1;33m\u001b[0m\u001b[0m\n\u001b[0;32m   2162\u001b[0m         \u001b[0mmagic_name\u001b[0m \u001b[1;33m=\u001b[0m \u001b[0mmagic_name\u001b[0m\u001b[1;33m.\u001b[0m\u001b[0mlstrip\u001b[0m\u001b[1;33m(\u001b[0m\u001b[0mprefilter\u001b[0m\u001b[1;33m.\u001b[0m\u001b[0mESC_MAGIC\u001b[0m\u001b[1;33m)\u001b[0m\u001b[1;33m\u001b[0m\u001b[0m\n\u001b[1;32m-> 2163\u001b[1;33m         \u001b[1;32mreturn\u001b[0m \u001b[0mself\u001b[0m\u001b[1;33m.\u001b[0m\u001b[0mrun_line_magic\u001b[0m\u001b[1;33m(\u001b[0m\u001b[0mmagic_name\u001b[0m\u001b[1;33m,\u001b[0m \u001b[0mmagic_arg_s\u001b[0m\u001b[1;33m)\u001b[0m\u001b[1;33m\u001b[0m\u001b[0m\n\u001b[0m\u001b[0;32m   2164\u001b[0m \u001b[1;33m\u001b[0m\u001b[0m\n\u001b[0;32m   2165\u001b[0m     \u001b[1;31m#-------------------------------------------------------------------------\u001b[0m\u001b[1;33m\u001b[0m\u001b[1;33m\u001b[0m\u001b[0m\n",
      "\u001b[1;32m/home/tin/.virtualenvs/sur/local/lib/python2.7/site-packages/IPython/core/interactiveshell.pyc\u001b[0m in \u001b[0;36mrun_line_magic\u001b[1;34m(self, magic_name, line)\u001b[0m\n\u001b[0;32m   2082\u001b[0m                 \u001b[0mkwargs\u001b[0m\u001b[1;33m[\u001b[0m\u001b[1;34m'local_ns'\u001b[0m\u001b[1;33m]\u001b[0m \u001b[1;33m=\u001b[0m \u001b[0msys\u001b[0m\u001b[1;33m.\u001b[0m\u001b[0m_getframe\u001b[0m\u001b[1;33m(\u001b[0m\u001b[0mstack_depth\u001b[0m\u001b[1;33m)\u001b[0m\u001b[1;33m.\u001b[0m\u001b[0mf_locals\u001b[0m\u001b[1;33m\u001b[0m\u001b[0m\n\u001b[0;32m   2083\u001b[0m             \u001b[1;32mwith\u001b[0m \u001b[0mself\u001b[0m\u001b[1;33m.\u001b[0m\u001b[0mbuiltin_trap\u001b[0m\u001b[1;33m:\u001b[0m\u001b[1;33m\u001b[0m\u001b[0m\n\u001b[1;32m-> 2084\u001b[1;33m                 \u001b[0mresult\u001b[0m \u001b[1;33m=\u001b[0m \u001b[0mfn\u001b[0m\u001b[1;33m(\u001b[0m\u001b[1;33m*\u001b[0m\u001b[0margs\u001b[0m\u001b[1;33m,\u001b[0m\u001b[1;33m**\u001b[0m\u001b[0mkwargs\u001b[0m\u001b[1;33m)\u001b[0m\u001b[1;33m\u001b[0m\u001b[0m\n\u001b[0m\u001b[0;32m   2085\u001b[0m             \u001b[1;32mreturn\u001b[0m \u001b[0mresult\u001b[0m\u001b[1;33m\u001b[0m\u001b[0m\n\u001b[0;32m   2086\u001b[0m \u001b[1;33m\u001b[0m\u001b[0m\n",
      "\u001b[1;32m<decorator-gen-106>\u001b[0m in \u001b[0;36mmatplotlib\u001b[1;34m(self, line)\u001b[0m\n",
      "\u001b[1;32m/home/tin/.virtualenvs/sur/local/lib/python2.7/site-packages/IPython/core/magic.pyc\u001b[0m in \u001b[0;36m<lambda>\u001b[1;34m(f, *a, **k)\u001b[0m\n\u001b[0;32m    191\u001b[0m     \u001b[1;31m# but it's overkill for just that one bit of state.\u001b[0m\u001b[1;33m\u001b[0m\u001b[1;33m\u001b[0m\u001b[0m\n\u001b[0;32m    192\u001b[0m     \u001b[1;32mdef\u001b[0m \u001b[0mmagic_deco\u001b[0m\u001b[1;33m(\u001b[0m\u001b[0marg\u001b[0m\u001b[1;33m)\u001b[0m\u001b[1;33m:\u001b[0m\u001b[1;33m\u001b[0m\u001b[0m\n\u001b[1;32m--> 193\u001b[1;33m         \u001b[0mcall\u001b[0m \u001b[1;33m=\u001b[0m \u001b[1;32mlambda\u001b[0m \u001b[0mf\u001b[0m\u001b[1;33m,\u001b[0m \u001b[1;33m*\u001b[0m\u001b[0ma\u001b[0m\u001b[1;33m,\u001b[0m \u001b[1;33m**\u001b[0m\u001b[0mk\u001b[0m\u001b[1;33m:\u001b[0m \u001b[0mf\u001b[0m\u001b[1;33m(\u001b[0m\u001b[1;33m*\u001b[0m\u001b[0ma\u001b[0m\u001b[1;33m,\u001b[0m \u001b[1;33m**\u001b[0m\u001b[0mk\u001b[0m\u001b[1;33m)\u001b[0m\u001b[1;33m\u001b[0m\u001b[0m\n\u001b[0m\u001b[0;32m    194\u001b[0m \u001b[1;33m\u001b[0m\u001b[0m\n\u001b[0;32m    195\u001b[0m         \u001b[1;32mif\u001b[0m \u001b[0mcallable\u001b[0m\u001b[1;33m(\u001b[0m\u001b[0marg\u001b[0m\u001b[1;33m)\u001b[0m\u001b[1;33m:\u001b[0m\u001b[1;33m\u001b[0m\u001b[0m\n",
      "\u001b[1;32m/home/tin/.virtualenvs/sur/local/lib/python2.7/site-packages/IPython/core/magics/pylab.pyc\u001b[0m in \u001b[0;36mmatplotlib\u001b[1;34m(self, line)\u001b[0m\n\u001b[0;32m     98\u001b[0m             \u001b[1;32mprint\u001b[0m\u001b[1;33m(\u001b[0m\u001b[1;34m\"Available matplotlib backends: %s\"\u001b[0m \u001b[1;33m%\u001b[0m \u001b[0mbackends_list\u001b[0m\u001b[1;33m)\u001b[0m\u001b[1;33m\u001b[0m\u001b[0m\n\u001b[0;32m     99\u001b[0m         \u001b[1;32melse\u001b[0m\u001b[1;33m:\u001b[0m\u001b[1;33m\u001b[0m\u001b[0m\n\u001b[1;32m--> 100\u001b[1;33m             \u001b[0mgui\u001b[0m\u001b[1;33m,\u001b[0m \u001b[0mbackend\u001b[0m \u001b[1;33m=\u001b[0m \u001b[0mself\u001b[0m\u001b[1;33m.\u001b[0m\u001b[0mshell\u001b[0m\u001b[1;33m.\u001b[0m\u001b[0menable_matplotlib\u001b[0m\u001b[1;33m(\u001b[0m\u001b[0margs\u001b[0m\u001b[1;33m.\u001b[0m\u001b[0mgui\u001b[0m\u001b[1;33m)\u001b[0m\u001b[1;33m\u001b[0m\u001b[0m\n\u001b[0m\u001b[0;32m    101\u001b[0m             \u001b[0mself\u001b[0m\u001b[1;33m.\u001b[0m\u001b[0m_show_matplotlib_backend\u001b[0m\u001b[1;33m(\u001b[0m\u001b[0margs\u001b[0m\u001b[1;33m.\u001b[0m\u001b[0mgui\u001b[0m\u001b[1;33m,\u001b[0m \u001b[0mbackend\u001b[0m\u001b[1;33m)\u001b[0m\u001b[1;33m\u001b[0m\u001b[0m\n\u001b[0;32m    102\u001b[0m \u001b[1;33m\u001b[0m\u001b[0m\n",
      "\u001b[1;32m/home/tin/.virtualenvs/sur/local/lib/python2.7/site-packages/IPython/core/interactiveshell.pyc\u001b[0m in \u001b[0;36menable_matplotlib\u001b[1;34m(self, gui)\u001b[0m\n\u001b[0;32m   2949\u001b[0m                 \u001b[0mgui\u001b[0m\u001b[1;33m,\u001b[0m \u001b[0mbackend\u001b[0m \u001b[1;33m=\u001b[0m \u001b[0mpt\u001b[0m\u001b[1;33m.\u001b[0m\u001b[0mfind_gui_and_backend\u001b[0m\u001b[1;33m(\u001b[0m\u001b[0mself\u001b[0m\u001b[1;33m.\u001b[0m\u001b[0mpylab_gui_select\u001b[0m\u001b[1;33m)\u001b[0m\u001b[1;33m\u001b[0m\u001b[0m\n\u001b[0;32m   2950\u001b[0m \u001b[1;33m\u001b[0m\u001b[0m\n\u001b[1;32m-> 2951\u001b[1;33m         \u001b[0mpt\u001b[0m\u001b[1;33m.\u001b[0m\u001b[0mactivate_matplotlib\u001b[0m\u001b[1;33m(\u001b[0m\u001b[0mbackend\u001b[0m\u001b[1;33m)\u001b[0m\u001b[1;33m\u001b[0m\u001b[0m\n\u001b[0m\u001b[0;32m   2952\u001b[0m         \u001b[0mpt\u001b[0m\u001b[1;33m.\u001b[0m\u001b[0mconfigure_inline_support\u001b[0m\u001b[1;33m(\u001b[0m\u001b[0mself\u001b[0m\u001b[1;33m,\u001b[0m \u001b[0mbackend\u001b[0m\u001b[1;33m)\u001b[0m\u001b[1;33m\u001b[0m\u001b[0m\n\u001b[0;32m   2953\u001b[0m \u001b[1;33m\u001b[0m\u001b[0m\n",
      "\u001b[1;32m/home/tin/.virtualenvs/sur/local/lib/python2.7/site-packages/IPython/core/pylabtools.pyc\u001b[0m in \u001b[0;36mactivate_matplotlib\u001b[1;34m(backend)\u001b[0m\n\u001b[0;32m    294\u001b[0m \u001b[1;33m\u001b[0m\u001b[0m\n\u001b[0;32m    295\u001b[0m     \u001b[1;32mimport\u001b[0m \u001b[0mmatplotlib\u001b[0m\u001b[1;33m.\u001b[0m\u001b[0mpyplot\u001b[0m\u001b[1;33m\u001b[0m\u001b[0m\n\u001b[1;32m--> 296\u001b[1;33m     \u001b[0mmatplotlib\u001b[0m\u001b[1;33m.\u001b[0m\u001b[0mpyplot\u001b[0m\u001b[1;33m.\u001b[0m\u001b[0mswitch_backend\u001b[0m\u001b[1;33m(\u001b[0m\u001b[0mbackend\u001b[0m\u001b[1;33m)\u001b[0m\u001b[1;33m\u001b[0m\u001b[0m\n\u001b[0m\u001b[0;32m    297\u001b[0m \u001b[1;33m\u001b[0m\u001b[0m\n\u001b[0;32m    298\u001b[0m     \u001b[1;31m# This must be imported last in the matplotlib series, after\u001b[0m\u001b[1;33m\u001b[0m\u001b[1;33m\u001b[0m\u001b[0m\n",
      "\u001b[1;32m/home/tin/.virtualenvs/sur/local/lib/python2.7/site-packages/matplotlib/pyplot.pyc\u001b[0m in \u001b[0;36mswitch_backend\u001b[1;34m(newbackend)\u001b[0m\n\u001b[0;32m    220\u001b[0m     \u001b[0mclose\u001b[0m\u001b[1;33m(\u001b[0m\u001b[1;34m'all'\u001b[0m\u001b[1;33m)\u001b[0m\u001b[1;33m\u001b[0m\u001b[0m\n\u001b[0;32m    221\u001b[0m     \u001b[1;32mglobal\u001b[0m \u001b[0m_backend_mod\u001b[0m\u001b[1;33m,\u001b[0m \u001b[0mnew_figure_manager\u001b[0m\u001b[1;33m,\u001b[0m \u001b[0mdraw_if_interactive\u001b[0m\u001b[1;33m,\u001b[0m \u001b[0m_show\u001b[0m\u001b[1;33m\u001b[0m\u001b[0m\n\u001b[1;32m--> 222\u001b[1;33m     \u001b[0mmatplotlib\u001b[0m\u001b[1;33m.\u001b[0m\u001b[0muse\u001b[0m\u001b[1;33m(\u001b[0m\u001b[0mnewbackend\u001b[0m\u001b[1;33m,\u001b[0m \u001b[0mwarn\u001b[0m\u001b[1;33m=\u001b[0m\u001b[0mFalse\u001b[0m\u001b[1;33m,\u001b[0m \u001b[0mforce\u001b[0m\u001b[1;33m=\u001b[0m\u001b[0mTrue\u001b[0m\u001b[1;33m)\u001b[0m\u001b[1;33m\u001b[0m\u001b[0m\n\u001b[0m\u001b[0;32m    223\u001b[0m     \u001b[1;32mfrom\u001b[0m \u001b[0mmatplotlib\u001b[0m\u001b[1;33m.\u001b[0m\u001b[0mbackends\u001b[0m \u001b[1;32mimport\u001b[0m \u001b[0mpylab_setup\u001b[0m\u001b[1;33m\u001b[0m\u001b[0m\n\u001b[0;32m    224\u001b[0m     \u001b[0m_backend_mod\u001b[0m\u001b[1;33m,\u001b[0m \u001b[0mnew_figure_manager\u001b[0m\u001b[1;33m,\u001b[0m \u001b[0mdraw_if_interactive\u001b[0m\u001b[1;33m,\u001b[0m \u001b[0m_show\u001b[0m \u001b[1;33m=\u001b[0m \u001b[0mpylab_setup\u001b[0m\u001b[1;33m(\u001b[0m\u001b[1;33m)\u001b[0m\u001b[1;33m\u001b[0m\u001b[0m\n",
      "\u001b[1;32m/home/tin/.virtualenvs/sur/local/lib/python2.7/site-packages/matplotlib/__init__.pyc\u001b[0m in \u001b[0;36muse\u001b[1;34m(arg, warn, force)\u001b[0m\n\u001b[0;32m   1363\u001b[0m     \u001b[1;31m# module import. See backends/__init__.py for more detail.\u001b[0m\u001b[1;33m\u001b[0m\u001b[1;33m\u001b[0m\u001b[0m\n\u001b[0;32m   1364\u001b[0m     \u001b[1;32mif\u001b[0m \u001b[0mneed_reload\u001b[0m\u001b[1;33m:\u001b[0m\u001b[1;33m\u001b[0m\u001b[0m\n\u001b[1;32m-> 1365\u001b[1;33m         \u001b[0mreload\u001b[0m\u001b[1;33m(\u001b[0m\u001b[0msys\u001b[0m\u001b[1;33m.\u001b[0m\u001b[0mmodules\u001b[0m\u001b[1;33m[\u001b[0m\u001b[1;34m'matplotlib.backends'\u001b[0m\u001b[1;33m]\u001b[0m\u001b[1;33m)\u001b[0m\u001b[1;33m\u001b[0m\u001b[0m\n\u001b[0m\u001b[0;32m   1366\u001b[0m \u001b[1;33m\u001b[0m\u001b[0m\n\u001b[0;32m   1367\u001b[0m \u001b[1;33m\u001b[0m\u001b[0m\n",
      "\u001b[1;32m/home/tin/.virtualenvs/sur/local/lib/python2.7/site-packages/IPython/lib/deepreload.pyc\u001b[0m in \u001b[0;36m_dreload\u001b[1;34m(module, **kwargs)\u001b[0m\n\u001b[0;32m    355\u001b[0m \u001b[0mPlease\u001b[0m \u001b[1;32mimport\u001b[0m \u001b[1;33m`\u001b[0m\u001b[0mreload\u001b[0m\u001b[1;33m`\u001b[0m \u001b[0mexplicitly\u001b[0m \u001b[1;32mfrom\u001b[0m \u001b[1;33m`\u001b[0m\u001b[0mIPython\u001b[0m\u001b[1;33m.\u001b[0m\u001b[0mlib\u001b[0m\u001b[1;33m.\u001b[0m\u001b[0mdeepreload\u001b[0m\u001b[1;33m`\u001b[0m\u001b[1;33m.\u001b[0m\u001b[1;33m\u001b[0m\u001b[0m\n\u001b[0;32m    356\u001b[0m \"\"\", DeprecationWarning, stacklevel=2)\n\u001b[1;32m--> 357\u001b[1;33m     \u001b[0mreload\u001b[0m\u001b[1;33m(\u001b[0m\u001b[0mmodule\u001b[0m\u001b[1;33m,\u001b[0m \u001b[1;33m**\u001b[0m\u001b[0mkwargs\u001b[0m\u001b[1;33m)\u001b[0m\u001b[1;33m\u001b[0m\u001b[0m\n\u001b[0m\u001b[0;32m    358\u001b[0m \u001b[1;33m\u001b[0m\u001b[0m\n\u001b[0;32m    359\u001b[0m \u001b[1;31m# Uncomment the following to automatically activate deep reloading whenever\u001b[0m\u001b[1;33m\u001b[0m\u001b[1;33m\u001b[0m\u001b[0m\n",
      "\u001b[1;32m/home/tin/.virtualenvs/sur/local/lib/python2.7/site-packages/IPython/lib/deepreload.pyc\u001b[0m in \u001b[0;36mreload\u001b[1;34m(module, exclude)\u001b[0m\n\u001b[0;32m    339\u001b[0m     \u001b[1;32mtry\u001b[0m\u001b[1;33m:\u001b[0m\u001b[1;33m\u001b[0m\u001b[0m\n\u001b[0;32m    340\u001b[0m         \u001b[1;32mwith\u001b[0m \u001b[0mreplace_import_hook\u001b[0m\u001b[1;33m(\u001b[0m\u001b[0mdeep_import_hook\u001b[0m\u001b[1;33m)\u001b[0m\u001b[1;33m:\u001b[0m\u001b[1;33m\u001b[0m\u001b[0m\n\u001b[1;32m--> 341\u001b[1;33m             \u001b[1;32mreturn\u001b[0m \u001b[0mdeep_reload_hook\u001b[0m\u001b[1;33m(\u001b[0m\u001b[0mmodule\u001b[0m\u001b[1;33m)\u001b[0m\u001b[1;33m\u001b[0m\u001b[0m\n\u001b[0m\u001b[0;32m    342\u001b[0m     \u001b[1;32mfinally\u001b[0m\u001b[1;33m:\u001b[0m\u001b[1;33m\u001b[0m\u001b[0m\n\u001b[0;32m    343\u001b[0m         \u001b[0mfound_now\u001b[0m \u001b[1;33m=\u001b[0m \u001b[1;33m{\u001b[0m\u001b[1;33m}\u001b[0m\u001b[1;33m\u001b[0m\u001b[0m\n",
      "\u001b[1;32m/home/tin/.virtualenvs/sur/local/lib/python2.7/site-packages/IPython/lib/deepreload.pyc\u001b[0m in \u001b[0;36mdeep_reload_hook\u001b[1;34m(m)\u001b[0m\n\u001b[0;32m    309\u001b[0m \u001b[1;33m\u001b[0m\u001b[0m\n\u001b[0;32m    310\u001b[0m     \u001b[1;32mtry\u001b[0m\u001b[1;33m:\u001b[0m\u001b[1;33m\u001b[0m\u001b[0m\n\u001b[1;32m--> 311\u001b[1;33m         \u001b[0mnewm\u001b[0m \u001b[1;33m=\u001b[0m \u001b[0mimp\u001b[0m\u001b[1;33m.\u001b[0m\u001b[0mload_module\u001b[0m\u001b[1;33m(\u001b[0m\u001b[0mname\u001b[0m\u001b[1;33m,\u001b[0m \u001b[0mfp\u001b[0m\u001b[1;33m,\u001b[0m \u001b[0mfilename\u001b[0m\u001b[1;33m,\u001b[0m \u001b[0mstuff\u001b[0m\u001b[1;33m)\u001b[0m\u001b[1;33m\u001b[0m\u001b[0m\n\u001b[0m\u001b[0;32m    312\u001b[0m     \u001b[1;32mexcept\u001b[0m\u001b[1;33m:\u001b[0m\u001b[1;33m\u001b[0m\u001b[0m\n\u001b[0;32m    313\u001b[0m          \u001b[1;31m# load_module probably removed name from modules because of\u001b[0m\u001b[1;33m\u001b[0m\u001b[1;33m\u001b[0m\u001b[0m\n",
      "\u001b[1;32m/home/tin/.virtualenvs/sur/local/lib/python2.7/site-packages/matplotlib/backends/__init__.pyc\u001b[0m in \u001b[0;36m<module>\u001b[1;34m()\u001b[0m\n\u001b[0;32m      2\u001b[0m                         unicode_literals)\n\u001b[0;32m      3\u001b[0m \u001b[1;33m\u001b[0m\u001b[0m\n\u001b[1;32m----> 4\u001b[1;33m \u001b[1;32mfrom\u001b[0m \u001b[0mmatplotlib\u001b[0m\u001b[1;33m.\u001b[0m\u001b[0mexternals\u001b[0m \u001b[1;32mimport\u001b[0m \u001b[0msix\u001b[0m\u001b[1;33m\u001b[0m\u001b[0m\n\u001b[0m\u001b[0;32m      5\u001b[0m \u001b[1;33m\u001b[0m\u001b[0m\n\u001b[0;32m      6\u001b[0m \u001b[1;32mimport\u001b[0m \u001b[0mmatplotlib\u001b[0m\u001b[1;33m\u001b[0m\u001b[0m\n",
      "\u001b[1;32m/home/tin/.virtualenvs/sur/local/lib/python2.7/site-packages/IPython/lib/deepreload.pyc\u001b[0m in \u001b[0;36mdeep_import_hook\u001b[1;34m(name, globals, locals, fromlist, level)\u001b[0m\n\u001b[0;32m    250\u001b[0m     \u001b[0mparent\u001b[0m\u001b[1;33m,\u001b[0m \u001b[0mbuf\u001b[0m \u001b[1;33m=\u001b[0m \u001b[0mget_parent\u001b[0m\u001b[1;33m(\u001b[0m\u001b[0mglobals\u001b[0m\u001b[1;33m,\u001b[0m \u001b[0mlevel\u001b[0m\u001b[1;33m)\u001b[0m\u001b[1;33m\u001b[0m\u001b[0m\n\u001b[0;32m    251\u001b[0m \u001b[1;33m\u001b[0m\u001b[0m\n\u001b[1;32m--> 252\u001b[1;33m     \u001b[0mhead\u001b[0m\u001b[1;33m,\u001b[0m \u001b[0mname\u001b[0m\u001b[1;33m,\u001b[0m \u001b[0mbuf\u001b[0m \u001b[1;33m=\u001b[0m \u001b[0mload_next\u001b[0m\u001b[1;33m(\u001b[0m\u001b[0mparent\u001b[0m\u001b[1;33m,\u001b[0m \u001b[0mNone\u001b[0m \u001b[1;32mif\u001b[0m \u001b[0mlevel\u001b[0m \u001b[1;33m<\u001b[0m \u001b[1;36m0\u001b[0m \u001b[1;32melse\u001b[0m \u001b[0mparent\u001b[0m\u001b[1;33m,\u001b[0m \u001b[0mname\u001b[0m\u001b[1;33m,\u001b[0m \u001b[0mbuf\u001b[0m\u001b[1;33m)\u001b[0m\u001b[1;33m\u001b[0m\u001b[0m\n\u001b[0m\u001b[0;32m    253\u001b[0m \u001b[1;33m\u001b[0m\u001b[0m\n\u001b[0;32m    254\u001b[0m     \u001b[0mtail\u001b[0m \u001b[1;33m=\u001b[0m \u001b[0mhead\u001b[0m\u001b[1;33m\u001b[0m\u001b[0m\n",
      "\u001b[1;32m/home/tin/.virtualenvs/sur/local/lib/python2.7/site-packages/IPython/lib/deepreload.pyc\u001b[0m in \u001b[0;36mload_next\u001b[1;34m(mod, altmod, name, buf)\u001b[0m\n\u001b[0;32m    154\u001b[0m     \u001b[0mbuf\u001b[0m \u001b[1;33m+=\u001b[0m \u001b[0msubname\u001b[0m\u001b[1;33m\u001b[0m\u001b[0m\n\u001b[0;32m    155\u001b[0m \u001b[1;33m\u001b[0m\u001b[0m\n\u001b[1;32m--> 156\u001b[1;33m     \u001b[0mresult\u001b[0m \u001b[1;33m=\u001b[0m \u001b[0mimport_submodule\u001b[0m\u001b[1;33m(\u001b[0m\u001b[0mmod\u001b[0m\u001b[1;33m,\u001b[0m \u001b[0msubname\u001b[0m\u001b[1;33m,\u001b[0m \u001b[0mbuf\u001b[0m\u001b[1;33m)\u001b[0m\u001b[1;33m\u001b[0m\u001b[0m\n\u001b[0m\u001b[0;32m    157\u001b[0m     \u001b[1;32mif\u001b[0m \u001b[0mresult\u001b[0m \u001b[1;32mis\u001b[0m \u001b[0mNone\u001b[0m \u001b[1;32mand\u001b[0m \u001b[0mmod\u001b[0m \u001b[1;33m!=\u001b[0m \u001b[0maltmod\u001b[0m\u001b[1;33m:\u001b[0m\u001b[1;33m\u001b[0m\u001b[0m\n\u001b[0;32m    158\u001b[0m         \u001b[0mresult\u001b[0m \u001b[1;33m=\u001b[0m \u001b[0mimport_submodule\u001b[0m\u001b[1;33m(\u001b[0m\u001b[0maltmod\u001b[0m\u001b[1;33m,\u001b[0m \u001b[0msubname\u001b[0m\u001b[1;33m,\u001b[0m \u001b[0msubname\u001b[0m\u001b[1;33m)\u001b[0m\u001b[1;33m\u001b[0m\u001b[0m\n",
      "\u001b[1;32m/home/tin/.virtualenvs/sur/local/lib/python2.7/site-packages/IPython/lib/deepreload.pyc\u001b[0m in \u001b[0;36mimport_submodule\u001b[1;34m(mod, subname, fullname)\u001b[0m\n\u001b[0;32m    199\u001b[0m \u001b[1;33m\u001b[0m\u001b[0m\n\u001b[0;32m    200\u001b[0m         \u001b[1;32mtry\u001b[0m\u001b[1;33m:\u001b[0m\u001b[1;33m\u001b[0m\u001b[0m\n\u001b[1;32m--> 201\u001b[1;33m             \u001b[0mm\u001b[0m \u001b[1;33m=\u001b[0m \u001b[0mimp\u001b[0m\u001b[1;33m.\u001b[0m\u001b[0mload_module\u001b[0m\u001b[1;33m(\u001b[0m\u001b[0mfullname\u001b[0m\u001b[1;33m,\u001b[0m \u001b[0mfp\u001b[0m\u001b[1;33m,\u001b[0m \u001b[0mfilename\u001b[0m\u001b[1;33m,\u001b[0m \u001b[0mstuff\u001b[0m\u001b[1;33m)\u001b[0m\u001b[1;33m\u001b[0m\u001b[0m\n\u001b[0m\u001b[0;32m    202\u001b[0m         \u001b[1;32mexcept\u001b[0m\u001b[1;33m:\u001b[0m\u001b[1;33m\u001b[0m\u001b[0m\n\u001b[0;32m    203\u001b[0m             \u001b[1;31m# load_module probably removed name from modules because of\u001b[0m\u001b[1;33m\u001b[0m\u001b[1;33m\u001b[0m\u001b[0m\n",
      "\u001b[1;32m/home/tin/.virtualenvs/sur/local/lib/python2.7/site-packages/matplotlib/__init__.pyc\u001b[0m in \u001b[0;36m<module>\u001b[1;34m()\u001b[0m\n\u001b[0;32m    120\u001b[0m \u001b[1;31m# cbook must import matplotlib only within function\u001b[0m\u001b[1;33m\u001b[0m\u001b[1;33m\u001b[0m\u001b[0m\n\u001b[0;32m    121\u001b[0m \u001b[1;31m# definitions, so it is safe to import from it here.\u001b[0m\u001b[1;33m\u001b[0m\u001b[1;33m\u001b[0m\u001b[0m\n\u001b[1;32m--> 122\u001b[1;33m \u001b[1;32mfrom\u001b[0m \u001b[0mmatplotlib\u001b[0m\u001b[1;33m.\u001b[0m\u001b[0mcbook\u001b[0m \u001b[1;32mimport\u001b[0m \u001b[0mis_string_like\u001b[0m\u001b[1;33m,\u001b[0m \u001b[0mmplDeprecation\u001b[0m\u001b[1;33m,\u001b[0m \u001b[0mdedent\u001b[0m\u001b[1;33m,\u001b[0m \u001b[0mget_label\u001b[0m\u001b[1;33m\u001b[0m\u001b[0m\n\u001b[0m\u001b[0;32m    123\u001b[0m \u001b[1;32mfrom\u001b[0m \u001b[0mmatplotlib\u001b[0m\u001b[1;33m.\u001b[0m\u001b[0mcompat\u001b[0m \u001b[1;32mimport\u001b[0m \u001b[0msubprocess\u001b[0m\u001b[1;33m\u001b[0m\u001b[0m\n\u001b[0;32m    124\u001b[0m from matplotlib.rcsetup import (defaultParams,\n",
      "\u001b[1;32m/home/tin/.virtualenvs/sur/local/lib/python2.7/site-packages/IPython/lib/deepreload.pyc\u001b[0m in \u001b[0;36mdeep_import_hook\u001b[1;34m(name, globals, locals, fromlist, level)\u001b[0m\n\u001b[0;32m    254\u001b[0m     \u001b[0mtail\u001b[0m \u001b[1;33m=\u001b[0m \u001b[0mhead\u001b[0m\u001b[1;33m\u001b[0m\u001b[0m\n\u001b[0;32m    255\u001b[0m     \u001b[1;32mwhile\u001b[0m \u001b[0mname\u001b[0m\u001b[1;33m:\u001b[0m\u001b[1;33m\u001b[0m\u001b[0m\n\u001b[1;32m--> 256\u001b[1;33m         \u001b[0mtail\u001b[0m\u001b[1;33m,\u001b[0m \u001b[0mname\u001b[0m\u001b[1;33m,\u001b[0m \u001b[0mbuf\u001b[0m \u001b[1;33m=\u001b[0m \u001b[0mload_next\u001b[0m\u001b[1;33m(\u001b[0m\u001b[0mtail\u001b[0m\u001b[1;33m,\u001b[0m \u001b[0mtail\u001b[0m\u001b[1;33m,\u001b[0m \u001b[0mname\u001b[0m\u001b[1;33m,\u001b[0m \u001b[0mbuf\u001b[0m\u001b[1;33m)\u001b[0m\u001b[1;33m\u001b[0m\u001b[0m\n\u001b[0m\u001b[0;32m    257\u001b[0m \u001b[1;33m\u001b[0m\u001b[0m\n\u001b[0;32m    258\u001b[0m     \u001b[1;31m# If tail is None, both get_parent and load_next found\u001b[0m\u001b[1;33m\u001b[0m\u001b[1;33m\u001b[0m\u001b[0m\n",
      "\u001b[1;32m/home/tin/.virtualenvs/sur/local/lib/python2.7/site-packages/IPython/lib/deepreload.pyc\u001b[0m in \u001b[0;36mload_next\u001b[1;34m(mod, altmod, name, buf)\u001b[0m\n\u001b[0;32m    154\u001b[0m     \u001b[0mbuf\u001b[0m \u001b[1;33m+=\u001b[0m \u001b[0msubname\u001b[0m\u001b[1;33m\u001b[0m\u001b[0m\n\u001b[0;32m    155\u001b[0m \u001b[1;33m\u001b[0m\u001b[0m\n\u001b[1;32m--> 156\u001b[1;33m     \u001b[0mresult\u001b[0m \u001b[1;33m=\u001b[0m \u001b[0mimport_submodule\u001b[0m\u001b[1;33m(\u001b[0m\u001b[0mmod\u001b[0m\u001b[1;33m,\u001b[0m \u001b[0msubname\u001b[0m\u001b[1;33m,\u001b[0m \u001b[0mbuf\u001b[0m\u001b[1;33m)\u001b[0m\u001b[1;33m\u001b[0m\u001b[0m\n\u001b[0m\u001b[0;32m    157\u001b[0m     \u001b[1;32mif\u001b[0m \u001b[0mresult\u001b[0m \u001b[1;32mis\u001b[0m \u001b[0mNone\u001b[0m \u001b[1;32mand\u001b[0m \u001b[0mmod\u001b[0m \u001b[1;33m!=\u001b[0m \u001b[0maltmod\u001b[0m\u001b[1;33m:\u001b[0m\u001b[1;33m\u001b[0m\u001b[0m\n\u001b[0;32m    158\u001b[0m         \u001b[0mresult\u001b[0m \u001b[1;33m=\u001b[0m \u001b[0mimport_submodule\u001b[0m\u001b[1;33m(\u001b[0m\u001b[0maltmod\u001b[0m\u001b[1;33m,\u001b[0m \u001b[0msubname\u001b[0m\u001b[1;33m,\u001b[0m \u001b[0msubname\u001b[0m\u001b[1;33m)\u001b[0m\u001b[1;33m\u001b[0m\u001b[0m\n",
      "\u001b[1;32m/home/tin/.virtualenvs/sur/local/lib/python2.7/site-packages/IPython/lib/deepreload.pyc\u001b[0m in \u001b[0;36mimport_submodule\u001b[1;34m(mod, subname, fullname)\u001b[0m\n\u001b[0;32m    199\u001b[0m \u001b[1;33m\u001b[0m\u001b[0m\n\u001b[0;32m    200\u001b[0m         \u001b[1;32mtry\u001b[0m\u001b[1;33m:\u001b[0m\u001b[1;33m\u001b[0m\u001b[0m\n\u001b[1;32m--> 201\u001b[1;33m             \u001b[0mm\u001b[0m \u001b[1;33m=\u001b[0m \u001b[0mimp\u001b[0m\u001b[1;33m.\u001b[0m\u001b[0mload_module\u001b[0m\u001b[1;33m(\u001b[0m\u001b[0mfullname\u001b[0m\u001b[1;33m,\u001b[0m \u001b[0mfp\u001b[0m\u001b[1;33m,\u001b[0m \u001b[0mfilename\u001b[0m\u001b[1;33m,\u001b[0m \u001b[0mstuff\u001b[0m\u001b[1;33m)\u001b[0m\u001b[1;33m\u001b[0m\u001b[0m\n\u001b[0m\u001b[0;32m    202\u001b[0m         \u001b[1;32mexcept\u001b[0m\u001b[1;33m:\u001b[0m\u001b[1;33m\u001b[0m\u001b[0m\n\u001b[0;32m    203\u001b[0m             \u001b[1;31m# load_module probably removed name from modules because of\u001b[0m\u001b[1;33m\u001b[0m\u001b[1;33m\u001b[0m\u001b[0m\n",
      "\u001b[1;32m/home/tin/.virtualenvs/sur/local/lib/python2.7/site-packages/matplotlib/cbook.pyc\u001b[0m in \u001b[0;36m<module>\u001b[1;34m()\u001b[0m\n\u001b[0;32m     11\u001b[0m \u001b[1;33m\u001b[0m\u001b[0m\n\u001b[0;32m     12\u001b[0m \u001b[1;32mfrom\u001b[0m \u001b[0mmatplotlib\u001b[0m\u001b[1;33m.\u001b[0m\u001b[0mexternals\u001b[0m \u001b[1;32mimport\u001b[0m \u001b[0msix\u001b[0m\u001b[1;33m\u001b[0m\u001b[0m\n\u001b[1;32m---> 13\u001b[1;33m \u001b[1;32mfrom\u001b[0m \u001b[0mmatplotlib\u001b[0m\u001b[1;33m.\u001b[0m\u001b[0mexternals\u001b[0m\u001b[1;33m.\u001b[0m\u001b[0msix\u001b[0m\u001b[1;33m.\u001b[0m\u001b[0mmoves\u001b[0m \u001b[1;32mimport\u001b[0m \u001b[0mxrange\u001b[0m\u001b[1;33m,\u001b[0m \u001b[0mzip\u001b[0m\u001b[1;33m\u001b[0m\u001b[0m\n\u001b[0m\u001b[0;32m     14\u001b[0m \u001b[1;32mfrom\u001b[0m \u001b[0mitertools\u001b[0m \u001b[1;32mimport\u001b[0m \u001b[0mrepeat\u001b[0m\u001b[1;33m\u001b[0m\u001b[0m\n\u001b[0;32m     15\u001b[0m \u001b[1;32mimport\u001b[0m \u001b[0mcollections\u001b[0m\u001b[1;33m\u001b[0m\u001b[0m\n",
      "\u001b[1;32m/home/tin/.virtualenvs/sur/local/lib/python2.7/site-packages/IPython/lib/deepreload.pyc\u001b[0m in \u001b[0;36mdeep_import_hook\u001b[1;34m(name, globals, locals, fromlist, level)\u001b[0m\n\u001b[0;32m    254\u001b[0m     \u001b[0mtail\u001b[0m \u001b[1;33m=\u001b[0m \u001b[0mhead\u001b[0m\u001b[1;33m\u001b[0m\u001b[0m\n\u001b[0;32m    255\u001b[0m     \u001b[1;32mwhile\u001b[0m \u001b[0mname\u001b[0m\u001b[1;33m:\u001b[0m\u001b[1;33m\u001b[0m\u001b[0m\n\u001b[1;32m--> 256\u001b[1;33m         \u001b[0mtail\u001b[0m\u001b[1;33m,\u001b[0m \u001b[0mname\u001b[0m\u001b[1;33m,\u001b[0m \u001b[0mbuf\u001b[0m \u001b[1;33m=\u001b[0m \u001b[0mload_next\u001b[0m\u001b[1;33m(\u001b[0m\u001b[0mtail\u001b[0m\u001b[1;33m,\u001b[0m \u001b[0mtail\u001b[0m\u001b[1;33m,\u001b[0m \u001b[0mname\u001b[0m\u001b[1;33m,\u001b[0m \u001b[0mbuf\u001b[0m\u001b[1;33m)\u001b[0m\u001b[1;33m\u001b[0m\u001b[0m\n\u001b[0m\u001b[0;32m    257\u001b[0m \u001b[1;33m\u001b[0m\u001b[0m\n\u001b[0;32m    258\u001b[0m     \u001b[1;31m# If tail is None, both get_parent and load_next found\u001b[0m\u001b[1;33m\u001b[0m\u001b[1;33m\u001b[0m\u001b[0m\n",
      "\u001b[1;32m/home/tin/.virtualenvs/sur/local/lib/python2.7/site-packages/IPython/lib/deepreload.pyc\u001b[0m in \u001b[0;36mload_next\u001b[1;34m(mod, altmod, name, buf)\u001b[0m\n\u001b[0;32m    161\u001b[0m \u001b[1;33m\u001b[0m\u001b[0m\n\u001b[0;32m    162\u001b[0m     \u001b[1;32mif\u001b[0m \u001b[0mresult\u001b[0m \u001b[1;32mis\u001b[0m \u001b[0mNone\u001b[0m\u001b[1;33m:\u001b[0m\u001b[1;33m\u001b[0m\u001b[0m\n\u001b[1;32m--> 163\u001b[1;33m         \u001b[1;32mraise\u001b[0m \u001b[0mImportError\u001b[0m\u001b[1;33m(\u001b[0m\u001b[1;34m\"No module named %.200s\"\u001b[0m \u001b[1;33m%\u001b[0m \u001b[0mname\u001b[0m\u001b[1;33m)\u001b[0m\u001b[1;33m\u001b[0m\u001b[0m\n\u001b[0m\u001b[0;32m    164\u001b[0m \u001b[1;33m\u001b[0m\u001b[0m\n\u001b[0;32m    165\u001b[0m     \u001b[1;32mreturn\u001b[0m \u001b[0mresult\u001b[0m\u001b[1;33m,\u001b[0m \u001b[0mnext\u001b[0m\u001b[1;33m,\u001b[0m \u001b[0mbuf\u001b[0m\u001b[1;33m\u001b[0m\u001b[0m\n",
      "\u001b[1;31mImportError\u001b[0m: No module named moves"
     ]
    }
   ],
   "source": [
    "%matplotlib inline"
   ]
  },
  {
   "cell_type": "code",
   "execution_count": 3,
   "metadata": {
    "collapsed": false
   },
   "outputs": [],
   "source": [
    "m = Mixture()\n",
    "m.add_many(\"methane co2 n-decane\", \"0.25 0.50 0.25\")\n",
    "s = EosSetup.objects.create(eos='RKPR', kij_mode='constants',\n",
    "                            lij_mode='constants')\n",
    "s.set_interaction('kij', 'methane', 'co2', .1)\n",
    "s.set_interaction('kij', 'co2', 'n-decane',  0.091)\n",
    "env = m.get_envelope(s)"
   ]
  },
  {
   "cell_type": "code",
   "execution_count": 9,
   "metadata": {
    "collapsed": false
   },
   "outputs": [
    {
     "name": "stdout",
     "output_type": "stream",
     "text": [
      "Warning: Cannot change to a different GUI toolkit: notebook. Using qt instead.\n",
      "Reloading __future__\n",
      "Reloading matplotlib\n",
      "Reloading matplotlib.externals\n",
      "Reloading distutils\n",
      "Reloading distutils.os\n",
      "Reloading os\n",
      "Reloading errno\n",
      "Reloading posix\n",
      "Reloading posixpath\n",
      "Reloading stat\n",
      "Reloading genericpath\n",
      "Reloading warnings\n",
      "Reloading linecache\n",
      "Reloading types\n",
      "Reloading _warnings\n",
      "Reloading UserDict\n",
      "Reloading _abcoll\n",
      "Reloading abc\n",
      "Reloading _weakrefset\n",
      "Reloading _weakref\n",
      "Reloading copy_reg\n",
      "Reloading distutils.sys\n",
      "Reloading distutils.warnings\n",
      "Reloading distutils.imp\n",
      "Reloading imp\n",
      "Reloading distutils.opcode\n",
      "Reloading opcode\n",
      "Reloading distutils.distutils\n",
      "Reloading distutils.version\n",
      "Reloading distutils.string\n",
      "Reloading string\n",
      "Reloading re\n",
      "Reloading sre_compile\n",
      "Reloading _sre\n",
      "Reloading sre_parse\n",
      "Reloading sre_constants\n",
      "Reloading _locale\n",
      "Reloading strop\n",
      "Reloading distutils.re\n",
      "Reloading distutils.types\n",
      "Reloading itertools\n",
      "Reloading io\n",
      "Reloading _io\n",
      "Reloading inspect\n",
      "Reloading dis\n",
      "Reloading tokenize\n",
      "Reloading token\n",
      "Reloading operator\n",
      "Reloading collections\n",
      "Reloading _collections\n",
      "Reloading keyword\n",
      "Reloading heapq\n",
      "Reloading _heapq\n",
      "Reloading thread\n",
      "Reloading locale\n",
      "Reloading encodings\n",
      "Reloading encodings.codecs\n",
      "Reloading codecs\n",
      "Reloading _codecs\n",
      "Reloading encodings.encodings\n",
      "Reloading encodings.__builtin__\n",
      "Reloading encodings.aliases\n",
      "Reloading functools\n",
      "Reloading _functools\n",
      "Reloading tempfile\n",
      "Reloading random\n",
      "Reloading math\n",
      "Reloading binascii\n",
      "Reloading hashlib\n",
      "Reloading _hashlib\n",
      "Reloading _random\n",
      "Reloading cStringIO\n",
      "Reloading fcntl\n",
      "Reloading contextlib\n",
      "Reloading distutils.sysconfig\n",
      "Reloading distutils.fnmatch\n",
      "Reloading fnmatch\n",
      "Reloading distutils.errors\n",
      "Reloading matplotlib.cbook\n",
      "Reloading matplotlib.externals.six\n",
      "Reloading StringIO\n",
      "Reloading matplotlib.externals.six.moves\n"
     ]
    },
    {
     "ename": "ImportError",
     "evalue": "No module named moves",
     "output_type": "error",
     "traceback": [
      "\u001b[1;31m---------------------------------------------------------------------------\u001b[0m",
      "\u001b[1;31mImportError\u001b[0m                               Traceback (most recent call last)",
      "\u001b[1;32m<ipython-input-9-600200d3c699>\u001b[0m in \u001b[0;36m<module>\u001b[1;34m()\u001b[0m\n",
      "\u001b[1;32m/home/tin/.virtualenvs/sur/local/lib/python2.7/site-packages/IPython/core/interactiveshell.pyc\u001b[0m in \u001b[0;36mmagic\u001b[1;34m(self, arg_s)\u001b[0m\n\u001b[0;32m   2161\u001b[0m         \u001b[0mmagic_name\u001b[0m\u001b[1;33m,\u001b[0m \u001b[0m_\u001b[0m\u001b[1;33m,\u001b[0m \u001b[0mmagic_arg_s\u001b[0m \u001b[1;33m=\u001b[0m \u001b[0marg_s\u001b[0m\u001b[1;33m.\u001b[0m\u001b[0mpartition\u001b[0m\u001b[1;33m(\u001b[0m\u001b[1;34m' '\u001b[0m\u001b[1;33m)\u001b[0m\u001b[1;33m\u001b[0m\u001b[0m\n\u001b[0;32m   2162\u001b[0m         \u001b[0mmagic_name\u001b[0m \u001b[1;33m=\u001b[0m \u001b[0mmagic_name\u001b[0m\u001b[1;33m.\u001b[0m\u001b[0mlstrip\u001b[0m\u001b[1;33m(\u001b[0m\u001b[0mprefilter\u001b[0m\u001b[1;33m.\u001b[0m\u001b[0mESC_MAGIC\u001b[0m\u001b[1;33m)\u001b[0m\u001b[1;33m\u001b[0m\u001b[0m\n\u001b[1;32m-> 2163\u001b[1;33m         \u001b[1;32mreturn\u001b[0m \u001b[0mself\u001b[0m\u001b[1;33m.\u001b[0m\u001b[0mrun_line_magic\u001b[0m\u001b[1;33m(\u001b[0m\u001b[0mmagic_name\u001b[0m\u001b[1;33m,\u001b[0m \u001b[0mmagic_arg_s\u001b[0m\u001b[1;33m)\u001b[0m\u001b[1;33m\u001b[0m\u001b[0m\n\u001b[0m\u001b[0;32m   2164\u001b[0m \u001b[1;33m\u001b[0m\u001b[0m\n\u001b[0;32m   2165\u001b[0m     \u001b[1;31m#-------------------------------------------------------------------------\u001b[0m\u001b[1;33m\u001b[0m\u001b[1;33m\u001b[0m\u001b[0m\n",
      "\u001b[1;32m/home/tin/.virtualenvs/sur/local/lib/python2.7/site-packages/IPython/core/interactiveshell.pyc\u001b[0m in \u001b[0;36mrun_line_magic\u001b[1;34m(self, magic_name, line)\u001b[0m\n\u001b[0;32m   2082\u001b[0m                 \u001b[0mkwargs\u001b[0m\u001b[1;33m[\u001b[0m\u001b[1;34m'local_ns'\u001b[0m\u001b[1;33m]\u001b[0m \u001b[1;33m=\u001b[0m \u001b[0msys\u001b[0m\u001b[1;33m.\u001b[0m\u001b[0m_getframe\u001b[0m\u001b[1;33m(\u001b[0m\u001b[0mstack_depth\u001b[0m\u001b[1;33m)\u001b[0m\u001b[1;33m.\u001b[0m\u001b[0mf_locals\u001b[0m\u001b[1;33m\u001b[0m\u001b[0m\n\u001b[0;32m   2083\u001b[0m             \u001b[1;32mwith\u001b[0m \u001b[0mself\u001b[0m\u001b[1;33m.\u001b[0m\u001b[0mbuiltin_trap\u001b[0m\u001b[1;33m:\u001b[0m\u001b[1;33m\u001b[0m\u001b[0m\n\u001b[1;32m-> 2084\u001b[1;33m                 \u001b[0mresult\u001b[0m \u001b[1;33m=\u001b[0m \u001b[0mfn\u001b[0m\u001b[1;33m(\u001b[0m\u001b[1;33m*\u001b[0m\u001b[0margs\u001b[0m\u001b[1;33m,\u001b[0m\u001b[1;33m**\u001b[0m\u001b[0mkwargs\u001b[0m\u001b[1;33m)\u001b[0m\u001b[1;33m\u001b[0m\u001b[0m\n\u001b[0m\u001b[0;32m   2085\u001b[0m             \u001b[1;32mreturn\u001b[0m \u001b[0mresult\u001b[0m\u001b[1;33m\u001b[0m\u001b[0m\n\u001b[0;32m   2086\u001b[0m \u001b[1;33m\u001b[0m\u001b[0m\n",
      "\u001b[1;32m<decorator-gen-106>\u001b[0m in \u001b[0;36mmatplotlib\u001b[1;34m(self, line)\u001b[0m\n",
      "\u001b[1;32m/home/tin/.virtualenvs/sur/local/lib/python2.7/site-packages/IPython/core/magic.pyc\u001b[0m in \u001b[0;36m<lambda>\u001b[1;34m(f, *a, **k)\u001b[0m\n\u001b[0;32m    191\u001b[0m     \u001b[1;31m# but it's overkill for just that one bit of state.\u001b[0m\u001b[1;33m\u001b[0m\u001b[1;33m\u001b[0m\u001b[0m\n\u001b[0;32m    192\u001b[0m     \u001b[1;32mdef\u001b[0m \u001b[0mmagic_deco\u001b[0m\u001b[1;33m(\u001b[0m\u001b[0marg\u001b[0m\u001b[1;33m)\u001b[0m\u001b[1;33m:\u001b[0m\u001b[1;33m\u001b[0m\u001b[0m\n\u001b[1;32m--> 193\u001b[1;33m         \u001b[0mcall\u001b[0m \u001b[1;33m=\u001b[0m \u001b[1;32mlambda\u001b[0m \u001b[0mf\u001b[0m\u001b[1;33m,\u001b[0m \u001b[1;33m*\u001b[0m\u001b[0ma\u001b[0m\u001b[1;33m,\u001b[0m \u001b[1;33m**\u001b[0m\u001b[0mk\u001b[0m\u001b[1;33m:\u001b[0m \u001b[0mf\u001b[0m\u001b[1;33m(\u001b[0m\u001b[1;33m*\u001b[0m\u001b[0ma\u001b[0m\u001b[1;33m,\u001b[0m \u001b[1;33m**\u001b[0m\u001b[0mk\u001b[0m\u001b[1;33m)\u001b[0m\u001b[1;33m\u001b[0m\u001b[0m\n\u001b[0m\u001b[0;32m    194\u001b[0m \u001b[1;33m\u001b[0m\u001b[0m\n\u001b[0;32m    195\u001b[0m         \u001b[1;32mif\u001b[0m \u001b[0mcallable\u001b[0m\u001b[1;33m(\u001b[0m\u001b[0marg\u001b[0m\u001b[1;33m)\u001b[0m\u001b[1;33m:\u001b[0m\u001b[1;33m\u001b[0m\u001b[0m\n",
      "\u001b[1;32m/home/tin/.virtualenvs/sur/local/lib/python2.7/site-packages/IPython/core/magics/pylab.pyc\u001b[0m in \u001b[0;36mmatplotlib\u001b[1;34m(self, line)\u001b[0m\n\u001b[0;32m     98\u001b[0m             \u001b[1;32mprint\u001b[0m\u001b[1;33m(\u001b[0m\u001b[1;34m\"Available matplotlib backends: %s\"\u001b[0m \u001b[1;33m%\u001b[0m \u001b[0mbackends_list\u001b[0m\u001b[1;33m)\u001b[0m\u001b[1;33m\u001b[0m\u001b[0m\n\u001b[0;32m     99\u001b[0m         \u001b[1;32melse\u001b[0m\u001b[1;33m:\u001b[0m\u001b[1;33m\u001b[0m\u001b[0m\n\u001b[1;32m--> 100\u001b[1;33m             \u001b[0mgui\u001b[0m\u001b[1;33m,\u001b[0m \u001b[0mbackend\u001b[0m \u001b[1;33m=\u001b[0m \u001b[0mself\u001b[0m\u001b[1;33m.\u001b[0m\u001b[0mshell\u001b[0m\u001b[1;33m.\u001b[0m\u001b[0menable_matplotlib\u001b[0m\u001b[1;33m(\u001b[0m\u001b[0margs\u001b[0m\u001b[1;33m.\u001b[0m\u001b[0mgui\u001b[0m\u001b[1;33m)\u001b[0m\u001b[1;33m\u001b[0m\u001b[0m\n\u001b[0m\u001b[0;32m    101\u001b[0m             \u001b[0mself\u001b[0m\u001b[1;33m.\u001b[0m\u001b[0m_show_matplotlib_backend\u001b[0m\u001b[1;33m(\u001b[0m\u001b[0margs\u001b[0m\u001b[1;33m.\u001b[0m\u001b[0mgui\u001b[0m\u001b[1;33m,\u001b[0m \u001b[0mbackend\u001b[0m\u001b[1;33m)\u001b[0m\u001b[1;33m\u001b[0m\u001b[0m\n\u001b[0;32m    102\u001b[0m \u001b[1;33m\u001b[0m\u001b[0m\n",
      "\u001b[1;32m/home/tin/.virtualenvs/sur/local/lib/python2.7/site-packages/IPython/core/interactiveshell.pyc\u001b[0m in \u001b[0;36menable_matplotlib\u001b[1;34m(self, gui)\u001b[0m\n\u001b[0;32m   2949\u001b[0m                 \u001b[0mgui\u001b[0m\u001b[1;33m,\u001b[0m \u001b[0mbackend\u001b[0m \u001b[1;33m=\u001b[0m \u001b[0mpt\u001b[0m\u001b[1;33m.\u001b[0m\u001b[0mfind_gui_and_backend\u001b[0m\u001b[1;33m(\u001b[0m\u001b[0mself\u001b[0m\u001b[1;33m.\u001b[0m\u001b[0mpylab_gui_select\u001b[0m\u001b[1;33m)\u001b[0m\u001b[1;33m\u001b[0m\u001b[0m\n\u001b[0;32m   2950\u001b[0m \u001b[1;33m\u001b[0m\u001b[0m\n\u001b[1;32m-> 2951\u001b[1;33m         \u001b[0mpt\u001b[0m\u001b[1;33m.\u001b[0m\u001b[0mactivate_matplotlib\u001b[0m\u001b[1;33m(\u001b[0m\u001b[0mbackend\u001b[0m\u001b[1;33m)\u001b[0m\u001b[1;33m\u001b[0m\u001b[0m\n\u001b[0m\u001b[0;32m   2952\u001b[0m         \u001b[0mpt\u001b[0m\u001b[1;33m.\u001b[0m\u001b[0mconfigure_inline_support\u001b[0m\u001b[1;33m(\u001b[0m\u001b[0mself\u001b[0m\u001b[1;33m,\u001b[0m \u001b[0mbackend\u001b[0m\u001b[1;33m)\u001b[0m\u001b[1;33m\u001b[0m\u001b[0m\n\u001b[0;32m   2953\u001b[0m \u001b[1;33m\u001b[0m\u001b[0m\n",
      "\u001b[1;32m/home/tin/.virtualenvs/sur/local/lib/python2.7/site-packages/IPython/core/pylabtools.pyc\u001b[0m in \u001b[0;36mactivate_matplotlib\u001b[1;34m(backend)\u001b[0m\n\u001b[0;32m    294\u001b[0m \u001b[1;33m\u001b[0m\u001b[0m\n\u001b[0;32m    295\u001b[0m     \u001b[1;32mimport\u001b[0m \u001b[0mmatplotlib\u001b[0m\u001b[1;33m.\u001b[0m\u001b[0mpyplot\u001b[0m\u001b[1;33m\u001b[0m\u001b[0m\n\u001b[1;32m--> 296\u001b[1;33m     \u001b[0mmatplotlib\u001b[0m\u001b[1;33m.\u001b[0m\u001b[0mpyplot\u001b[0m\u001b[1;33m.\u001b[0m\u001b[0mswitch_backend\u001b[0m\u001b[1;33m(\u001b[0m\u001b[0mbackend\u001b[0m\u001b[1;33m)\u001b[0m\u001b[1;33m\u001b[0m\u001b[0m\n\u001b[0m\u001b[0;32m    297\u001b[0m \u001b[1;33m\u001b[0m\u001b[0m\n\u001b[0;32m    298\u001b[0m     \u001b[1;31m# This must be imported last in the matplotlib series, after\u001b[0m\u001b[1;33m\u001b[0m\u001b[1;33m\u001b[0m\u001b[0m\n",
      "\u001b[1;32m/home/tin/.virtualenvs/sur/local/lib/python2.7/site-packages/matplotlib/pyplot.pyc\u001b[0m in \u001b[0;36mswitch_backend\u001b[1;34m(newbackend)\u001b[0m\n\u001b[0;32m    220\u001b[0m     \u001b[0mclose\u001b[0m\u001b[1;33m(\u001b[0m\u001b[1;34m'all'\u001b[0m\u001b[1;33m)\u001b[0m\u001b[1;33m\u001b[0m\u001b[0m\n\u001b[0;32m    221\u001b[0m     \u001b[1;32mglobal\u001b[0m \u001b[0m_backend_mod\u001b[0m\u001b[1;33m,\u001b[0m \u001b[0mnew_figure_manager\u001b[0m\u001b[1;33m,\u001b[0m \u001b[0mdraw_if_interactive\u001b[0m\u001b[1;33m,\u001b[0m \u001b[0m_show\u001b[0m\u001b[1;33m\u001b[0m\u001b[0m\n\u001b[1;32m--> 222\u001b[1;33m     \u001b[0mmatplotlib\u001b[0m\u001b[1;33m.\u001b[0m\u001b[0muse\u001b[0m\u001b[1;33m(\u001b[0m\u001b[0mnewbackend\u001b[0m\u001b[1;33m,\u001b[0m \u001b[0mwarn\u001b[0m\u001b[1;33m=\u001b[0m\u001b[0mFalse\u001b[0m\u001b[1;33m,\u001b[0m \u001b[0mforce\u001b[0m\u001b[1;33m=\u001b[0m\u001b[0mTrue\u001b[0m\u001b[1;33m)\u001b[0m\u001b[1;33m\u001b[0m\u001b[0m\n\u001b[0m\u001b[0;32m    223\u001b[0m     \u001b[1;32mfrom\u001b[0m \u001b[0mmatplotlib\u001b[0m\u001b[1;33m.\u001b[0m\u001b[0mbackends\u001b[0m \u001b[1;32mimport\u001b[0m \u001b[0mpylab_setup\u001b[0m\u001b[1;33m\u001b[0m\u001b[0m\n\u001b[0;32m    224\u001b[0m     \u001b[0m_backend_mod\u001b[0m\u001b[1;33m,\u001b[0m \u001b[0mnew_figure_manager\u001b[0m\u001b[1;33m,\u001b[0m \u001b[0mdraw_if_interactive\u001b[0m\u001b[1;33m,\u001b[0m \u001b[0m_show\u001b[0m \u001b[1;33m=\u001b[0m \u001b[0mpylab_setup\u001b[0m\u001b[1;33m(\u001b[0m\u001b[1;33m)\u001b[0m\u001b[1;33m\u001b[0m\u001b[0m\n",
      "\u001b[1;32m/home/tin/.virtualenvs/sur/local/lib/python2.7/site-packages/matplotlib/__init__.pyc\u001b[0m in \u001b[0;36muse\u001b[1;34m(arg, warn, force)\u001b[0m\n\u001b[0;32m   1363\u001b[0m     \u001b[1;31m# module import. See backends/__init__.py for more detail.\u001b[0m\u001b[1;33m\u001b[0m\u001b[1;33m\u001b[0m\u001b[0m\n\u001b[0;32m   1364\u001b[0m     \u001b[1;32mif\u001b[0m \u001b[0mneed_reload\u001b[0m\u001b[1;33m:\u001b[0m\u001b[1;33m\u001b[0m\u001b[0m\n\u001b[1;32m-> 1365\u001b[1;33m         \u001b[0mreload\u001b[0m\u001b[1;33m(\u001b[0m\u001b[0msys\u001b[0m\u001b[1;33m.\u001b[0m\u001b[0mmodules\u001b[0m\u001b[1;33m[\u001b[0m\u001b[1;34m'matplotlib.backends'\u001b[0m\u001b[1;33m]\u001b[0m\u001b[1;33m)\u001b[0m\u001b[1;33m\u001b[0m\u001b[0m\n\u001b[0m\u001b[0;32m   1366\u001b[0m \u001b[1;33m\u001b[0m\u001b[0m\n\u001b[0;32m   1367\u001b[0m \u001b[1;33m\u001b[0m\u001b[0m\n",
      "\u001b[1;32m/home/tin/.virtualenvs/sur/local/lib/python2.7/site-packages/IPython/lib/deepreload.pyc\u001b[0m in \u001b[0;36m_dreload\u001b[1;34m(module, **kwargs)\u001b[0m\n\u001b[0;32m    355\u001b[0m \u001b[0mPlease\u001b[0m \u001b[1;32mimport\u001b[0m \u001b[1;33m`\u001b[0m\u001b[0mreload\u001b[0m\u001b[1;33m`\u001b[0m \u001b[0mexplicitly\u001b[0m \u001b[1;32mfrom\u001b[0m \u001b[1;33m`\u001b[0m\u001b[0mIPython\u001b[0m\u001b[1;33m.\u001b[0m\u001b[0mlib\u001b[0m\u001b[1;33m.\u001b[0m\u001b[0mdeepreload\u001b[0m\u001b[1;33m`\u001b[0m\u001b[1;33m.\u001b[0m\u001b[1;33m\u001b[0m\u001b[0m\n\u001b[0;32m    356\u001b[0m \"\"\", DeprecationWarning, stacklevel=2)\n\u001b[1;32m--> 357\u001b[1;33m     \u001b[0mreload\u001b[0m\u001b[1;33m(\u001b[0m\u001b[0mmodule\u001b[0m\u001b[1;33m,\u001b[0m \u001b[1;33m**\u001b[0m\u001b[0mkwargs\u001b[0m\u001b[1;33m)\u001b[0m\u001b[1;33m\u001b[0m\u001b[0m\n\u001b[0m\u001b[0;32m    358\u001b[0m \u001b[1;33m\u001b[0m\u001b[0m\n\u001b[0;32m    359\u001b[0m \u001b[1;31m# Uncomment the following to automatically activate deep reloading whenever\u001b[0m\u001b[1;33m\u001b[0m\u001b[1;33m\u001b[0m\u001b[0m\n",
      "\u001b[1;32m/home/tin/.virtualenvs/sur/local/lib/python2.7/site-packages/IPython/lib/deepreload.pyc\u001b[0m in \u001b[0;36mreload\u001b[1;34m(module, exclude)\u001b[0m\n\u001b[0;32m    339\u001b[0m     \u001b[1;32mtry\u001b[0m\u001b[1;33m:\u001b[0m\u001b[1;33m\u001b[0m\u001b[0m\n\u001b[0;32m    340\u001b[0m         \u001b[1;32mwith\u001b[0m \u001b[0mreplace_import_hook\u001b[0m\u001b[1;33m(\u001b[0m\u001b[0mdeep_import_hook\u001b[0m\u001b[1;33m)\u001b[0m\u001b[1;33m:\u001b[0m\u001b[1;33m\u001b[0m\u001b[0m\n\u001b[1;32m--> 341\u001b[1;33m             \u001b[1;32mreturn\u001b[0m \u001b[0mdeep_reload_hook\u001b[0m\u001b[1;33m(\u001b[0m\u001b[0mmodule\u001b[0m\u001b[1;33m)\u001b[0m\u001b[1;33m\u001b[0m\u001b[0m\n\u001b[0m\u001b[0;32m    342\u001b[0m     \u001b[1;32mfinally\u001b[0m\u001b[1;33m:\u001b[0m\u001b[1;33m\u001b[0m\u001b[0m\n\u001b[0;32m    343\u001b[0m         \u001b[0mfound_now\u001b[0m \u001b[1;33m=\u001b[0m \u001b[1;33m{\u001b[0m\u001b[1;33m}\u001b[0m\u001b[1;33m\u001b[0m\u001b[0m\n",
      "\u001b[1;32m/home/tin/.virtualenvs/sur/local/lib/python2.7/site-packages/IPython/lib/deepreload.pyc\u001b[0m in \u001b[0;36mdeep_reload_hook\u001b[1;34m(m)\u001b[0m\n\u001b[0;32m    309\u001b[0m \u001b[1;33m\u001b[0m\u001b[0m\n\u001b[0;32m    310\u001b[0m     \u001b[1;32mtry\u001b[0m\u001b[1;33m:\u001b[0m\u001b[1;33m\u001b[0m\u001b[0m\n\u001b[1;32m--> 311\u001b[1;33m         \u001b[0mnewm\u001b[0m \u001b[1;33m=\u001b[0m \u001b[0mimp\u001b[0m\u001b[1;33m.\u001b[0m\u001b[0mload_module\u001b[0m\u001b[1;33m(\u001b[0m\u001b[0mname\u001b[0m\u001b[1;33m,\u001b[0m \u001b[0mfp\u001b[0m\u001b[1;33m,\u001b[0m \u001b[0mfilename\u001b[0m\u001b[1;33m,\u001b[0m \u001b[0mstuff\u001b[0m\u001b[1;33m)\u001b[0m\u001b[1;33m\u001b[0m\u001b[0m\n\u001b[0m\u001b[0;32m    312\u001b[0m     \u001b[1;32mexcept\u001b[0m\u001b[1;33m:\u001b[0m\u001b[1;33m\u001b[0m\u001b[0m\n\u001b[0;32m    313\u001b[0m          \u001b[1;31m# load_module probably removed name from modules because of\u001b[0m\u001b[1;33m\u001b[0m\u001b[1;33m\u001b[0m\u001b[0m\n",
      "\u001b[1;32m/home/tin/.virtualenvs/sur/local/lib/python2.7/site-packages/matplotlib/backends/__init__.pyc\u001b[0m in \u001b[0;36m<module>\u001b[1;34m()\u001b[0m\n\u001b[0;32m      2\u001b[0m                         unicode_literals)\n\u001b[0;32m      3\u001b[0m \u001b[1;33m\u001b[0m\u001b[0m\n\u001b[1;32m----> 4\u001b[1;33m \u001b[1;32mfrom\u001b[0m \u001b[0mmatplotlib\u001b[0m\u001b[1;33m.\u001b[0m\u001b[0mexternals\u001b[0m \u001b[1;32mimport\u001b[0m \u001b[0msix\u001b[0m\u001b[1;33m\u001b[0m\u001b[0m\n\u001b[0m\u001b[0;32m      5\u001b[0m \u001b[1;33m\u001b[0m\u001b[0m\n\u001b[0;32m      6\u001b[0m \u001b[1;32mimport\u001b[0m \u001b[0mmatplotlib\u001b[0m\u001b[1;33m\u001b[0m\u001b[0m\n",
      "\u001b[1;32m/home/tin/.virtualenvs/sur/local/lib/python2.7/site-packages/IPython/lib/deepreload.pyc\u001b[0m in \u001b[0;36mdeep_import_hook\u001b[1;34m(name, globals, locals, fromlist, level)\u001b[0m\n\u001b[0;32m    250\u001b[0m     \u001b[0mparent\u001b[0m\u001b[1;33m,\u001b[0m \u001b[0mbuf\u001b[0m \u001b[1;33m=\u001b[0m \u001b[0mget_parent\u001b[0m\u001b[1;33m(\u001b[0m\u001b[0mglobals\u001b[0m\u001b[1;33m,\u001b[0m \u001b[0mlevel\u001b[0m\u001b[1;33m)\u001b[0m\u001b[1;33m\u001b[0m\u001b[0m\n\u001b[0;32m    251\u001b[0m \u001b[1;33m\u001b[0m\u001b[0m\n\u001b[1;32m--> 252\u001b[1;33m     \u001b[0mhead\u001b[0m\u001b[1;33m,\u001b[0m \u001b[0mname\u001b[0m\u001b[1;33m,\u001b[0m \u001b[0mbuf\u001b[0m \u001b[1;33m=\u001b[0m \u001b[0mload_next\u001b[0m\u001b[1;33m(\u001b[0m\u001b[0mparent\u001b[0m\u001b[1;33m,\u001b[0m \u001b[0mNone\u001b[0m \u001b[1;32mif\u001b[0m \u001b[0mlevel\u001b[0m \u001b[1;33m<\u001b[0m \u001b[1;36m0\u001b[0m \u001b[1;32melse\u001b[0m \u001b[0mparent\u001b[0m\u001b[1;33m,\u001b[0m \u001b[0mname\u001b[0m\u001b[1;33m,\u001b[0m \u001b[0mbuf\u001b[0m\u001b[1;33m)\u001b[0m\u001b[1;33m\u001b[0m\u001b[0m\n\u001b[0m\u001b[0;32m    253\u001b[0m \u001b[1;33m\u001b[0m\u001b[0m\n\u001b[0;32m    254\u001b[0m     \u001b[0mtail\u001b[0m \u001b[1;33m=\u001b[0m \u001b[0mhead\u001b[0m\u001b[1;33m\u001b[0m\u001b[0m\n",
      "\u001b[1;32m/home/tin/.virtualenvs/sur/local/lib/python2.7/site-packages/IPython/lib/deepreload.pyc\u001b[0m in \u001b[0;36mload_next\u001b[1;34m(mod, altmod, name, buf)\u001b[0m\n\u001b[0;32m    154\u001b[0m     \u001b[0mbuf\u001b[0m \u001b[1;33m+=\u001b[0m \u001b[0msubname\u001b[0m\u001b[1;33m\u001b[0m\u001b[0m\n\u001b[0;32m    155\u001b[0m \u001b[1;33m\u001b[0m\u001b[0m\n\u001b[1;32m--> 156\u001b[1;33m     \u001b[0mresult\u001b[0m \u001b[1;33m=\u001b[0m \u001b[0mimport_submodule\u001b[0m\u001b[1;33m(\u001b[0m\u001b[0mmod\u001b[0m\u001b[1;33m,\u001b[0m \u001b[0msubname\u001b[0m\u001b[1;33m,\u001b[0m \u001b[0mbuf\u001b[0m\u001b[1;33m)\u001b[0m\u001b[1;33m\u001b[0m\u001b[0m\n\u001b[0m\u001b[0;32m    157\u001b[0m     \u001b[1;32mif\u001b[0m \u001b[0mresult\u001b[0m \u001b[1;32mis\u001b[0m \u001b[0mNone\u001b[0m \u001b[1;32mand\u001b[0m \u001b[0mmod\u001b[0m \u001b[1;33m!=\u001b[0m \u001b[0maltmod\u001b[0m\u001b[1;33m:\u001b[0m\u001b[1;33m\u001b[0m\u001b[0m\n\u001b[0;32m    158\u001b[0m         \u001b[0mresult\u001b[0m \u001b[1;33m=\u001b[0m \u001b[0mimport_submodule\u001b[0m\u001b[1;33m(\u001b[0m\u001b[0maltmod\u001b[0m\u001b[1;33m,\u001b[0m \u001b[0msubname\u001b[0m\u001b[1;33m,\u001b[0m \u001b[0msubname\u001b[0m\u001b[1;33m)\u001b[0m\u001b[1;33m\u001b[0m\u001b[0m\n",
      "\u001b[1;32m/home/tin/.virtualenvs/sur/local/lib/python2.7/site-packages/IPython/lib/deepreload.pyc\u001b[0m in \u001b[0;36mimport_submodule\u001b[1;34m(mod, subname, fullname)\u001b[0m\n\u001b[0;32m    199\u001b[0m \u001b[1;33m\u001b[0m\u001b[0m\n\u001b[0;32m    200\u001b[0m         \u001b[1;32mtry\u001b[0m\u001b[1;33m:\u001b[0m\u001b[1;33m\u001b[0m\u001b[0m\n\u001b[1;32m--> 201\u001b[1;33m             \u001b[0mm\u001b[0m \u001b[1;33m=\u001b[0m \u001b[0mimp\u001b[0m\u001b[1;33m.\u001b[0m\u001b[0mload_module\u001b[0m\u001b[1;33m(\u001b[0m\u001b[0mfullname\u001b[0m\u001b[1;33m,\u001b[0m \u001b[0mfp\u001b[0m\u001b[1;33m,\u001b[0m \u001b[0mfilename\u001b[0m\u001b[1;33m,\u001b[0m \u001b[0mstuff\u001b[0m\u001b[1;33m)\u001b[0m\u001b[1;33m\u001b[0m\u001b[0m\n\u001b[0m\u001b[0;32m    202\u001b[0m         \u001b[1;32mexcept\u001b[0m\u001b[1;33m:\u001b[0m\u001b[1;33m\u001b[0m\u001b[0m\n\u001b[0;32m    203\u001b[0m             \u001b[1;31m# load_module probably removed name from modules because of\u001b[0m\u001b[1;33m\u001b[0m\u001b[1;33m\u001b[0m\u001b[0m\n",
      "\u001b[1;32m/home/tin/.virtualenvs/sur/local/lib/python2.7/site-packages/matplotlib/__init__.pyc\u001b[0m in \u001b[0;36m<module>\u001b[1;34m()\u001b[0m\n\u001b[0;32m    120\u001b[0m \u001b[1;31m# cbook must import matplotlib only within function\u001b[0m\u001b[1;33m\u001b[0m\u001b[1;33m\u001b[0m\u001b[0m\n\u001b[0;32m    121\u001b[0m \u001b[1;31m# definitions, so it is safe to import from it here.\u001b[0m\u001b[1;33m\u001b[0m\u001b[1;33m\u001b[0m\u001b[0m\n\u001b[1;32m--> 122\u001b[1;33m \u001b[1;32mfrom\u001b[0m \u001b[0mmatplotlib\u001b[0m\u001b[1;33m.\u001b[0m\u001b[0mcbook\u001b[0m \u001b[1;32mimport\u001b[0m \u001b[0mis_string_like\u001b[0m\u001b[1;33m,\u001b[0m \u001b[0mmplDeprecation\u001b[0m\u001b[1;33m,\u001b[0m \u001b[0mdedent\u001b[0m\u001b[1;33m,\u001b[0m \u001b[0mget_label\u001b[0m\u001b[1;33m\u001b[0m\u001b[0m\n\u001b[0m\u001b[0;32m    123\u001b[0m \u001b[1;32mfrom\u001b[0m \u001b[0mmatplotlib\u001b[0m\u001b[1;33m.\u001b[0m\u001b[0mcompat\u001b[0m \u001b[1;32mimport\u001b[0m \u001b[0msubprocess\u001b[0m\u001b[1;33m\u001b[0m\u001b[0m\n\u001b[0;32m    124\u001b[0m from matplotlib.rcsetup import (defaultParams,\n",
      "\u001b[1;32m/home/tin/.virtualenvs/sur/local/lib/python2.7/site-packages/IPython/lib/deepreload.pyc\u001b[0m in \u001b[0;36mdeep_import_hook\u001b[1;34m(name, globals, locals, fromlist, level)\u001b[0m\n\u001b[0;32m    254\u001b[0m     \u001b[0mtail\u001b[0m \u001b[1;33m=\u001b[0m \u001b[0mhead\u001b[0m\u001b[1;33m\u001b[0m\u001b[0m\n\u001b[0;32m    255\u001b[0m     \u001b[1;32mwhile\u001b[0m \u001b[0mname\u001b[0m\u001b[1;33m:\u001b[0m\u001b[1;33m\u001b[0m\u001b[0m\n\u001b[1;32m--> 256\u001b[1;33m         \u001b[0mtail\u001b[0m\u001b[1;33m,\u001b[0m \u001b[0mname\u001b[0m\u001b[1;33m,\u001b[0m \u001b[0mbuf\u001b[0m \u001b[1;33m=\u001b[0m \u001b[0mload_next\u001b[0m\u001b[1;33m(\u001b[0m\u001b[0mtail\u001b[0m\u001b[1;33m,\u001b[0m \u001b[0mtail\u001b[0m\u001b[1;33m,\u001b[0m \u001b[0mname\u001b[0m\u001b[1;33m,\u001b[0m \u001b[0mbuf\u001b[0m\u001b[1;33m)\u001b[0m\u001b[1;33m\u001b[0m\u001b[0m\n\u001b[0m\u001b[0;32m    257\u001b[0m \u001b[1;33m\u001b[0m\u001b[0m\n\u001b[0;32m    258\u001b[0m     \u001b[1;31m# If tail is None, both get_parent and load_next found\u001b[0m\u001b[1;33m\u001b[0m\u001b[1;33m\u001b[0m\u001b[0m\n",
      "\u001b[1;32m/home/tin/.virtualenvs/sur/local/lib/python2.7/site-packages/IPython/lib/deepreload.pyc\u001b[0m in \u001b[0;36mload_next\u001b[1;34m(mod, altmod, name, buf)\u001b[0m\n\u001b[0;32m    154\u001b[0m     \u001b[0mbuf\u001b[0m \u001b[1;33m+=\u001b[0m \u001b[0msubname\u001b[0m\u001b[1;33m\u001b[0m\u001b[0m\n\u001b[0;32m    155\u001b[0m \u001b[1;33m\u001b[0m\u001b[0m\n\u001b[1;32m--> 156\u001b[1;33m     \u001b[0mresult\u001b[0m \u001b[1;33m=\u001b[0m \u001b[0mimport_submodule\u001b[0m\u001b[1;33m(\u001b[0m\u001b[0mmod\u001b[0m\u001b[1;33m,\u001b[0m \u001b[0msubname\u001b[0m\u001b[1;33m,\u001b[0m \u001b[0mbuf\u001b[0m\u001b[1;33m)\u001b[0m\u001b[1;33m\u001b[0m\u001b[0m\n\u001b[0m\u001b[0;32m    157\u001b[0m     \u001b[1;32mif\u001b[0m \u001b[0mresult\u001b[0m \u001b[1;32mis\u001b[0m \u001b[0mNone\u001b[0m \u001b[1;32mand\u001b[0m \u001b[0mmod\u001b[0m \u001b[1;33m!=\u001b[0m \u001b[0maltmod\u001b[0m\u001b[1;33m:\u001b[0m\u001b[1;33m\u001b[0m\u001b[0m\n\u001b[0;32m    158\u001b[0m         \u001b[0mresult\u001b[0m \u001b[1;33m=\u001b[0m \u001b[0mimport_submodule\u001b[0m\u001b[1;33m(\u001b[0m\u001b[0maltmod\u001b[0m\u001b[1;33m,\u001b[0m \u001b[0msubname\u001b[0m\u001b[1;33m,\u001b[0m \u001b[0msubname\u001b[0m\u001b[1;33m)\u001b[0m\u001b[1;33m\u001b[0m\u001b[0m\n",
      "\u001b[1;32m/home/tin/.virtualenvs/sur/local/lib/python2.7/site-packages/IPython/lib/deepreload.pyc\u001b[0m in \u001b[0;36mimport_submodule\u001b[1;34m(mod, subname, fullname)\u001b[0m\n\u001b[0;32m    199\u001b[0m \u001b[1;33m\u001b[0m\u001b[0m\n\u001b[0;32m    200\u001b[0m         \u001b[1;32mtry\u001b[0m\u001b[1;33m:\u001b[0m\u001b[1;33m\u001b[0m\u001b[0m\n\u001b[1;32m--> 201\u001b[1;33m             \u001b[0mm\u001b[0m \u001b[1;33m=\u001b[0m \u001b[0mimp\u001b[0m\u001b[1;33m.\u001b[0m\u001b[0mload_module\u001b[0m\u001b[1;33m(\u001b[0m\u001b[0mfullname\u001b[0m\u001b[1;33m,\u001b[0m \u001b[0mfp\u001b[0m\u001b[1;33m,\u001b[0m \u001b[0mfilename\u001b[0m\u001b[1;33m,\u001b[0m \u001b[0mstuff\u001b[0m\u001b[1;33m)\u001b[0m\u001b[1;33m\u001b[0m\u001b[0m\n\u001b[0m\u001b[0;32m    202\u001b[0m         \u001b[1;32mexcept\u001b[0m\u001b[1;33m:\u001b[0m\u001b[1;33m\u001b[0m\u001b[0m\n\u001b[0;32m    203\u001b[0m             \u001b[1;31m# load_module probably removed name from modules because of\u001b[0m\u001b[1;33m\u001b[0m\u001b[1;33m\u001b[0m\u001b[0m\n",
      "\u001b[1;32m/home/tin/.virtualenvs/sur/local/lib/python2.7/site-packages/matplotlib/cbook.pyc\u001b[0m in \u001b[0;36m<module>\u001b[1;34m()\u001b[0m\n\u001b[0;32m     11\u001b[0m \u001b[1;33m\u001b[0m\u001b[0m\n\u001b[0;32m     12\u001b[0m \u001b[1;32mfrom\u001b[0m \u001b[0mmatplotlib\u001b[0m\u001b[1;33m.\u001b[0m\u001b[0mexternals\u001b[0m \u001b[1;32mimport\u001b[0m \u001b[0msix\u001b[0m\u001b[1;33m\u001b[0m\u001b[0m\n\u001b[1;32m---> 13\u001b[1;33m \u001b[1;32mfrom\u001b[0m \u001b[0mmatplotlib\u001b[0m\u001b[1;33m.\u001b[0m\u001b[0mexternals\u001b[0m\u001b[1;33m.\u001b[0m\u001b[0msix\u001b[0m\u001b[1;33m.\u001b[0m\u001b[0mmoves\u001b[0m \u001b[1;32mimport\u001b[0m \u001b[0mxrange\u001b[0m\u001b[1;33m,\u001b[0m \u001b[0mzip\u001b[0m\u001b[1;33m\u001b[0m\u001b[0m\n\u001b[0m\u001b[0;32m     14\u001b[0m \u001b[1;32mfrom\u001b[0m \u001b[0mitertools\u001b[0m \u001b[1;32mimport\u001b[0m \u001b[0mrepeat\u001b[0m\u001b[1;33m\u001b[0m\u001b[0m\n\u001b[0;32m     15\u001b[0m \u001b[1;32mimport\u001b[0m \u001b[0mcollections\u001b[0m\u001b[1;33m\u001b[0m\u001b[0m\n",
      "\u001b[1;32m/home/tin/.virtualenvs/sur/local/lib/python2.7/site-packages/IPython/lib/deepreload.pyc\u001b[0m in \u001b[0;36mdeep_import_hook\u001b[1;34m(name, globals, locals, fromlist, level)\u001b[0m\n\u001b[0;32m    254\u001b[0m     \u001b[0mtail\u001b[0m \u001b[1;33m=\u001b[0m \u001b[0mhead\u001b[0m\u001b[1;33m\u001b[0m\u001b[0m\n\u001b[0;32m    255\u001b[0m     \u001b[1;32mwhile\u001b[0m \u001b[0mname\u001b[0m\u001b[1;33m:\u001b[0m\u001b[1;33m\u001b[0m\u001b[0m\n\u001b[1;32m--> 256\u001b[1;33m         \u001b[0mtail\u001b[0m\u001b[1;33m,\u001b[0m \u001b[0mname\u001b[0m\u001b[1;33m,\u001b[0m \u001b[0mbuf\u001b[0m \u001b[1;33m=\u001b[0m \u001b[0mload_next\u001b[0m\u001b[1;33m(\u001b[0m\u001b[0mtail\u001b[0m\u001b[1;33m,\u001b[0m \u001b[0mtail\u001b[0m\u001b[1;33m,\u001b[0m \u001b[0mname\u001b[0m\u001b[1;33m,\u001b[0m \u001b[0mbuf\u001b[0m\u001b[1;33m)\u001b[0m\u001b[1;33m\u001b[0m\u001b[0m\n\u001b[0m\u001b[0;32m    257\u001b[0m \u001b[1;33m\u001b[0m\u001b[0m\n\u001b[0;32m    258\u001b[0m     \u001b[1;31m# If tail is None, both get_parent and load_next found\u001b[0m\u001b[1;33m\u001b[0m\u001b[1;33m\u001b[0m\u001b[0m\n",
      "\u001b[1;32m/home/tin/.virtualenvs/sur/local/lib/python2.7/site-packages/IPython/lib/deepreload.pyc\u001b[0m in \u001b[0;36mload_next\u001b[1;34m(mod, altmod, name, buf)\u001b[0m\n\u001b[0;32m    161\u001b[0m \u001b[1;33m\u001b[0m\u001b[0m\n\u001b[0;32m    162\u001b[0m     \u001b[1;32mif\u001b[0m \u001b[0mresult\u001b[0m \u001b[1;32mis\u001b[0m \u001b[0mNone\u001b[0m\u001b[1;33m:\u001b[0m\u001b[1;33m\u001b[0m\u001b[0m\n\u001b[1;32m--> 163\u001b[1;33m         \u001b[1;32mraise\u001b[0m \u001b[0mImportError\u001b[0m\u001b[1;33m(\u001b[0m\u001b[1;34m\"No module named %.200s\"\u001b[0m \u001b[1;33m%\u001b[0m \u001b[0mname\u001b[0m\u001b[1;33m)\u001b[0m\u001b[1;33m\u001b[0m\u001b[0m\n\u001b[0m\u001b[0;32m    164\u001b[0m \u001b[1;33m\u001b[0m\u001b[0m\n\u001b[0;32m    165\u001b[0m     \u001b[1;32mreturn\u001b[0m \u001b[0mresult\u001b[0m\u001b[1;33m,\u001b[0m \u001b[0mnext\u001b[0m\u001b[1;33m,\u001b[0m \u001b[0mbuf\u001b[0m\u001b[1;33m\u001b[0m\u001b[0m\n",
      "\u001b[1;31mImportError\u001b[0m: No module named moves"
     ]
    }
   ],
   "source": [
    "%matplotlib notebook"
   ]
  },
  {
   "cell_type": "code",
   "execution_count": 11,
   "metadata": {
    "collapsed": true
   },
   "outputs": [],
   "source": [
    "import matplotlib"
   ]
  },
  {
   "cell_type": "code",
   "execution_count": 12,
   "metadata": {
    "collapsed": false
   },
   "outputs": [
    {
     "data": {
      "text/plain": [
       "'1.5.1'"
      ]
     },
     "execution_count": 12,
     "metadata": {},
     "output_type": "execute_result"
    }
   ],
   "source": [
    "matplotlib.__version__"
   ]
  },
  {
   "cell_type": "code",
   "execution_count": 4,
   "metadata": {
    "collapsed": false
   },
   "outputs": [
    {
     "ename": "TypeError",
     "evalue": "unbound method __init__() must be called with UserDict instance as first argument (got WeakValueDictionary instance instead)",
     "output_type": "error",
     "traceback": [
      "\u001b[1;31m---------------------------------------------------------------------------\u001b[0m",
      "\u001b[1;31mTypeError\u001b[0m                                 Traceback (most recent call last)",
      "\u001b[1;32m<ipython-input-4-66d23ff33cfe>\u001b[0m in \u001b[0;36m<module>\u001b[1;34m()\u001b[0m\n",
      "\u001b[1;32m/home/tin/lab/envelope-sur/sur/models.pyc\u001b[0m in \u001b[0;36mplot\u001b[1;34m(self, fig, critical_point, format, legends)\u001b[0m\n\u001b[0;32m    868\u001b[0m \u001b[1;33m\u001b[0m\u001b[0m\n\u001b[0;32m    869\u001b[0m         \u001b[1;32mif\u001b[0m \u001b[0mfig\u001b[0m \u001b[1;32mis\u001b[0m \u001b[0mNone\u001b[0m\u001b[1;33m:\u001b[0m\u001b[1;33m\u001b[0m\u001b[0m\n\u001b[1;32m--> 870\u001b[1;33m             \u001b[0mfig\u001b[0m\u001b[1;33m,\u001b[0m \u001b[0max\u001b[0m \u001b[1;33m=\u001b[0m \u001b[0mplt\u001b[0m\u001b[1;33m.\u001b[0m\u001b[0msubplots\u001b[0m\u001b[1;33m(\u001b[0m\u001b[1;33m)\u001b[0m\u001b[1;33m\u001b[0m\u001b[0m\n\u001b[0m\u001b[0;32m    871\u001b[0m         \u001b[1;32melse\u001b[0m\u001b[1;33m:\u001b[0m\u001b[1;33m\u001b[0m\u001b[0m\n\u001b[0;32m    872\u001b[0m             \u001b[0max\u001b[0m \u001b[1;33m=\u001b[0m \u001b[0mfig\u001b[0m\u001b[1;33m.\u001b[0m\u001b[0mget_axes\u001b[0m\u001b[1;33m(\u001b[0m\u001b[1;33m)\u001b[0m\u001b[1;33m[\u001b[0m\u001b[1;33m-\u001b[0m\u001b[1;36m1\u001b[0m\u001b[1;33m]\u001b[0m\u001b[1;33m\u001b[0m\u001b[0m\n",
      "\u001b[1;32m/home/tin/.virtualenvs/sur/local/lib/python2.7/site-packages/matplotlib/pyplot.pyc\u001b[0m in \u001b[0;36msubplots\u001b[1;34m(nrows, ncols, sharex, sharey, squeeze, subplot_kw, gridspec_kw, **fig_kw)\u001b[0m\n\u001b[0;32m   1175\u001b[0m         \u001b[0mgridspec_kw\u001b[0m \u001b[1;33m=\u001b[0m \u001b[1;33m{\u001b[0m\u001b[1;33m}\u001b[0m\u001b[1;33m\u001b[0m\u001b[0m\n\u001b[0;32m   1176\u001b[0m \u001b[1;33m\u001b[0m\u001b[0m\n\u001b[1;32m-> 1177\u001b[1;33m     \u001b[0mfig\u001b[0m \u001b[1;33m=\u001b[0m \u001b[0mfigure\u001b[0m\u001b[1;33m(\u001b[0m\u001b[1;33m**\u001b[0m\u001b[0mfig_kw\u001b[0m\u001b[1;33m)\u001b[0m\u001b[1;33m\u001b[0m\u001b[0m\n\u001b[0m\u001b[0;32m   1178\u001b[0m     \u001b[0mgs\u001b[0m \u001b[1;33m=\u001b[0m \u001b[0mGridSpec\u001b[0m\u001b[1;33m(\u001b[0m\u001b[0mnrows\u001b[0m\u001b[1;33m,\u001b[0m \u001b[0mncols\u001b[0m\u001b[1;33m,\u001b[0m \u001b[1;33m**\u001b[0m\u001b[0mgridspec_kw\u001b[0m\u001b[1;33m)\u001b[0m\u001b[1;33m\u001b[0m\u001b[0m\n\u001b[0;32m   1179\u001b[0m \u001b[1;33m\u001b[0m\u001b[0m\n",
      "\u001b[1;32m/home/tin/.virtualenvs/sur/local/lib/python2.7/site-packages/matplotlib/pyplot.pyc\u001b[0m in \u001b[0;36mfigure\u001b[1;34m(num, figsize, dpi, facecolor, edgecolor, frameon, FigureClass, **kwargs)\u001b[0m\n\u001b[0;32m    525\u001b[0m                                         \u001b[0mframeon\u001b[0m\u001b[1;33m=\u001b[0m\u001b[0mframeon\u001b[0m\u001b[1;33m,\u001b[0m\u001b[1;33m\u001b[0m\u001b[0m\n\u001b[0;32m    526\u001b[0m                                         \u001b[0mFigureClass\u001b[0m\u001b[1;33m=\u001b[0m\u001b[0mFigureClass\u001b[0m\u001b[1;33m,\u001b[0m\u001b[1;33m\u001b[0m\u001b[0m\n\u001b[1;32m--> 527\u001b[1;33m                                         **kwargs)\n\u001b[0m\u001b[0;32m    528\u001b[0m \u001b[1;33m\u001b[0m\u001b[0m\n\u001b[0;32m    529\u001b[0m         \u001b[1;32mif\u001b[0m \u001b[0mfigLabel\u001b[0m\u001b[1;33m:\u001b[0m\u001b[1;33m\u001b[0m\u001b[0m\n",
      "\u001b[1;32m/home/tin/.virtualenvs/sur/local/lib/python2.7/site-packages/matplotlib/backends/backend_agg.pyc\u001b[0m in \u001b[0;36mnew_figure_manager\u001b[1;34m(num, *args, **kwargs)\u001b[0m\n\u001b[0;32m    430\u001b[0m \u001b[1;33m\u001b[0m\u001b[0m\n\u001b[0;32m    431\u001b[0m     \u001b[0mFigureClass\u001b[0m \u001b[1;33m=\u001b[0m \u001b[0mkwargs\u001b[0m\u001b[1;33m.\u001b[0m\u001b[0mpop\u001b[0m\u001b[1;33m(\u001b[0m\u001b[1;34m'FigureClass'\u001b[0m\u001b[1;33m,\u001b[0m \u001b[0mFigure\u001b[0m\u001b[1;33m)\u001b[0m\u001b[1;33m\u001b[0m\u001b[0m\n\u001b[1;32m--> 432\u001b[1;33m     \u001b[0mthisFig\u001b[0m \u001b[1;33m=\u001b[0m \u001b[0mFigureClass\u001b[0m\u001b[1;33m(\u001b[0m\u001b[1;33m*\u001b[0m\u001b[0margs\u001b[0m\u001b[1;33m,\u001b[0m \u001b[1;33m**\u001b[0m\u001b[0mkwargs\u001b[0m\u001b[1;33m)\u001b[0m\u001b[1;33m\u001b[0m\u001b[0m\n\u001b[0m\u001b[0;32m    433\u001b[0m     \u001b[1;32mreturn\u001b[0m \u001b[0mnew_figure_manager_given_figure\u001b[0m\u001b[1;33m(\u001b[0m\u001b[0mnum\u001b[0m\u001b[1;33m,\u001b[0m \u001b[0mthisFig\u001b[0m\u001b[1;33m)\u001b[0m\u001b[1;33m\u001b[0m\u001b[0m\n\u001b[0;32m    434\u001b[0m \u001b[1;33m\u001b[0m\u001b[0m\n",
      "\u001b[1;32m/home/tin/.virtualenvs/sur/local/lib/python2.7/site-packages/matplotlib/figure.pyc\u001b[0m in \u001b[0;36m__init__\u001b[1;34m(self, figsize, dpi, facecolor, edgecolor, linewidth, frameon, subplotpars, tight_layout)\u001b[0m\n\u001b[0;32m    322\u001b[0m             \u001b[0mframeon\u001b[0m \u001b[1;33m=\u001b[0m \u001b[0mrcParams\u001b[0m\u001b[1;33m[\u001b[0m\u001b[1;34m'figure.frameon'\u001b[0m\u001b[1;33m]\u001b[0m\u001b[1;33m\u001b[0m\u001b[0m\n\u001b[0;32m    323\u001b[0m \u001b[1;33m\u001b[0m\u001b[0m\n\u001b[1;32m--> 324\u001b[1;33m         \u001b[0mself\u001b[0m\u001b[1;33m.\u001b[0m\u001b[0mdpi_scale_trans\u001b[0m \u001b[1;33m=\u001b[0m \u001b[0mAffine2D\u001b[0m\u001b[1;33m(\u001b[0m\u001b[1;33m)\u001b[0m\u001b[1;33m\u001b[0m\u001b[0m\n\u001b[0m\u001b[0;32m    325\u001b[0m         \u001b[0mself\u001b[0m\u001b[1;33m.\u001b[0m\u001b[0mdpi\u001b[0m \u001b[1;33m=\u001b[0m \u001b[0mdpi\u001b[0m\u001b[1;33m\u001b[0m\u001b[0m\n\u001b[0;32m    326\u001b[0m         \u001b[0mself\u001b[0m\u001b[1;33m.\u001b[0m\u001b[0mbbox_inches\u001b[0m \u001b[1;33m=\u001b[0m \u001b[0mBbox\u001b[0m\u001b[1;33m.\u001b[0m\u001b[0mfrom_bounds\u001b[0m\u001b[1;33m(\u001b[0m\u001b[1;36m0\u001b[0m\u001b[1;33m,\u001b[0m \u001b[1;36m0\u001b[0m\u001b[1;33m,\u001b[0m \u001b[1;33m*\u001b[0m\u001b[0mfigsize\u001b[0m\u001b[1;33m)\u001b[0m\u001b[1;33m\u001b[0m\u001b[0m\n",
      "\u001b[1;32m/home/tin/.virtualenvs/sur/local/lib/python2.7/site-packages/matplotlib/transforms.pyc\u001b[0m in \u001b[0;36m__init__\u001b[1;34m(self, matrix, **kwargs)\u001b[0m\n\u001b[0;32m   1794\u001b[0m         \u001b[0mIf\u001b[0m \u001b[1;33m*\u001b[0m\u001b[0mmatrix\u001b[0m\u001b[1;33m*\u001b[0m \u001b[1;32mis\u001b[0m \u001b[0mNone\u001b[0m\u001b[1;33m,\u001b[0m \u001b[0minitialize\u001b[0m \u001b[1;32mwith\u001b[0m \u001b[0mthe\u001b[0m \u001b[0midentity\u001b[0m \u001b[0mtransform\u001b[0m\u001b[1;33m.\u001b[0m\u001b[1;33m\u001b[0m\u001b[0m\n\u001b[0;32m   1795\u001b[0m         \"\"\"\n\u001b[1;32m-> 1796\u001b[1;33m         \u001b[0mAffine2DBase\u001b[0m\u001b[1;33m.\u001b[0m\u001b[0m__init__\u001b[0m\u001b[1;33m(\u001b[0m\u001b[0mself\u001b[0m\u001b[1;33m,\u001b[0m \u001b[1;33m**\u001b[0m\u001b[0mkwargs\u001b[0m\u001b[1;33m)\u001b[0m\u001b[1;33m\u001b[0m\u001b[0m\n\u001b[0m\u001b[0;32m   1797\u001b[0m         \u001b[1;32mif\u001b[0m \u001b[0mmatrix\u001b[0m \u001b[1;32mis\u001b[0m \u001b[0mNone\u001b[0m\u001b[1;33m:\u001b[0m\u001b[1;33m\u001b[0m\u001b[0m\n\u001b[0;32m   1798\u001b[0m             \u001b[0mmatrix\u001b[0m \u001b[1;33m=\u001b[0m \u001b[0mnp\u001b[0m\u001b[1;33m.\u001b[0m\u001b[0midentity\u001b[0m\u001b[1;33m(\u001b[0m\u001b[1;36m3\u001b[0m\u001b[1;33m)\u001b[0m\u001b[1;33m\u001b[0m\u001b[0m\n",
      "\u001b[1;32m/home/tin/.virtualenvs/sur/local/lib/python2.7/site-packages/matplotlib/transforms.pyc\u001b[0m in \u001b[0;36m__init__\u001b[1;34m(self, *args, **kwargs)\u001b[0m\n\u001b[0;32m   1639\u001b[0m \u001b[1;33m\u001b[0m\u001b[0m\n\u001b[0;32m   1640\u001b[0m     \u001b[1;32mdef\u001b[0m \u001b[0m__init__\u001b[0m\u001b[1;33m(\u001b[0m\u001b[0mself\u001b[0m\u001b[1;33m,\u001b[0m \u001b[1;33m*\u001b[0m\u001b[0margs\u001b[0m\u001b[1;33m,\u001b[0m \u001b[1;33m**\u001b[0m\u001b[0mkwargs\u001b[0m\u001b[1;33m)\u001b[0m\u001b[1;33m:\u001b[0m\u001b[1;33m\u001b[0m\u001b[0m\n\u001b[1;32m-> 1641\u001b[1;33m         \u001b[0mTransform\u001b[0m\u001b[1;33m.\u001b[0m\u001b[0m__init__\u001b[0m\u001b[1;33m(\u001b[0m\u001b[0mself\u001b[0m\u001b[1;33m,\u001b[0m \u001b[1;33m*\u001b[0m\u001b[0margs\u001b[0m\u001b[1;33m,\u001b[0m \u001b[1;33m**\u001b[0m\u001b[0mkwargs\u001b[0m\u001b[1;33m)\u001b[0m\u001b[1;33m\u001b[0m\u001b[0m\n\u001b[0m\u001b[0;32m   1642\u001b[0m         \u001b[0mself\u001b[0m\u001b[1;33m.\u001b[0m\u001b[0m_inverted\u001b[0m \u001b[1;33m=\u001b[0m \u001b[0mNone\u001b[0m\u001b[1;33m\u001b[0m\u001b[0m\n\u001b[0;32m   1643\u001b[0m \u001b[1;33m\u001b[0m\u001b[0m\n",
      "\u001b[1;32m/home/tin/.virtualenvs/sur/local/lib/python2.7/site-packages/matplotlib/transforms.pyc\u001b[0m in \u001b[0;36m__init__\u001b[1;34m(self, shorthand_name)\u001b[0m\n\u001b[0;32m     96\u001b[0m         \u001b[1;31m# parents are deleted, references from the children won't keep\u001b[0m\u001b[1;33m\u001b[0m\u001b[1;33m\u001b[0m\u001b[0m\n\u001b[0;32m     97\u001b[0m         \u001b[1;31m# them alive.\u001b[0m\u001b[1;33m\u001b[0m\u001b[1;33m\u001b[0m\u001b[0m\n\u001b[1;32m---> 98\u001b[1;33m         \u001b[0mself\u001b[0m\u001b[1;33m.\u001b[0m\u001b[0m_parents\u001b[0m \u001b[1;33m=\u001b[0m \u001b[0mWeakValueDictionary\u001b[0m\u001b[1;33m(\u001b[0m\u001b[1;33m)\u001b[0m\u001b[1;33m\u001b[0m\u001b[0m\n\u001b[0m\u001b[0;32m     99\u001b[0m \u001b[1;33m\u001b[0m\u001b[0m\n\u001b[0;32m    100\u001b[0m         \u001b[1;31m# TransformNodes start out as invalid until their values are\u001b[0m\u001b[1;33m\u001b[0m\u001b[1;33m\u001b[0m\u001b[0m\n",
      "\u001b[1;32m/usr/lib/python2.7/weakref.pyc\u001b[0m in \u001b[0;36m__init__\u001b[1;34m(self, *args, **kw)\u001b[0m\n\u001b[0;32m     57\u001b[0m         \u001b[0mself\u001b[0m\u001b[1;33m.\u001b[0m\u001b[0m_pending_removals\u001b[0m \u001b[1;33m=\u001b[0m \u001b[1;33m[\u001b[0m\u001b[1;33m]\u001b[0m\u001b[1;33m\u001b[0m\u001b[0m\n\u001b[0;32m     58\u001b[0m         \u001b[0mself\u001b[0m\u001b[1;33m.\u001b[0m\u001b[0m_iterating\u001b[0m \u001b[1;33m=\u001b[0m \u001b[0mset\u001b[0m\u001b[1;33m(\u001b[0m\u001b[1;33m)\u001b[0m\u001b[1;33m\u001b[0m\u001b[0m\n\u001b[1;32m---> 59\u001b[1;33m         \u001b[0mUserDict\u001b[0m\u001b[1;33m.\u001b[0m\u001b[0mUserDict\u001b[0m\u001b[1;33m.\u001b[0m\u001b[0m__init__\u001b[0m\u001b[1;33m(\u001b[0m\u001b[0mself\u001b[0m\u001b[1;33m,\u001b[0m \u001b[1;33m*\u001b[0m\u001b[0margs\u001b[0m\u001b[1;33m,\u001b[0m \u001b[1;33m**\u001b[0m\u001b[0mkw\u001b[0m\u001b[1;33m)\u001b[0m\u001b[1;33m\u001b[0m\u001b[0m\n\u001b[0m\u001b[0;32m     60\u001b[0m \u001b[1;33m\u001b[0m\u001b[0m\n\u001b[0;32m     61\u001b[0m     \u001b[1;32mdef\u001b[0m \u001b[0m_commit_removals\u001b[0m\u001b[1;33m(\u001b[0m\u001b[0mself\u001b[0m\u001b[1;33m)\u001b[0m\u001b[1;33m:\u001b[0m\u001b[1;33m\u001b[0m\u001b[0m\n",
      "\u001b[1;31mTypeError\u001b[0m: unbound method __init__() must be called with UserDict instance as first argument (got WeakValueDictionary instance instead)"
     ]
    }
   ],
   "source": [
    "env.plot()"
   ]
  },
  {
   "cell_type": "code",
   "execution_count": 6,
   "metadata": {
    "collapsed": false
   },
   "outputs": [
    {
     "ename": "TypeError",
     "evalue": "unbound method __init__() must be called with UserDict instance as first argument (got WeakValueDictionary instance instead)",
     "output_type": "error",
     "traceback": [
      "\u001b[1;31m---------------------------------------------------------------------------\u001b[0m",
      "\u001b[1;31mTypeError\u001b[0m                                 Traceback (most recent call last)",
      "\u001b[1;32m<ipython-input-6-66d23ff33cfe>\u001b[0m in \u001b[0;36m<module>\u001b[1;34m()\u001b[0m\n",
      "\u001b[1;32m/home/tin/lab/envelope-sur/sur/models.pyc\u001b[0m in \u001b[0;36mplot\u001b[1;34m(self, fig, critical_point, format, legends)\u001b[0m\n\u001b[0;32m    868\u001b[0m \u001b[1;33m\u001b[0m\u001b[0m\n\u001b[0;32m    869\u001b[0m         \u001b[1;32mif\u001b[0m \u001b[0mfig\u001b[0m \u001b[1;32mis\u001b[0m \u001b[0mNone\u001b[0m\u001b[1;33m:\u001b[0m\u001b[1;33m\u001b[0m\u001b[0m\n\u001b[1;32m--> 870\u001b[1;33m             \u001b[0mfig\u001b[0m\u001b[1;33m,\u001b[0m \u001b[0max\u001b[0m \u001b[1;33m=\u001b[0m \u001b[0mplt\u001b[0m\u001b[1;33m.\u001b[0m\u001b[0msubplots\u001b[0m\u001b[1;33m(\u001b[0m\u001b[1;33m)\u001b[0m\u001b[1;33m\u001b[0m\u001b[0m\n\u001b[0m\u001b[0;32m    871\u001b[0m         \u001b[1;32melse\u001b[0m\u001b[1;33m:\u001b[0m\u001b[1;33m\u001b[0m\u001b[0m\n\u001b[0;32m    872\u001b[0m             \u001b[0max\u001b[0m \u001b[1;33m=\u001b[0m \u001b[0mfig\u001b[0m\u001b[1;33m.\u001b[0m\u001b[0mget_axes\u001b[0m\u001b[1;33m(\u001b[0m\u001b[1;33m)\u001b[0m\u001b[1;33m[\u001b[0m\u001b[1;33m-\u001b[0m\u001b[1;36m1\u001b[0m\u001b[1;33m]\u001b[0m\u001b[1;33m\u001b[0m\u001b[0m\n",
      "\u001b[1;32m/home/tin/.virtualenvs/sur/local/lib/python2.7/site-packages/matplotlib/pyplot.pyc\u001b[0m in \u001b[0;36msubplots\u001b[1;34m(nrows, ncols, sharex, sharey, squeeze, subplot_kw, **fig_kw)\u001b[0m\n\u001b[0;32m   1044\u001b[0m         \u001b[0msubplot_kw\u001b[0m \u001b[1;33m=\u001b[0m \u001b[1;33m{\u001b[0m\u001b[1;33m}\u001b[0m\u001b[1;33m\u001b[0m\u001b[0m\n\u001b[0;32m   1045\u001b[0m \u001b[1;33m\u001b[0m\u001b[0m\n\u001b[1;32m-> 1046\u001b[1;33m     \u001b[0mfig\u001b[0m \u001b[1;33m=\u001b[0m \u001b[0mfigure\u001b[0m\u001b[1;33m(\u001b[0m\u001b[1;33m**\u001b[0m\u001b[0mfig_kw\u001b[0m\u001b[1;33m)\u001b[0m\u001b[1;33m\u001b[0m\u001b[0m\n\u001b[0m\u001b[0;32m   1047\u001b[0m \u001b[1;33m\u001b[0m\u001b[0m\n\u001b[0;32m   1048\u001b[0m     \u001b[1;31m# Create empty object array to hold all axes.  It's easiest to make it 1-d\u001b[0m\u001b[1;33m\u001b[0m\u001b[1;33m\u001b[0m\u001b[0m\n",
      "\u001b[1;32m/home/tin/.virtualenvs/sur/local/lib/python2.7/site-packages/matplotlib/pyplot.pyc\u001b[0m in \u001b[0;36mfigure\u001b[1;34m(num, figsize, dpi, facecolor, edgecolor, frameon, FigureClass, **kwargs)\u001b[0m\n\u001b[0;32m    421\u001b[0m                                         \u001b[0mframeon\u001b[0m\u001b[1;33m=\u001b[0m\u001b[0mframeon\u001b[0m\u001b[1;33m,\u001b[0m\u001b[1;33m\u001b[0m\u001b[0m\n\u001b[0;32m    422\u001b[0m                                         \u001b[0mFigureClass\u001b[0m\u001b[1;33m=\u001b[0m\u001b[0mFigureClass\u001b[0m\u001b[1;33m,\u001b[0m\u001b[1;33m\u001b[0m\u001b[0m\n\u001b[1;32m--> 423\u001b[1;33m                                         **kwargs)\n\u001b[0m\u001b[0;32m    424\u001b[0m \u001b[1;33m\u001b[0m\u001b[0m\n\u001b[0;32m    425\u001b[0m         \u001b[1;32mif\u001b[0m \u001b[0mfigLabel\u001b[0m\u001b[1;33m:\u001b[0m\u001b[1;33m\u001b[0m\u001b[0m\n",
      "\u001b[1;32m/home/tin/.virtualenvs/sur/local/lib/python2.7/site-packages/matplotlib/backends/backend_agg.pyc\u001b[0m in \u001b[0;36mnew_figure_manager\u001b[1;34m(num, *args, **kwargs)\u001b[0m\n\u001b[0;32m    407\u001b[0m \u001b[1;33m\u001b[0m\u001b[0m\n\u001b[0;32m    408\u001b[0m     \u001b[0mFigureClass\u001b[0m \u001b[1;33m=\u001b[0m \u001b[0mkwargs\u001b[0m\u001b[1;33m.\u001b[0m\u001b[0mpop\u001b[0m\u001b[1;33m(\u001b[0m\u001b[1;34m'FigureClass'\u001b[0m\u001b[1;33m,\u001b[0m \u001b[0mFigure\u001b[0m\u001b[1;33m)\u001b[0m\u001b[1;33m\u001b[0m\u001b[0m\n\u001b[1;32m--> 409\u001b[1;33m     \u001b[0mthisFig\u001b[0m \u001b[1;33m=\u001b[0m \u001b[0mFigureClass\u001b[0m\u001b[1;33m(\u001b[0m\u001b[1;33m*\u001b[0m\u001b[0margs\u001b[0m\u001b[1;33m,\u001b[0m \u001b[1;33m**\u001b[0m\u001b[0mkwargs\u001b[0m\u001b[1;33m)\u001b[0m\u001b[1;33m\u001b[0m\u001b[0m\n\u001b[0m\u001b[0;32m    410\u001b[0m     \u001b[1;32mreturn\u001b[0m \u001b[0mnew_figure_manager_given_figure\u001b[0m\u001b[1;33m(\u001b[0m\u001b[0mnum\u001b[0m\u001b[1;33m,\u001b[0m \u001b[0mthisFig\u001b[0m\u001b[1;33m)\u001b[0m\u001b[1;33m\u001b[0m\u001b[0m\n\u001b[0;32m    411\u001b[0m \u001b[1;33m\u001b[0m\u001b[0m\n",
      "\u001b[1;32m/home/tin/.virtualenvs/sur/local/lib/python2.7/site-packages/matplotlib/figure.pyc\u001b[0m in \u001b[0;36m__init__\u001b[1;34m(self, figsize, dpi, facecolor, edgecolor, linewidth, frameon, subplotpars, tight_layout)\u001b[0m\n\u001b[0;32m    309\u001b[0m             \u001b[0mframeon\u001b[0m \u001b[1;33m=\u001b[0m \u001b[0mrcParams\u001b[0m\u001b[1;33m[\u001b[0m\u001b[1;34m'figure.frameon'\u001b[0m\u001b[1;33m]\u001b[0m\u001b[1;33m\u001b[0m\u001b[0m\n\u001b[0;32m    310\u001b[0m \u001b[1;33m\u001b[0m\u001b[0m\n\u001b[1;32m--> 311\u001b[1;33m         \u001b[0mself\u001b[0m\u001b[1;33m.\u001b[0m\u001b[0mdpi_scale_trans\u001b[0m \u001b[1;33m=\u001b[0m \u001b[0mAffine2D\u001b[0m\u001b[1;33m(\u001b[0m\u001b[1;33m)\u001b[0m\u001b[1;33m\u001b[0m\u001b[0m\n\u001b[0m\u001b[0;32m    312\u001b[0m         \u001b[0mself\u001b[0m\u001b[1;33m.\u001b[0m\u001b[0mdpi\u001b[0m \u001b[1;33m=\u001b[0m \u001b[0mdpi\u001b[0m\u001b[1;33m\u001b[0m\u001b[0m\n\u001b[0;32m    313\u001b[0m         \u001b[0mself\u001b[0m\u001b[1;33m.\u001b[0m\u001b[0mbbox_inches\u001b[0m \u001b[1;33m=\u001b[0m \u001b[0mBbox\u001b[0m\u001b[1;33m.\u001b[0m\u001b[0mfrom_bounds\u001b[0m\u001b[1;33m(\u001b[0m\u001b[1;36m0\u001b[0m\u001b[1;33m,\u001b[0m \u001b[1;36m0\u001b[0m\u001b[1;33m,\u001b[0m \u001b[1;33m*\u001b[0m\u001b[0mfigsize\u001b[0m\u001b[1;33m)\u001b[0m\u001b[1;33m\u001b[0m\u001b[0m\n",
      "\u001b[1;32m/home/tin/.virtualenvs/sur/local/lib/python2.7/site-packages/matplotlib/transforms.pyc\u001b[0m in \u001b[0;36m__init__\u001b[1;34m(self, matrix, **kwargs)\u001b[0m\n\u001b[0;32m   1699\u001b[0m         \u001b[0mIf\u001b[0m \u001b[1;33m*\u001b[0m\u001b[0mmatrix\u001b[0m\u001b[1;33m*\u001b[0m \u001b[1;32mis\u001b[0m \u001b[0mNone\u001b[0m\u001b[1;33m,\u001b[0m \u001b[0minitialize\u001b[0m \u001b[1;32mwith\u001b[0m \u001b[0mthe\u001b[0m \u001b[0midentity\u001b[0m \u001b[0mtransform\u001b[0m\u001b[1;33m.\u001b[0m\u001b[1;33m\u001b[0m\u001b[0m\n\u001b[0;32m   1700\u001b[0m         \"\"\"\n\u001b[1;32m-> 1701\u001b[1;33m         \u001b[0mAffine2DBase\u001b[0m\u001b[1;33m.\u001b[0m\u001b[0m__init__\u001b[0m\u001b[1;33m(\u001b[0m\u001b[0mself\u001b[0m\u001b[1;33m,\u001b[0m \u001b[1;33m**\u001b[0m\u001b[0mkwargs\u001b[0m\u001b[1;33m)\u001b[0m\u001b[1;33m\u001b[0m\u001b[0m\n\u001b[0m\u001b[0;32m   1702\u001b[0m         \u001b[1;32mif\u001b[0m \u001b[0mmatrix\u001b[0m \u001b[1;32mis\u001b[0m \u001b[0mNone\u001b[0m\u001b[1;33m:\u001b[0m\u001b[1;33m\u001b[0m\u001b[0m\n\u001b[0;32m   1703\u001b[0m             \u001b[0mmatrix\u001b[0m \u001b[1;33m=\u001b[0m \u001b[0mnp\u001b[0m\u001b[1;33m.\u001b[0m\u001b[0midentity\u001b[0m\u001b[1;33m(\u001b[0m\u001b[1;36m3\u001b[0m\u001b[1;33m)\u001b[0m\u001b[1;33m\u001b[0m\u001b[0m\n",
      "\u001b[1;32m/home/tin/.virtualenvs/sur/local/lib/python2.7/site-packages/matplotlib/transforms.pyc\u001b[0m in \u001b[0;36m__init__\u001b[1;34m(self, *args, **kwargs)\u001b[0m\n\u001b[0;32m   1544\u001b[0m \u001b[1;33m\u001b[0m\u001b[0m\n\u001b[0;32m   1545\u001b[0m     \u001b[1;32mdef\u001b[0m \u001b[0m__init__\u001b[0m\u001b[1;33m(\u001b[0m\u001b[0mself\u001b[0m\u001b[1;33m,\u001b[0m \u001b[1;33m*\u001b[0m\u001b[0margs\u001b[0m\u001b[1;33m,\u001b[0m \u001b[1;33m**\u001b[0m\u001b[0mkwargs\u001b[0m\u001b[1;33m)\u001b[0m\u001b[1;33m:\u001b[0m\u001b[1;33m\u001b[0m\u001b[0m\n\u001b[1;32m-> 1546\u001b[1;33m         \u001b[0mTransform\u001b[0m\u001b[1;33m.\u001b[0m\u001b[0m__init__\u001b[0m\u001b[1;33m(\u001b[0m\u001b[0mself\u001b[0m\u001b[1;33m,\u001b[0m \u001b[1;33m*\u001b[0m\u001b[0margs\u001b[0m\u001b[1;33m,\u001b[0m \u001b[1;33m**\u001b[0m\u001b[0mkwargs\u001b[0m\u001b[1;33m)\u001b[0m\u001b[1;33m\u001b[0m\u001b[0m\n\u001b[0m\u001b[0;32m   1547\u001b[0m         \u001b[0mself\u001b[0m\u001b[1;33m.\u001b[0m\u001b[0m_inverted\u001b[0m \u001b[1;33m=\u001b[0m \u001b[0mNone\u001b[0m\u001b[1;33m\u001b[0m\u001b[0m\n\u001b[0;32m   1548\u001b[0m \u001b[1;33m\u001b[0m\u001b[0m\n",
      "\u001b[1;32m/home/tin/.virtualenvs/sur/local/lib/python2.7/site-packages/matplotlib/transforms.pyc\u001b[0m in \u001b[0;36m__init__\u001b[1;34m(self, shorthand_name)\u001b[0m\n\u001b[0;32m     91\u001b[0m         \u001b[1;31m# parents are deleted, references from the children won't keep\u001b[0m\u001b[1;33m\u001b[0m\u001b[1;33m\u001b[0m\u001b[0m\n\u001b[0;32m     92\u001b[0m         \u001b[1;31m# them alive.\u001b[0m\u001b[1;33m\u001b[0m\u001b[1;33m\u001b[0m\u001b[0m\n\u001b[1;32m---> 93\u001b[1;33m         \u001b[0mself\u001b[0m\u001b[1;33m.\u001b[0m\u001b[0m_parents\u001b[0m \u001b[1;33m=\u001b[0m \u001b[0mWeakValueDictionary\u001b[0m\u001b[1;33m(\u001b[0m\u001b[1;33m)\u001b[0m\u001b[1;33m\u001b[0m\u001b[0m\n\u001b[0m\u001b[0;32m     94\u001b[0m \u001b[1;33m\u001b[0m\u001b[0m\n\u001b[0;32m     95\u001b[0m         \u001b[1;31m# TransformNodes start out as invalid until their values are\u001b[0m\u001b[1;33m\u001b[0m\u001b[1;33m\u001b[0m\u001b[0m\n",
      "\u001b[1;32m/usr/lib/python2.7/weakref.pyc\u001b[0m in \u001b[0;36m__init__\u001b[1;34m(self, *args, **kw)\u001b[0m\n\u001b[0;32m     57\u001b[0m         \u001b[0mself\u001b[0m\u001b[1;33m.\u001b[0m\u001b[0m_pending_removals\u001b[0m \u001b[1;33m=\u001b[0m \u001b[1;33m[\u001b[0m\u001b[1;33m]\u001b[0m\u001b[1;33m\u001b[0m\u001b[0m\n\u001b[0;32m     58\u001b[0m         \u001b[0mself\u001b[0m\u001b[1;33m.\u001b[0m\u001b[0m_iterating\u001b[0m \u001b[1;33m=\u001b[0m \u001b[0mset\u001b[0m\u001b[1;33m(\u001b[0m\u001b[1;33m)\u001b[0m\u001b[1;33m\u001b[0m\u001b[0m\n\u001b[1;32m---> 59\u001b[1;33m         \u001b[0mUserDict\u001b[0m\u001b[1;33m.\u001b[0m\u001b[0mUserDict\u001b[0m\u001b[1;33m.\u001b[0m\u001b[0m__init__\u001b[0m\u001b[1;33m(\u001b[0m\u001b[0mself\u001b[0m\u001b[1;33m,\u001b[0m \u001b[1;33m*\u001b[0m\u001b[0margs\u001b[0m\u001b[1;33m,\u001b[0m \u001b[1;33m**\u001b[0m\u001b[0mkw\u001b[0m\u001b[1;33m)\u001b[0m\u001b[1;33m\u001b[0m\u001b[0m\n\u001b[0m\u001b[0;32m     60\u001b[0m \u001b[1;33m\u001b[0m\u001b[0m\n\u001b[0;32m     61\u001b[0m     \u001b[1;32mdef\u001b[0m \u001b[0m_commit_removals\u001b[0m\u001b[1;33m(\u001b[0m\u001b[0mself\u001b[0m\u001b[1;33m)\u001b[0m\u001b[1;33m:\u001b[0m\u001b[1;33m\u001b[0m\u001b[0m\n",
      "\u001b[1;31mTypeError\u001b[0m: unbound method __init__() must be called with UserDict instance as first argument (got WeakValueDictionary instance instead)"
     ]
    }
   ],
   "source": [
    "env.plot()"
   ]
  },
  {
   "cell_type": "code",
   "execution_count": 19,
   "metadata": {
    "collapsed": false
   },
   "outputs": [
    {
     "name": "stderr",
     "output_type": "stream",
     "text": [
      "/home/tin/.virtualenvs/sur/local/lib/python2.7/site-packages/numpy/lib/npyio.py:809: UserWarning: loadtxt: Empty input file: \"<cStringIO.StringI object at 0x7efdc6cdf030>\"\n",
      "  warnings.warn('loadtxt: Empty input file: \"%s\"' % fname)\n"
     ]
    }
   ],
   "source": [
    "env = mi_mezcla.get_envelope(setup)"
   ]
  },
  {
   "cell_type": "markdown",
   "metadata": {},
   "source": [
    "en `env` (variable) tenemos la envolvente. Podemos consultar, por ejemplo, sus atributos temperatura, presión, etc.\n",
    "\n",
    "\n",
    "\n"
   ]
  },
  {
   "cell_type": "code",
   "execution_count": 22,
   "metadata": {
    "collapsed": false
   },
   "outputs": [
    {
     "data": {
      "text/plain": [
       "array([  1.44200000e-02,   1.64600000e-02,   2.01600000e-02,\n",
       "         2.45700000e-02,   2.97800000e-02,   3.59200000e-02,\n",
       "         4.31100000e-02,   5.14700000e-02,   6.11500000e-02,\n",
       "         7.22700000e-02,   8.49900000e-02,   9.94400000e-02,\n",
       "         1.15800000e-01,   1.34100000e-01,   1.54500000e-01,\n",
       "         1.77100000e-01,   2.02000000e-01,   2.29200000e-01,\n",
       "         2.58800000e-01,   2.90700000e-01,   3.24900000e-01,\n",
       "         4.05600000e-01,   5.23400000e-01,   6.71100000e-01,\n",
       "         8.54900000e-01,   1.08200000e+00,   1.36100000e+00,\n",
       "         1.70100000e+00,   2.11100000e+00,   2.60400000e+00,\n",
       "         3.19200000e+00,   3.88700000e+00,   4.70400000e+00,\n",
       "         5.65700000e+00,   6.75900000e+00,   8.02800000e+00,\n",
       "         9.47500000e+00,   1.11200000e+01,   1.29700000e+01,\n",
       "         1.50400000e+01,   1.73400000e+01,   1.98900000e+01,\n",
       "         2.26900000e+01,   2.57500000e+01,   2.90700000e+01,\n",
       "         3.26600000e+01,   3.65200000e+01,   4.06600000e+01,\n",
       "         4.50600000e+01,   4.97300000e+01,   5.46600000e+01,\n",
       "         5.98400000e+01,   6.52700000e+01,   7.09400000e+01,\n",
       "         7.71600000e+01,   8.40100000e+01,   9.15900000e+01,\n",
       "         1.00000000e+02,   1.09400000e+02,   1.18800000e+02,\n",
       "         1.27600000e+02,   1.35800000e+02,   1.43600000e+02,\n",
       "         1.50900000e+02,   1.54400000e+02,   1.64100000e+02,\n",
       "         1.70000000e+02,   1.75400000e+02,   1.80400000e+02,\n",
       "         1.84800000e+02,   1.88700000e+02,   1.92100000e+02,\n",
       "         1.95000000e+02,   1.97400000e+02,   1.99300000e+02,\n",
       "         2.00700000e+02,   2.01200000e+02,   2.01600000e+02,\n",
       "         2.01800000e+02,   2.02000000e+02,   2.02000000e+02,\n",
       "         2.01600000e+02,   2.01200000e+02,   2.00700000e+02,\n",
       "         2.00000000e+02,   1.99200000e+02,   1.98200000e+02,\n",
       "         1.97100000e+02,   1.95900000e+02,   1.94600000e+02,\n",
       "         1.93300000e+02,   1.90200000e+02,   1.88200000e+02,\n",
       "         1.86100000e+02,   1.83900000e+02,   1.81700000e+02,\n",
       "         1.79400000e+02,   1.74600000e+02,   1.72000000e+02,\n",
       "         1.66500000e+02,   1.60900000e+02,   1.55200000e+02,\n",
       "         1.49500000e+02,   1.43900000e+02,   1.38400000e+02,\n",
       "         1.33100000e+02,   1.28000000e+02,   1.23000000e+02,\n",
       "         1.18400000e+02,   1.13900000e+02,   1.09600000e+02,\n",
       "         1.05500000e+02,   1.01700000e+02,   9.79600000e+01,\n",
       "         9.44300000e+01,   9.10500000e+01,   8.78100000e+01,\n",
       "         8.47000000e+01,   8.17100000e+01,   7.88300000e+01,\n",
       "         7.60400000e+01,   7.33500000e+01,   7.07400000e+01,\n",
       "         6.82100000e+01,   6.57500000e+01,   6.33700000e+01,\n",
       "         6.10400000e+01,   5.87900000e+01,   5.65900000e+01,\n",
       "         5.44400000e+01,   5.23600000e+01,   5.03300000e+01,\n",
       "         4.83500000e+01,   4.64300000e+01,   4.45600000e+01,\n",
       "         4.27400000e+01,   4.09700000e+01,   3.92500000e+01,\n",
       "         3.75900000e+01,   3.59700000e+01,   3.44000000e+01,\n",
       "         3.28800000e+01,   3.14100000e+01,   2.99800000e+01,\n",
       "         2.86000000e+01,   2.72700000e+01,   2.59800000e+01,\n",
       "         2.47400000e+01,   2.35400000e+01,   2.23900000e+01,\n",
       "         2.12800000e+01,   2.02100000e+01,   1.91800000e+01,\n",
       "         1.81900000e+01,   1.72400000e+01,   1.63300000e+01,\n",
       "         1.54500000e+01,   1.46200000e+01,   1.38100000e+01,\n",
       "         1.30500000e+01,   1.23100000e+01,   1.16100000e+01,\n",
       "         1.09400000e+01,   1.03000000e+01,   9.69100000e+00,\n",
       "         9.11100000e+00,   8.55800000e+00,   8.03200000e+00,\n",
       "         7.53200000e+00,   7.05800000e+00,   6.60800000e+00,\n",
       "         6.18100000e+00,   5.77700000e+00,   5.39400000e+00,\n",
       "         5.03200000e+00])"
      ]
     },
     "execution_count": 22,
     "metadata": {},
     "output_type": "execute_result"
    }
   ],
   "source": [
    "env.p"
   ]
  },
  {
   "cell_type": "code",
   "execution_count": 25,
   "metadata": {
    "collapsed": false
   },
   "outputs": [
    {
     "name": "stdout",
     "output_type": "stream",
     "text": [
      "3\t\tNC\r\n",
      "0.25  0.5  0.25  \t\tz1,z2...zNC\r\n",
      "3\t\t\t\tNMODEL (1:SRK / 2:PR / 3:RKPR)\r\n",
      "0  0\t\t\tncomb, nTdep\r\n",
      "METHANE(1)\r\n",
      "190.564  45.99 0.0115478  0.116530154855 1.16          tc, pc, ohm, vc, zrat\r\n",
      "2.30376807604   0.0304337956072   0.5   1.54083758839\t\tac, b, delta1, k\r\n",
      "CARBON DIOXIDE(2)\r\n",
      "304.21  73.83 0.223621  0.109039999995 1.16          tc, pc, ohm, vc, zrat\r\n",
      "3.85211219359   0.027914651867   1.85325193495   2.20290185161\t\tac, b, delta1, k\r\n",
      "0.1 \t\tkij\r\n",
      "0.0 \t\tlij\r\n",
      "n-DECANE(3)\r\n",
      "617.7  21.1 0.492328  0.756468369911 1.16          tc, pc, ohm, vc, zrat\r\n",
      "56.6610724692   0.192140038284   2.239538   3.11337933794\t\tac, b, delta1, k\r\n",
      "0.0   0.091 \t\tkij\r\n",
      "-0.145519   0.0 \t\tlij\r\n",
      "\r\n",
      "\n"
     ]
    }
   ],
   "source": [
    "print(env.input_txt)"
   ]
  },
  {
   "cell_type": "code",
   "execution_count": 27,
   "metadata": {
    "collapsed": false
   },
   "outputs": [
    {
     "name": "stdout",
     "output_type": "stream",
     "text": [
      "METHANE(1)        \r\n",
      "Tc= 190.5640   Pc =  45.9900   Vc =  0.1005   OM = 0.0115\r\n",
      "Zc=   0.2916 Zcrat=   1.1600 Zceos=  0.3382 Vceos= 0.1165\r\n",
      "ac=   2.3038    b =   0.0304  del1=  0.5000    k = 1.5408\r\n",
      "CARBON DIOXIDE(2) \r\n",
      "Tc= 304.2100   Pc =  73.8300   Vc =  0.0940   OM = 0.2236\r\n",
      "Zc=   0.2744 Zcrat=   1.1600 Zceos=  0.3183 Vceos= 0.1090\r\n",
      "ac=   3.8521    b =   0.0279  del1=  1.8533    k = 2.2029\r\n",
      "n-DECANE(3)       \r\n",
      "Tc= 617.7000   Pc =  21.1000   Vc =  0.6521   OM = 0.4923\r\n",
      "Zc=   0.2679 Zcrat=   1.1600 Zceos=  0.3108 Vceos= 0.7565\r\n",
      "ac=  56.6611    b =   0.1921  del1=  2.2395    k = 3.1134\r\n",
      " \r\n",
      " Tc, Pc and Vc are given in K, bar and L/mol respectively\r\n",
      " \r\n",
      "   Kij MATRIX\r\n",
      "METHANE(1)        \r\n",
      "CARBON DIOXIDE(2)    0.10000\r\n",
      "n-DECANE(3)          0.00000   0.09100\r\n",
      " \r\n",
      "   LIJ MATRIX\r\n",
      "METHANE(1)        \r\n",
      "CARBON DIOXIDE(2)    0.00000\r\n",
      "n-DECANE(3)         -0.14552   0.00000\r\n",
      " \r\n",
      "  Combining rules:\r\n",
      "  0: Classical or van der Waals \r\n",
      " \r\n",
      "Molar fractions:  0.250 0.500 0.250\r\n",
      "  x    0.2500E+00  0.5000E+00  0.2500E+00\r\n",
      "  y    0.5166E+00  0.4812E+00  0.2137E-02\r\n",
      "  x    0.2500E+00  0.5000E+00  0.2500E+00\r\n",
      "  y    0.5263E+00  0.4720E+00  0.1718E-02\r\n",
      "  x    0.2500E+00  0.5000E+00  0.2500E+00\r\n",
      "  y    0.5361E+00  0.4626E+00  0.1375E-02\r\n",
      "  x    0.2500E+00  0.5000E+00  0.2500E+00\r\n",
      "  y    0.5458E+00  0.4531E+00  0.1094E-02\r\n",
      "  x    0.2500E+00  0.5000E+00  0.2500E+00\r\n",
      "  y    0.5556E+00  0.4435E+00  0.8667E-03\r\n",
      "  x    0.2500E+00  0.5000E+00  0.2500E+00\r\n",
      "  y    0.5655E+00  0.4338E+00  0.6832E-03\r\n",
      "  x    0.2500E+00  0.5000E+00  0.2500E+00\r\n",
      "  y    0.5753E+00  0.4241E+00  0.5358E-03\r\n",
      "  x    0.2500E+00  0.5000E+00  0.2500E+00\r\n",
      "  y    0.5852E+00  0.4144E+00  0.4182E-03\r\n",
      "  x    0.2500E+00  0.5000E+00  0.2500E+00\r\n",
      "  y    0.5951E+00  0.4046E+00  0.3247E-03\r\n",
      "  x    0.2500E+00  0.5000E+00  0.2500E+00\r\n",
      "  y    0.6050E+00  0.3948E+00  0.2509E-03\r\n",
      "  x    0.2500E+00  0.5000E+00  0.2500E+00\r\n",
      "  y    0.6149E+00  0.3849E+00  0.1930E-03\r\n",
      "  x    0.2500E+00  0.5000E+00  0.2500E+00\r\n",
      "  y    0.6248E+00  0.3751E+00  0.1476E-03\r\n",
      "  x    0.2500E+00  0.5000E+00  0.2500E+00\r\n",
      "  y    0.6347E+00  0.3652E+00  0.1124E-03\r\n",
      "  x    0.2500E+00  0.5000E+00  0.2500E+00\r\n",
      "  y    0.6445E+00  0.3554E+00  0.8515E-04\r\n",
      "  x    0.2500E+00  0.5000E+00  0.2500E+00\r\n",
      "  y    0.6544E+00  0.3456E+00  0.6419E-04\r\n",
      "  x    0.2500E+00  0.5000E+00  0.2500E+00\r\n",
      "  y    0.6642E+00  0.3357E+00  0.4815E-04\r\n",
      "  x    0.2500E+00  0.5000E+00  0.2500E+00\r\n",
      "  y    0.6740E+00  0.3259E+00  0.3594E-04\r\n",
      "  x    0.2500E+00  0.5000E+00  0.2500E+00\r\n",
      "  y    0.6838E+00  0.3161E+00  0.2669E-04\r\n",
      "  x    0.2500E+00  0.5000E+00  0.2500E+00\r\n",
      "  y    0.6936E+00  0.3064E+00  0.1973E-04\r\n",
      "  x    0.2500E+00  0.5000E+00  0.2500E+00\r\n",
      "  y    0.7033E+00  0.2967E+00  0.1451E-04\r\n",
      "  x    0.2500E+00  0.5000E+00  0.2500E+00\r\n",
      "  y    0.7129E+00  0.2870E+00  0.1062E-04\r\n",
      "  x    0.2500E+00  0.5000E+00  0.2500E+00\r\n",
      "  y    0.7225E+00  0.2774E+00  0.7730E-05\r\n",
      "  x    0.2500E+00  0.5000E+00  0.2500E+00\r\n",
      "  y    0.7321E+00  0.2679E+00  0.5600E-05\r\n",
      "  x    0.2500E+00  0.5000E+00  0.2500E+00\r\n",
      "  y    0.7415E+00  0.2585E+00  0.4037E-05\r\n",
      "  x    0.2500E+00  0.5000E+00  0.2500E+00\r\n",
      "  y    0.7509E+00  0.2491E+00  0.2896E-05\r\n",
      "  x    0.2500E+00  0.5000E+00  0.2500E+00\r\n",
      "  y    0.7602E+00  0.2398E+00  0.2067E-05\r\n",
      "  x    0.2500E+00  0.5000E+00  0.2500E+00\r\n",
      "  y    0.7693E+00  0.2307E+00  0.1468E-05\r\n",
      "  x    0.2500E+00  0.5000E+00  0.2500E+00\r\n",
      "  y    0.7784E+00  0.2216E+00  0.1038E-05\r\n",
      "  x    0.2500E+00  0.5000E+00  0.2500E+00\r\n",
      "  y    0.7873E+00  0.2127E+00  0.7299E-06\r\n",
      "  x    0.2500E+00  0.5000E+00  0.2500E+00\r\n",
      "  y    0.7961E+00  0.2039E+00  0.5108E-06\r\n",
      "  x    0.2500E+00  0.5000E+00  0.2500E+00\r\n",
      "  y    0.8047E+00  0.1953E+00  0.3557E-06\r\n",
      "  x    0.2500E+00  0.5000E+00  0.2500E+00\r\n",
      "  y    0.8132E+00  0.1868E+00  0.2464E-06\r\n",
      "  x    0.2500E+00  0.5000E+00  0.2500E+00\r\n",
      "  y    0.8215E+00  0.1785E+00  0.1699E-06\r\n",
      "  x    0.2500E+00  0.5000E+00  0.2500E+00\r\n",
      "  y    0.8296E+00  0.1704E+00  0.1165E-06\r\n",
      "  x    0.2500E+00  0.5000E+00  0.2500E+00\r\n",
      "  y    0.8376E+00  0.1624E+00  0.7956E-07\r\n",
      "  x    0.2500E+00  0.5000E+00  0.2500E+00\r\n",
      "  y    0.8453E+00  0.1547E+00  0.5404E-07\r\n",
      "  x    0.2500E+00  0.5000E+00  0.2500E+00\r\n",
      "  y    0.8529E+00  0.1471E+00  0.3652E-07\r\n",
      "  x    0.2500E+00  0.5000E+00  0.2500E+00\r\n",
      "  y    0.8603E+00  0.1397E+00  0.2456E-07\r\n",
      "  x    0.2500E+00  0.5000E+00  0.2500E+00\r\n",
      "  y    0.8674E+00  0.1326E+00  0.1644E-07\r\n",
      "  x    0.2500E+00  0.5000E+00  0.2500E+00\r\n",
      "  y    0.8743E+00  0.1257E+00  0.1094E-07\r\n",
      "  x    0.2500E+00  0.5000E+00  0.2500E+00\r\n",
      "  y    0.8811E+00  0.1189E+00  0.7252E-08\r\n",
      "  x    0.2500E+00  0.5000E+00  0.2500E+00\r\n",
      "  y    0.8876E+00  0.1124E+00  0.4781E-08\r\n",
      "  x    0.2500E+00  0.5000E+00  0.2500E+00\r\n",
      "  y    0.8938E+00  0.1062E+00  0.3136E-08\r\n",
      "  x    0.2500E+00  0.5000E+00  0.2500E+00\r\n",
      "  y    0.8999E+00  0.1001E+00  0.2047E-08\r\n",
      "  x    0.2500E+00  0.5000E+00  0.2500E+00\r\n",
      "  y    0.9057E+00  0.9432E-01  0.1330E-08\r\n",
      "  x    0.2500E+00  0.5000E+00  0.2500E+00\r\n",
      "  y    0.9113E+00  0.8874E-01  0.8594E-09\r\n",
      "  x    0.2500E+00  0.5000E+00  0.2500E+00\r\n",
      "  y    0.9166E+00  0.8339E-01  0.5527E-09\r\n",
      "  x    0.2500E+00  0.5000E+00  0.2500E+00\r\n",
      "  y    0.9217E+00  0.7826E-01  0.3537E-09\r\n",
      "  x    0.2500E+00  0.5000E+00  0.2500E+00\r\n",
      "  y    0.9266E+00  0.7336E-01  0.2252E-09\r\n",
      "  x    0.2500E+00  0.5000E+00  0.2500E+00\r\n",
      "  y    0.9313E+00  0.6868E-01  0.1427E-09\r\n",
      "  x    0.2500E+00  0.5000E+00  0.2500E+00\r\n",
      "  y    0.9358E+00  0.6422E-01  0.8995E-10\r\n",
      "  x    0.2500E+00  0.5000E+00  0.2500E+00\r\n",
      "  y    0.9400E+00  0.5997E-01  0.5643E-10\r\n",
      "  x    0.2500E+00  0.5000E+00  0.2500E+00\r\n",
      "  y    0.9441E+00  0.5594E-01  0.3522E-10\r\n",
      "  x    0.2500E+00  0.5000E+00  0.2500E+00\r\n",
      "  y    0.9479E+00  0.5211E-01  0.2188E-10\r\n",
      "  x    0.2500E+00  0.5000E+00  0.2500E+00\r\n",
      "  y    0.9515E+00  0.4849E-01  0.1352E-10\r\n",
      "  x    0.2500E+00  0.5000E+00  0.2500E+00\r\n",
      "  y    0.9549E+00  0.4507E-01  0.8314E-11\r\n",
      "  x    0.2500E+00  0.5000E+00  0.2500E+00\r\n",
      "  y    0.9582E+00  0.4183E-01  0.5087E-11\r\n",
      "  x    0.2500E+00  0.5000E+00  0.2500E+00\r\n",
      "  y    0.9612E+00  0.3878E-01  0.3097E-11\r\n",
      "  x    0.2500E+00  0.5000E+00  0.2500E+00\r\n",
      "  y    0.9641E+00  0.3591E-01  0.1876E-11\r\n",
      "  x    0.2500E+00  0.5000E+00  0.2500E+00\r\n",
      "  y    0.9668E+00  0.3321E-01  0.1131E-11\r\n",
      "  x    0.2500E+00  0.5000E+00  0.2500E+00\r\n",
      "  y    0.9693E+00  0.3067E-01  0.6785E-12\r\n",
      "  x    0.2500E+00  0.5000E+00  0.2500E+00\r\n",
      "  y    0.9717E+00  0.2830E-01  0.4050E-12\r\n",
      "  x    0.2500E+00  0.5000E+00  0.2500E+00\r\n",
      "  y    0.9739E+00  0.2607E-01  0.2405E-12\r\n",
      "  x    0.2500E+00  0.5000E+00  0.2500E+00\r\n",
      "  y    0.9760E+00  0.2400E-01  0.1421E-12\r\n",
      "  x    0.2500E+00  0.5000E+00  0.2500E+00\r\n",
      "  y    0.9779E+00  0.2206E-01  0.8358E-13\r\n",
      "  x    0.2500E+00  0.5000E+00  0.2500E+00\r\n",
      "  y    0.9797E+00  0.2025E-01  0.4890E-13\r\n",
      " \r\n",
      "    T(K)        P(bar)        D(mol/L)\r\n",
      "    310.0000    0.1442E-01    0.5596E-03\r\n",
      "    312.0833    0.1646E-01    0.6347E-03\r\n",
      "    315.3334    0.2016E-01    0.7693E-03\r\n",
      "    318.5817    0.2457E-01    0.9278E-03\r\n",
      "    321.8256    0.2978E-01    0.1114E-02\r\n",
      "    325.0618    0.3592E-01    0.1330E-02\r\n",
      "    328.2870    0.4311E-01    0.1580E-02\r\n",
      "    331.4979    0.5147E-01    0.1869E-02\r\n",
      "    334.6908    0.6115E-01    0.2199E-02\r\n",
      "    337.8618    0.7227E-01    0.2575E-02\r\n",
      "    341.0071    0.8499E-01    0.3001E-02\r\n",
      "    344.1223    0.9944E-01    0.3480E-02\r\n",
      "    347.2033    0.1158E+00    0.4016E-02\r\n",
      "    350.2456    0.1341E+00    0.4612E-02\r\n",
      "    353.2444    0.1545E+00    0.5270E-02\r\n",
      "    356.1952    0.1771E+00    0.5993E-02\r\n",
      "    359.0929    0.2020E+00    0.6782E-02\r\n",
      "    361.9326    0.2292E+00    0.7638E-02\r\n",
      "    364.7092    0.2588E+00    0.8560E-02\r\n",
      "    367.4176    0.2907E+00    0.9547E-02\r\n",
      "    370.0526    0.3249E+00    0.1060E-01\r\n",
      "    375.4492    0.4056E+00    0.1305E-01\r\n",
      "    381.8890    0.5234E+00    0.1657E-01\r\n",
      "    388.4249    0.6711E+00    0.2091E-01\r\n",
      "    395.0497    0.8549E+00    0.2622E-01\r\n",
      "    401.7551    0.1082E+01    0.3269E-01\r\n",
      "    408.5312    0.1361E+01    0.4050E-01\r\n",
      "    415.3667    0.1701E+01    0.4987E-01\r\n",
      "    422.2482    0.2111E+01    0.6104E-01\r\n",
      "    429.1612    0.2604E+01    0.7427E-01\r\n",
      "    436.0893    0.3192E+01    0.8984E-01\r\n",
      "    443.0145    0.3887E+01    0.1080E+00\r\n",
      "    449.9174    0.4704E+01    0.1292E+00\r\n",
      "    456.7773    0.5657E+01    0.1536E+00\r\n",
      "    463.5724    0.6759E+01    0.1816E+00\r\n",
      "    470.2797    0.8028E+01    0.2135E+00\r\n",
      "    476.8758    0.9475E+01    0.2498E+00\r\n",
      "    483.3365    0.1112E+02    0.2906E+00\r\n",
      "    489.6373    0.1297E+02    0.3365E+00\r\n",
      "    495.7541    0.1504E+02    0.3877E+00\r\n",
      "    501.6625    0.1734E+02    0.4445E+00\r\n",
      "    507.3389    0.1989E+02    0.5072E+00\r\n",
      "    512.7602    0.2269E+02    0.5763E+00\r\n",
      "    517.9040    0.2575E+02    0.6519E+00\r\n",
      "    522.7490    0.2907E+02    0.7343E+00\r\n",
      "    527.2748    0.3266E+02    0.8239E+00\r\n",
      "    531.4620    0.3652E+02    0.9207E+00\r\n",
      "    535.2922    0.4066E+02    0.1025E+01\r\n",
      "    538.7482    0.4506E+02    0.1137E+01\r\n",
      "    541.8137    0.4973E+02    0.1257E+01\r\n",
      "    544.4731    0.5466E+02    0.1385E+01\r\n",
      "    546.7121    0.5984E+02    0.1521E+01\r\n",
      "    548.5169    0.6527E+02    0.1666E+01\r\n",
      "    549.8788    0.7094E+02    0.1819E+01\r\n",
      "    550.8162    0.7716E+02    0.1989E+01\r\n",
      "    551.2360    0.8401E+02    0.2180E+01\r\n",
      "    551.0150    0.9159E+02    0.2395E+01\r\n",
      "    549.9858    0.1000E+03    0.2640E+01\r\n",
      "    547.9151    0.1094E+03    0.2921E+01\r\n",
      "    544.9110    0.1188E+03    0.3210E+01\r\n",
      "    541.2341    0.1276E+03    0.3492E+01\r\n",
      "    536.9976    0.1358E+03    0.3766E+01\r\n",
      "    532.2864    0.1436E+03    0.4035E+01\r\n",
      "    527.1669    0.1509E+03    0.4297E+01\r\n",
      "    524.4715    0.1544E+03    0.4426E+01\r\n",
      "    515.9140    0.1641E+03    0.4805E+01\r\n",
      "    509.8688    0.1700E+03    0.5051E+01\r\n",
      "    503.5958    0.1754E+03    0.5291E+01\r\n",
      "    497.1301    0.1804E+03    0.5526E+01\r\n",
      "    490.5047    0.1848E+03    0.5754E+01\r\n",
      "    483.7510    0.1887E+03    0.5977E+01\r\n",
      "    476.8995    0.1921E+03    0.6193E+01\r\n",
      "    469.9794    0.1950E+03    0.6404E+01\r\n",
      "    463.0191    0.1974E+03    0.6608E+01\r\n",
      "    456.0457    0.1993E+03    0.6805E+01\r\n",
      "    449.0857    0.2007E+03    0.6995E+01\r\n",
      "    445.4863    0.2012E+03    0.7092E+01\r\n",
      "    441.9006    0.2016E+03    0.7186E+01\r\n",
      "    438.3320    0.2018E+03    0.7278E+01\r\n",
      "    434.7837    0.2020E+03    0.7369E+01\r\n",
      "    431.2588    0.2020E+03    0.7458E+01\r\n",
      "    424.2910    0.2016E+03    0.7630E+01\r\n",
      "    420.3194    0.2012E+03    0.7726E+01\r\n",
      "    416.3945    0.2007E+03    0.7819E+01\r\n",
      "    412.5202    0.2000E+03    0.7910E+01\r\n",
      "    408.7000    0.1992E+03    0.7999E+01\r\n",
      "    404.9371    0.1982E+03    0.8085E+01\r\n",
      "    401.2346    0.1971E+03    0.8168E+01\r\n",
      "    397.5952    0.1959E+03    0.8250E+01\r\n",
      "    394.0213    0.1946E+03    0.8329E+01\r\n",
      "    390.5151    0.1933E+03    0.8405E+01\r\n",
      "    383.7132    0.1902E+03    0.8551E+01\r\n",
      "    379.7462    0.1882E+03    0.8635E+01\r\n",
      "    375.8867    0.1861E+03    0.8715E+01\r\n",
      "    372.1359    0.1839E+03    0.8793E+01\r\n",
      "    368.4946    0.1817E+03    0.8867E+01\r\n",
      "    364.9629    0.1794E+03    0.8939E+01\r\n",
      "    358.2265    0.1746E+03    0.9074E+01\r\n",
      "    354.6604    0.1720E+03    0.9144E+01\r\n",
      "    347.9187    0.1665E+03    0.9275E+01\r\n",
      "    341.4057    0.1609E+03    0.9400E+01\r\n",
      "    335.2389    0.1552E+03    0.9517E+01\r\n",
      "    329.4222    0.1495E+03    0.9626E+01\r\n",
      "    323.9512    0.1439E+03    0.9728E+01\r\n",
      "    318.8144    0.1384E+03    0.9823E+01\r\n",
      "    313.9956    0.1331E+03    0.9911E+01\r\n",
      "    309.4744    0.1280E+03    0.9993E+01\r\n",
      "    305.2285    0.1230E+03    0.1007E+02\r\n",
      "    301.2344    0.1184E+03    0.1014E+02\r\n",
      "    297.4685    0.1139E+03    0.1021E+02\r\n",
      "    293.9078    0.1096E+03    0.1027E+02\r\n",
      "    290.5301    0.1055E+03    0.1033E+02\r\n",
      "    287.3146    0.1017E+03    0.1039E+02\r\n",
      "    284.2421    0.9796E+02    0.1045E+02\r\n",
      "    281.2947    0.9443E+02    0.1050E+02\r\n",
      "    278.4564    0.9105E+02    0.1055E+02\r\n",
      "    275.7124    0.8781E+02    0.1060E+02\r\n",
      "    273.0497    0.8470E+02    0.1065E+02\r\n",
      "    270.4565    0.8171E+02    0.1070E+02\r\n",
      "    267.9224    0.7883E+02    0.1074E+02\r\n",
      "    265.4384    0.7604E+02    0.1079E+02\r\n",
      "    262.9962    0.7335E+02    0.1083E+02\r\n",
      "    260.5890    0.7074E+02    0.1087E+02\r\n",
      "    258.2107    0.6821E+02    0.1092E+02\r\n",
      "    255.8562    0.6575E+02    0.1096E+02\r\n",
      "    253.5209    0.6337E+02    0.1100E+02\r\n",
      "    251.2014    0.6104E+02    0.1104E+02\r\n",
      "    248.8943    0.5879E+02    0.1108E+02\r\n",
      "    246.5974    0.5659E+02    0.1112E+02\r\n",
      "    244.3085    0.5444E+02    0.1116E+02\r\n",
      "    242.0261    0.5236E+02    0.1121E+02\r\n",
      "    239.7491    0.5033E+02    0.1125E+02\r\n",
      "    237.4765    0.4835E+02    0.1129E+02\r\n",
      "    235.2078    0.4643E+02    0.1133E+02\r\n",
      "    232.9426    0.4456E+02    0.1136E+02\r\n",
      "    230.6810    0.4274E+02    0.1140E+02\r\n",
      "    228.4230    0.4097E+02    0.1144E+02\r\n",
      "    226.1689    0.3925E+02    0.1148E+02\r\n",
      "    223.9189    0.3759E+02    0.1152E+02\r\n",
      "    221.6736    0.3597E+02    0.1156E+02\r\n",
      "    219.4335    0.3440E+02    0.1160E+02\r\n",
      "    217.1993    0.3288E+02    0.1164E+02\r\n",
      "    214.9716    0.3141E+02    0.1167E+02\r\n",
      "    212.7511    0.2998E+02    0.1171E+02\r\n",
      "    210.5385    0.2860E+02    0.1175E+02\r\n",
      "    208.3345    0.2727E+02    0.1178E+02\r\n",
      "    206.1399    0.2598E+02    0.1182E+02\r\n",
      "    203.9553    0.2474E+02    0.1185E+02\r\n",
      "    201.7815    0.2354E+02    0.1189E+02\r\n",
      "    199.6192    0.2239E+02    0.1192E+02\r\n",
      "    197.4689    0.2128E+02    0.1196E+02\r\n",
      "    195.3314    0.2021E+02    0.1199E+02\r\n",
      "    193.2072    0.1918E+02    0.1202E+02\r\n",
      "    191.0970    0.1819E+02    0.1206E+02\r\n",
      "    189.0011    0.1724E+02    0.1209E+02\r\n",
      "    186.9202    0.1633E+02    0.1212E+02\r\n",
      "    184.8547    0.1545E+02    0.1215E+02\r\n",
      "    182.8049    0.1462E+02    0.1218E+02\r\n",
      "    180.7714    0.1381E+02    0.1221E+02\r\n",
      "    178.7545    0.1305E+02    0.1224E+02\r\n",
      "    176.7545    0.1231E+02    0.1227E+02\r\n",
      "    174.7718    0.1161E+02    0.1230E+02\r\n",
      "    172.8065    0.1094E+02    0.1233E+02\r\n",
      "    170.8589    0.1030E+02    0.1236E+02\r\n",
      "    168.9294    0.9691E+01    0.1238E+02\r\n",
      "    167.0179    0.9111E+01    0.1241E+02\r\n",
      "    165.1248    0.8558E+01    0.1244E+02\r\n",
      "    163.2502    0.8032E+01    0.1246E+02\r\n",
      "    161.3942    0.7532E+01    0.1249E+02\r\n",
      "    159.5569    0.7058E+01    0.1251E+02\r\n",
      "    157.7385    0.6608E+01    0.1254E+02\r\n",
      "    155.9389    0.6181E+01    0.1256E+02\r\n",
      "    154.1583    0.5777E+01    0.1258E+02\r\n",
      "    152.3968    0.5394E+01    0.1261E+02\r\n",
      "    150.6543    0.5032E+01    0.1263E+02\r\n",
      " \r\n",
      "  Number of critical points found:            1\r\n",
      "    T(K)        P(bar)        D(mol/L)\r\n",
      "    520.3626    0.1591E+03    0.4608E+01   65\r\n",
      "\n"
     ]
    }
   ],
   "source": [
    "print(env.output_txt)"
   ]
  },
  {
   "cell_type": "code",
   "execution_count": 31,
   "metadata": {
    "collapsed": false
   },
   "outputs": [
    {
     "ename": "TypeError",
     "evalue": "unbound method __init__() must be called with UserDict instance as first argument (got WeakValueDictionary instance instead)",
     "output_type": "error",
     "traceback": [
      "\u001b[1;31m---------------------------------------------------------------------------\u001b[0m",
      "\u001b[1;31mTypeError\u001b[0m                                 Traceback (most recent call last)",
      "\u001b[1;32m<ipython-input-31-66d23ff33cfe>\u001b[0m in \u001b[0;36m<module>\u001b[1;34m()\u001b[0m\n",
      "\u001b[1;32m/home/tin/lab/envelope-sur/sur/models.pyc\u001b[0m in \u001b[0;36mplot\u001b[1;34m(self, fig, critical_point, format, legends)\u001b[0m\n\u001b[0;32m    868\u001b[0m \u001b[1;33m\u001b[0m\u001b[0m\n\u001b[0;32m    869\u001b[0m         \u001b[1;32mif\u001b[0m \u001b[0mfig\u001b[0m \u001b[1;32mis\u001b[0m \u001b[0mNone\u001b[0m\u001b[1;33m:\u001b[0m\u001b[1;33m\u001b[0m\u001b[0m\n\u001b[1;32m--> 870\u001b[1;33m             \u001b[0mfig\u001b[0m\u001b[1;33m,\u001b[0m \u001b[0max\u001b[0m \u001b[1;33m=\u001b[0m \u001b[0mplt\u001b[0m\u001b[1;33m.\u001b[0m\u001b[0msubplots\u001b[0m\u001b[1;33m(\u001b[0m\u001b[1;33m)\u001b[0m\u001b[1;33m\u001b[0m\u001b[0m\n\u001b[0m\u001b[0;32m    871\u001b[0m         \u001b[1;32melse\u001b[0m\u001b[1;33m:\u001b[0m\u001b[1;33m\u001b[0m\u001b[0m\n\u001b[0;32m    872\u001b[0m             \u001b[0max\u001b[0m \u001b[1;33m=\u001b[0m \u001b[0mfig\u001b[0m\u001b[1;33m.\u001b[0m\u001b[0mget_axes\u001b[0m\u001b[1;33m(\u001b[0m\u001b[1;33m)\u001b[0m\u001b[1;33m[\u001b[0m\u001b[1;33m-\u001b[0m\u001b[1;36m1\u001b[0m\u001b[1;33m]\u001b[0m\u001b[1;33m\u001b[0m\u001b[0m\n",
      "\u001b[1;32m/home/tin/.virtualenvs/sur/local/lib/python2.7/site-packages/matplotlib/pyplot.pyc\u001b[0m in \u001b[0;36msubplots\u001b[1;34m(nrows, ncols, sharex, sharey, squeeze, subplot_kw, **fig_kw)\u001b[0m\n\u001b[0;32m   1044\u001b[0m         \u001b[0msubplot_kw\u001b[0m \u001b[1;33m=\u001b[0m \u001b[1;33m{\u001b[0m\u001b[1;33m}\u001b[0m\u001b[1;33m\u001b[0m\u001b[0m\n\u001b[0;32m   1045\u001b[0m \u001b[1;33m\u001b[0m\u001b[0m\n\u001b[1;32m-> 1046\u001b[1;33m     \u001b[0mfig\u001b[0m \u001b[1;33m=\u001b[0m \u001b[0mfigure\u001b[0m\u001b[1;33m(\u001b[0m\u001b[1;33m**\u001b[0m\u001b[0mfig_kw\u001b[0m\u001b[1;33m)\u001b[0m\u001b[1;33m\u001b[0m\u001b[0m\n\u001b[0m\u001b[0;32m   1047\u001b[0m \u001b[1;33m\u001b[0m\u001b[0m\n\u001b[0;32m   1048\u001b[0m     \u001b[1;31m# Create empty object array to hold all axes.  It's easiest to make it 1-d\u001b[0m\u001b[1;33m\u001b[0m\u001b[1;33m\u001b[0m\u001b[0m\n",
      "\u001b[1;32m/home/tin/.virtualenvs/sur/local/lib/python2.7/site-packages/matplotlib/pyplot.pyc\u001b[0m in \u001b[0;36mfigure\u001b[1;34m(num, figsize, dpi, facecolor, edgecolor, frameon, FigureClass, **kwargs)\u001b[0m\n\u001b[0;32m    421\u001b[0m                                         \u001b[0mframeon\u001b[0m\u001b[1;33m=\u001b[0m\u001b[0mframeon\u001b[0m\u001b[1;33m,\u001b[0m\u001b[1;33m\u001b[0m\u001b[0m\n\u001b[0;32m    422\u001b[0m                                         \u001b[0mFigureClass\u001b[0m\u001b[1;33m=\u001b[0m\u001b[0mFigureClass\u001b[0m\u001b[1;33m,\u001b[0m\u001b[1;33m\u001b[0m\u001b[0m\n\u001b[1;32m--> 423\u001b[1;33m                                         **kwargs)\n\u001b[0m\u001b[0;32m    424\u001b[0m \u001b[1;33m\u001b[0m\u001b[0m\n\u001b[0;32m    425\u001b[0m         \u001b[1;32mif\u001b[0m \u001b[0mfigLabel\u001b[0m\u001b[1;33m:\u001b[0m\u001b[1;33m\u001b[0m\u001b[0m\n",
      "\u001b[1;32m/home/tin/.virtualenvs/sur/local/lib/python2.7/site-packages/matplotlib/backends/backend_agg.pyc\u001b[0m in \u001b[0;36mnew_figure_manager\u001b[1;34m(num, *args, **kwargs)\u001b[0m\n\u001b[0;32m    407\u001b[0m \u001b[1;33m\u001b[0m\u001b[0m\n\u001b[0;32m    408\u001b[0m     \u001b[0mFigureClass\u001b[0m \u001b[1;33m=\u001b[0m \u001b[0mkwargs\u001b[0m\u001b[1;33m.\u001b[0m\u001b[0mpop\u001b[0m\u001b[1;33m(\u001b[0m\u001b[1;34m'FigureClass'\u001b[0m\u001b[1;33m,\u001b[0m \u001b[0mFigure\u001b[0m\u001b[1;33m)\u001b[0m\u001b[1;33m\u001b[0m\u001b[0m\n\u001b[1;32m--> 409\u001b[1;33m     \u001b[0mthisFig\u001b[0m \u001b[1;33m=\u001b[0m \u001b[0mFigureClass\u001b[0m\u001b[1;33m(\u001b[0m\u001b[1;33m*\u001b[0m\u001b[0margs\u001b[0m\u001b[1;33m,\u001b[0m \u001b[1;33m**\u001b[0m\u001b[0mkwargs\u001b[0m\u001b[1;33m)\u001b[0m\u001b[1;33m\u001b[0m\u001b[0m\n\u001b[0m\u001b[0;32m    410\u001b[0m     \u001b[1;32mreturn\u001b[0m \u001b[0mnew_figure_manager_given_figure\u001b[0m\u001b[1;33m(\u001b[0m\u001b[0mnum\u001b[0m\u001b[1;33m,\u001b[0m \u001b[0mthisFig\u001b[0m\u001b[1;33m)\u001b[0m\u001b[1;33m\u001b[0m\u001b[0m\n\u001b[0;32m    411\u001b[0m \u001b[1;33m\u001b[0m\u001b[0m\n",
      "\u001b[1;32m/home/tin/.virtualenvs/sur/local/lib/python2.7/site-packages/matplotlib/figure.pyc\u001b[0m in \u001b[0;36m__init__\u001b[1;34m(self, figsize, dpi, facecolor, edgecolor, linewidth, frameon, subplotpars, tight_layout)\u001b[0m\n\u001b[0;32m    309\u001b[0m             \u001b[0mframeon\u001b[0m \u001b[1;33m=\u001b[0m \u001b[0mrcParams\u001b[0m\u001b[1;33m[\u001b[0m\u001b[1;34m'figure.frameon'\u001b[0m\u001b[1;33m]\u001b[0m\u001b[1;33m\u001b[0m\u001b[0m\n\u001b[0;32m    310\u001b[0m \u001b[1;33m\u001b[0m\u001b[0m\n\u001b[1;32m--> 311\u001b[1;33m         \u001b[0mself\u001b[0m\u001b[1;33m.\u001b[0m\u001b[0mdpi_scale_trans\u001b[0m \u001b[1;33m=\u001b[0m \u001b[0mAffine2D\u001b[0m\u001b[1;33m(\u001b[0m\u001b[1;33m)\u001b[0m\u001b[1;33m\u001b[0m\u001b[0m\n\u001b[0m\u001b[0;32m    312\u001b[0m         \u001b[0mself\u001b[0m\u001b[1;33m.\u001b[0m\u001b[0mdpi\u001b[0m \u001b[1;33m=\u001b[0m \u001b[0mdpi\u001b[0m\u001b[1;33m\u001b[0m\u001b[0m\n\u001b[0;32m    313\u001b[0m         \u001b[0mself\u001b[0m\u001b[1;33m.\u001b[0m\u001b[0mbbox_inches\u001b[0m \u001b[1;33m=\u001b[0m \u001b[0mBbox\u001b[0m\u001b[1;33m.\u001b[0m\u001b[0mfrom_bounds\u001b[0m\u001b[1;33m(\u001b[0m\u001b[1;36m0\u001b[0m\u001b[1;33m,\u001b[0m \u001b[1;36m0\u001b[0m\u001b[1;33m,\u001b[0m \u001b[1;33m*\u001b[0m\u001b[0mfigsize\u001b[0m\u001b[1;33m)\u001b[0m\u001b[1;33m\u001b[0m\u001b[0m\n",
      "\u001b[1;32m/home/tin/.virtualenvs/sur/local/lib/python2.7/site-packages/matplotlib/transforms.pyc\u001b[0m in \u001b[0;36m__init__\u001b[1;34m(self, matrix, **kwargs)\u001b[0m\n\u001b[0;32m   1699\u001b[0m         \u001b[0mIf\u001b[0m \u001b[1;33m*\u001b[0m\u001b[0mmatrix\u001b[0m\u001b[1;33m*\u001b[0m \u001b[1;32mis\u001b[0m \u001b[0mNone\u001b[0m\u001b[1;33m,\u001b[0m \u001b[0minitialize\u001b[0m \u001b[1;32mwith\u001b[0m \u001b[0mthe\u001b[0m \u001b[0midentity\u001b[0m \u001b[0mtransform\u001b[0m\u001b[1;33m.\u001b[0m\u001b[1;33m\u001b[0m\u001b[0m\n\u001b[0;32m   1700\u001b[0m         \"\"\"\n\u001b[1;32m-> 1701\u001b[1;33m         \u001b[0mAffine2DBase\u001b[0m\u001b[1;33m.\u001b[0m\u001b[0m__init__\u001b[0m\u001b[1;33m(\u001b[0m\u001b[0mself\u001b[0m\u001b[1;33m,\u001b[0m \u001b[1;33m**\u001b[0m\u001b[0mkwargs\u001b[0m\u001b[1;33m)\u001b[0m\u001b[1;33m\u001b[0m\u001b[0m\n\u001b[0m\u001b[0;32m   1702\u001b[0m         \u001b[1;32mif\u001b[0m \u001b[0mmatrix\u001b[0m \u001b[1;32mis\u001b[0m \u001b[0mNone\u001b[0m\u001b[1;33m:\u001b[0m\u001b[1;33m\u001b[0m\u001b[0m\n\u001b[0;32m   1703\u001b[0m             \u001b[0mmatrix\u001b[0m \u001b[1;33m=\u001b[0m \u001b[0mnp\u001b[0m\u001b[1;33m.\u001b[0m\u001b[0midentity\u001b[0m\u001b[1;33m(\u001b[0m\u001b[1;36m3\u001b[0m\u001b[1;33m)\u001b[0m\u001b[1;33m\u001b[0m\u001b[0m\n",
      "\u001b[1;32m/home/tin/.virtualenvs/sur/local/lib/python2.7/site-packages/matplotlib/transforms.pyc\u001b[0m in \u001b[0;36m__init__\u001b[1;34m(self, *args, **kwargs)\u001b[0m\n\u001b[0;32m   1544\u001b[0m \u001b[1;33m\u001b[0m\u001b[0m\n\u001b[0;32m   1545\u001b[0m     \u001b[1;32mdef\u001b[0m \u001b[0m__init__\u001b[0m\u001b[1;33m(\u001b[0m\u001b[0mself\u001b[0m\u001b[1;33m,\u001b[0m \u001b[1;33m*\u001b[0m\u001b[0margs\u001b[0m\u001b[1;33m,\u001b[0m \u001b[1;33m**\u001b[0m\u001b[0mkwargs\u001b[0m\u001b[1;33m)\u001b[0m\u001b[1;33m:\u001b[0m\u001b[1;33m\u001b[0m\u001b[0m\n\u001b[1;32m-> 1546\u001b[1;33m         \u001b[0mTransform\u001b[0m\u001b[1;33m.\u001b[0m\u001b[0m__init__\u001b[0m\u001b[1;33m(\u001b[0m\u001b[0mself\u001b[0m\u001b[1;33m,\u001b[0m \u001b[1;33m*\u001b[0m\u001b[0margs\u001b[0m\u001b[1;33m,\u001b[0m \u001b[1;33m**\u001b[0m\u001b[0mkwargs\u001b[0m\u001b[1;33m)\u001b[0m\u001b[1;33m\u001b[0m\u001b[0m\n\u001b[0m\u001b[0;32m   1547\u001b[0m         \u001b[0mself\u001b[0m\u001b[1;33m.\u001b[0m\u001b[0m_inverted\u001b[0m \u001b[1;33m=\u001b[0m \u001b[0mNone\u001b[0m\u001b[1;33m\u001b[0m\u001b[0m\n\u001b[0;32m   1548\u001b[0m \u001b[1;33m\u001b[0m\u001b[0m\n",
      "\u001b[1;32m/home/tin/.virtualenvs/sur/local/lib/python2.7/site-packages/matplotlib/transforms.pyc\u001b[0m in \u001b[0;36m__init__\u001b[1;34m(self, shorthand_name)\u001b[0m\n\u001b[0;32m     91\u001b[0m         \u001b[1;31m# parents are deleted, references from the children won't keep\u001b[0m\u001b[1;33m\u001b[0m\u001b[1;33m\u001b[0m\u001b[0m\n\u001b[0;32m     92\u001b[0m         \u001b[1;31m# them alive.\u001b[0m\u001b[1;33m\u001b[0m\u001b[1;33m\u001b[0m\u001b[0m\n\u001b[1;32m---> 93\u001b[1;33m         \u001b[0mself\u001b[0m\u001b[1;33m.\u001b[0m\u001b[0m_parents\u001b[0m \u001b[1;33m=\u001b[0m \u001b[0mWeakValueDictionary\u001b[0m\u001b[1;33m(\u001b[0m\u001b[1;33m)\u001b[0m\u001b[1;33m\u001b[0m\u001b[0m\n\u001b[0m\u001b[0;32m     94\u001b[0m \u001b[1;33m\u001b[0m\u001b[0m\n\u001b[0;32m     95\u001b[0m         \u001b[1;31m# TransformNodes start out as invalid until their values are\u001b[0m\u001b[1;33m\u001b[0m\u001b[1;33m\u001b[0m\u001b[0m\n",
      "\u001b[1;32m/usr/lib/python2.7/weakref.pyc\u001b[0m in \u001b[0;36m__init__\u001b[1;34m(self, *args, **kw)\u001b[0m\n\u001b[0;32m     57\u001b[0m         \u001b[0mself\u001b[0m\u001b[1;33m.\u001b[0m\u001b[0m_pending_removals\u001b[0m \u001b[1;33m=\u001b[0m \u001b[1;33m[\u001b[0m\u001b[1;33m]\u001b[0m\u001b[1;33m\u001b[0m\u001b[0m\n\u001b[0;32m     58\u001b[0m         \u001b[0mself\u001b[0m\u001b[1;33m.\u001b[0m\u001b[0m_iterating\u001b[0m \u001b[1;33m=\u001b[0m \u001b[0mset\u001b[0m\u001b[1;33m(\u001b[0m\u001b[1;33m)\u001b[0m\u001b[1;33m\u001b[0m\u001b[0m\n\u001b[1;32m---> 59\u001b[1;33m         \u001b[0mUserDict\u001b[0m\u001b[1;33m.\u001b[0m\u001b[0mUserDict\u001b[0m\u001b[1;33m.\u001b[0m\u001b[0m__init__\u001b[0m\u001b[1;33m(\u001b[0m\u001b[0mself\u001b[0m\u001b[1;33m,\u001b[0m \u001b[1;33m*\u001b[0m\u001b[0margs\u001b[0m\u001b[1;33m,\u001b[0m \u001b[1;33m**\u001b[0m\u001b[0mkw\u001b[0m\u001b[1;33m)\u001b[0m\u001b[1;33m\u001b[0m\u001b[0m\n\u001b[0m\u001b[0;32m     60\u001b[0m \u001b[1;33m\u001b[0m\u001b[0m\n\u001b[0;32m     61\u001b[0m     \u001b[1;32mdef\u001b[0m \u001b[0m_commit_removals\u001b[0m\u001b[1;33m(\u001b[0m\u001b[0mself\u001b[0m\u001b[1;33m)\u001b[0m\u001b[1;33m:\u001b[0m\u001b[1;33m\u001b[0m\u001b[0m\n",
      "\u001b[1;31mTypeError\u001b[0m: unbound method __init__() must be called with UserDict instance as first argument (got WeakValueDictionary instance instead)"
     ]
    }
   ],
   "source": [
    "env.plot()"
   ]
  },
  {
   "cell_type": "markdown",
   "metadata": {},
   "source": [
    "## Graficación de envolventes"
   ]
  },
  {
   "cell_type": "code",
   "execution_count": null,
   "metadata": {
    "collapsed": false
   },
   "outputs": [],
   "source": [
    "fig = env.plot()\n",
    "fig"
   ]
  },
  {
   "cell_type": "code",
   "execution_count": null,
   "metadata": {
    "collapsed": false
   },
   "outputs": [],
   "source": [
    "multiplot??"
   ]
  },
  {
   "cell_type": "markdown",
   "metadata": {},
   "source": [
    "La figura puede manipularse a posteriori. Por ejemplo"
   ]
  },
  {
   "cell_type": "code",
   "execution_count": null,
   "metadata": {
    "collapsed": false
   },
   "outputs": [],
   "source": [
    "ax = fig.get_axes()[0]\n",
    "ax.set_yticks([0] + ax.get_yticks()[1:])\n",
    "fig"
   ]
  },
  {
   "cell_type": "code",
   "execution_count": null,
   "metadata": {
    "collapsed": false
   },
   "outputs": [],
   "source": [
    "ax.set_ylim((-50/3, 250))\n",
    "fig"
   ]
  },
  {
   "cell_type": "markdown",
   "metadata": {},
   "source": [
    "Pero también, acepta algunos parámetros de configuración en la llamada. Por ejemplo, el parámetro `format` permite definir el estilo"
   ]
  },
  {
   "cell_type": "code",
   "execution_count": null,
   "metadata": {
    "collapsed": false
   },
   "outputs": [],
   "source": [
    "env.plot(format='k')   # envolvente en linea negra continua"
   ]
  },
  {
   "cell_type": "code",
   "execution_count": null,
   "metadata": {
    "collapsed": false
   },
   "outputs": [],
   "source": [
    "env.plot(critical_point='^', format='|y')    # envolvente en amarillo punteado y punto critico como un triangulo"
   ]
  },
  {
   "cell_type": "markdown",
   "metadata": {},
   "source": [
    "## Datos experimentales\n",
    "\n",
    "Se pueden asociar datos experimentales de una envolvente a una mezcla a traves de `experimental_envelope`. Por ejemplo, a modo de ejemplo, alteramos los datos de la envolvente calculada a modo de datos experimentales."
   ]
  },
  {
   "cell_type": "code",
   "execution_count": null,
   "metadata": {
    "collapsed": false
   },
   "outputs": [],
   "source": [
    "n = env.p.size\n",
    "\n",
    "p = env.p[np.arange(0, n, 7)]  * 1.1\n",
    "t = env.t[np.arange(0, n, 7)]\n",
    "exp_env = m.experimental_envelope(t, p)\n",
    "exp_fig = exp_env.plot()\n",
    "exp_fig"
   ]
  },
  {
   "cell_type": "markdown",
   "metadata": {},
   "source": [
    "Los graficos pueden encadenarse. Por ejemplo, podemos graficar la envolvente simulada y nuestra envolvente *experimental*"
   ]
  },
  {
   "cell_type": "code",
   "execution_count": null,
   "metadata": {
    "collapsed": false
   },
   "outputs": [],
   "source": [
    "env.plot(exp_fig)"
   ]
  },
  {
   "cell_type": "markdown",
   "metadata": {},
   "source": [
    "## Cálculo de flashes\n",
    "\n",
    "Un flash se representa como un objeto que produce dos mezclas con los mismos compuestos que la mezcla de entrada pero distinta fraccion. "
   ]
  },
  {
   "cell_type": "code",
   "execution_count": null,
   "metadata": {
    "collapsed": false
   },
   "outputs": [],
   "source": [
    "flash = m.get_flash(setup, 400, 100)"
   ]
  },
  {
   "cell_type": "code",
   "execution_count": null,
   "metadata": {
    "collapsed": false
   },
   "outputs": [],
   "source": [
    "flash.vapour_mixture"
   ]
  },
  {
   "cell_type": "code",
   "execution_count": null,
   "metadata": {
    "collapsed": false
   },
   "outputs": [],
   "source": [
    "flash.liquid_mixture.z"
   ]
  },
  {
   "cell_type": "markdown",
   "metadata": {},
   "source": [
    "O, lo que es lo mismo"
   ]
  },
  {
   "cell_type": "code",
   "execution_count": null,
   "metadata": {
    "collapsed": false
   },
   "outputs": [],
   "source": [
    "flash.x"
   ]
  },
  {
   "cell_type": "markdown",
   "metadata": {},
   "source": [
    "`liquid_mixture` y `vapour_mixture` son mezclas, por lo que podemos simular sus envolventes con el mismo setup. Luego, grafiquemos todo junto"
   ]
  },
  {
   "cell_type": "code",
   "execution_count": null,
   "metadata": {
    "collapsed": false
   },
   "outputs": [],
   "source": [
    "le = flash.liquid_mixture.get_envelope(setup)\n",
    "ve = flash.vapour_mixture.get_envelope(setup)\n",
    "\n",
    "env.plot(ve.plot(le.plot()))"
   ]
  },
  {
   "cell_type": "code",
   "execution_count": null,
   "metadata": {
    "collapsed": false
   },
   "outputs": [],
   "source": [
    "fig = env.plot()"
   ]
  },
  {
   "cell_type": "code",
   "execution_count": null,
   "metadata": {
    "collapsed": false
   },
   "outputs": [],
   "source": [
    "fig."
   ]
  }
 ],
 "metadata": {
  "kernelspec": {
   "display_name": "Python 2",
   "language": "python",
   "name": "python2"
  },
  "language_info": {
   "codemirror_mode": {
    "name": "ipython",
    "version": 2
   },
   "file_extension": ".py",
   "mimetype": "text/x-python",
   "name": "python",
   "nbconvert_exporter": "python",
   "pygments_lexer": "ipython2",
   "version": "2.7.10"
  }
 },
 "nbformat": 4,
 "nbformat_minor": 0
}
